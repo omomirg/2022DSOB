{
 "cells": [
  {
   "cell_type": "code",
   "execution_count": null,
   "metadata": {
    "colab": {
     "base_uri": "https://localhost:8080/"
    },
    "id": "Wt5yp35HTwIF",
    "outputId": "768c90f5-a605-4c3f-be61-207063b819ce"
   },
   "outputs": [
    {
     "name": "stdout",
     "output_type": "stream",
     "text": [
      "Looking in indexes: https://pypi.org/simple, https://us-python.pkg.dev/colab-wheels/public/simple/\n",
      "Collecting yfinance\n",
      "  Downloading yfinance-0.1.87-py2.py3-none-any.whl (29 kB)\n",
      "Requirement already satisfied: appdirs>=1.4.4 in /usr/local/lib/python3.7/dist-packages (from yfinance) (1.4.4)\n",
      "Requirement already satisfied: pandas>=0.24.0 in /usr/local/lib/python3.7/dist-packages (from yfinance) (1.3.5)\n",
      "Requirement already satisfied: multitasking>=0.0.7 in /usr/local/lib/python3.7/dist-packages (from yfinance) (0.0.11)\n",
      "Requirement already satisfied: numpy>=1.15 in /usr/local/lib/python3.7/dist-packages (from yfinance) (1.21.6)\n",
      "Requirement already satisfied: lxml>=4.5.1 in /usr/local/lib/python3.7/dist-packages (from yfinance) (4.9.1)\n",
      "Collecting requests>=2.26\n",
      "  Downloading requests-2.28.1-py3-none-any.whl (62 kB)\n",
      "\u001b[K     |████████████████████████████████| 62 kB 692 kB/s \n",
      "\u001b[?25hRequirement already satisfied: pytz>=2017.3 in /usr/local/lib/python3.7/dist-packages (from pandas>=0.24.0->yfinance) (2022.6)\n",
      "Requirement already satisfied: python-dateutil>=2.7.3 in /usr/local/lib/python3.7/dist-packages (from pandas>=0.24.0->yfinance) (2.8.2)\n",
      "Requirement already satisfied: six>=1.5 in /usr/local/lib/python3.7/dist-packages (from python-dateutil>=2.7.3->pandas>=0.24.0->yfinance) (1.15.0)\n",
      "Requirement already satisfied: charset-normalizer<3,>=2 in /usr/local/lib/python3.7/dist-packages (from requests>=2.26->yfinance) (2.1.1)\n",
      "Requirement already satisfied: certifi>=2017.4.17 in /usr/local/lib/python3.7/dist-packages (from requests>=2.26->yfinance) (2022.9.24)\n",
      "Requirement already satisfied: urllib3<1.27,>=1.21.1 in /usr/local/lib/python3.7/dist-packages (from requests>=2.26->yfinance) (1.24.3)\n",
      "Requirement already satisfied: idna<4,>=2.5 in /usr/local/lib/python3.7/dist-packages (from requests>=2.26->yfinance) (2.10)\n",
      "Installing collected packages: requests, yfinance\n",
      "  Attempting uninstall: requests\n",
      "    Found existing installation: requests 2.23.0\n",
      "    Uninstalling requests-2.23.0:\n",
      "      Successfully uninstalled requests-2.23.0\n",
      "Successfully installed requests-2.28.1 yfinance-0.1.87\n"
     ]
    }
   ],
   "source": [
    "!pip install yfinance"
   ]
  },
  {
   "cell_type": "code",
   "execution_count": null,
   "metadata": {
    "id": "bWTZnWi5TX0E"
   },
   "outputs": [],
   "source": [
    "import numpy as np\n",
    "import pandas as pd\n",
    "import yfinance as yf"
   ]
  },
  {
   "cell_type": "code",
   "execution_count": null,
   "metadata": {
    "id": "WAZTomwOT7BM"
   },
   "outputs": [],
   "source": [
    "RISKY_ASSET = '005930.KS'\n",
    "#START_DATE = '2008-01-01'\n",
    "START_DATE = '2012-06-30'\n",
    "END_DATE = '2022-06-30'"
   ]
  },
  {
   "cell_type": "code",
   "execution_count": null,
   "metadata": {
    "colab": {
     "base_uri": "https://localhost:8080/",
     "height": 472
    },
    "id": "WSPalQHCkfGS",
    "outputId": "6bd3d58d-42bf-41ef-ab2b-4aac99123c7a"
   },
   "outputs": [
    {
     "name": "stdout",
     "output_type": "stream",
     "text": [
      "\r[*********************100%***********************]  1 of 1 completed\n"
     ]
    },
    {
     "data": {
      "text/html": [
       "\n",
       "  <div id=\"df-f06c2c8c-c940-43fd-a533-ac81f445eef0\">\n",
       "    <div class=\"colab-df-container\">\n",
       "      <div>\n",
       "<style scoped>\n",
       "    .dataframe tbody tr th:only-of-type {\n",
       "        vertical-align: middle;\n",
       "    }\n",
       "\n",
       "    .dataframe tbody tr th {\n",
       "        vertical-align: top;\n",
       "    }\n",
       "\n",
       "    .dataframe thead th {\n",
       "        text-align: right;\n",
       "    }\n",
       "</style>\n",
       "<table border=\"1\" class=\"dataframe\">\n",
       "  <thead>\n",
       "    <tr style=\"text-align: right;\">\n",
       "      <th></th>\n",
       "      <th>Open</th>\n",
       "      <th>High</th>\n",
       "      <th>Low</th>\n",
       "      <th>Close</th>\n",
       "      <th>Adj Close</th>\n",
       "      <th>Volume</th>\n",
       "    </tr>\n",
       "    <tr>\n",
       "      <th>Date</th>\n",
       "      <th></th>\n",
       "      <th></th>\n",
       "      <th></th>\n",
       "      <th></th>\n",
       "      <th></th>\n",
       "      <th></th>\n",
       "    </tr>\n",
       "  </thead>\n",
       "  <tbody>\n",
       "    <tr>\n",
       "      <th>2012-07-02</th>\n",
       "      <td>24160.0</td>\n",
       "      <td>24180.0</td>\n",
       "      <td>23420.0</td>\n",
       "      <td>23480.0</td>\n",
       "      <td>18786.896484</td>\n",
       "      <td>19106750</td>\n",
       "    </tr>\n",
       "    <tr>\n",
       "      <th>2012-07-03</th>\n",
       "      <td>23640.0</td>\n",
       "      <td>23860.0</td>\n",
       "      <td>23400.0</td>\n",
       "      <td>23500.0</td>\n",
       "      <td>18802.896484</td>\n",
       "      <td>15801550</td>\n",
       "    </tr>\n",
       "    <tr>\n",
       "      <th>2012-07-04</th>\n",
       "      <td>23640.0</td>\n",
       "      <td>23940.0</td>\n",
       "      <td>23560.0</td>\n",
       "      <td>23820.0</td>\n",
       "      <td>19058.933594</td>\n",
       "      <td>19158750</td>\n",
       "    </tr>\n",
       "    <tr>\n",
       "      <th>2012-07-05</th>\n",
       "      <td>23740.0</td>\n",
       "      <td>23880.0</td>\n",
       "      <td>23540.0</td>\n",
       "      <td>23700.0</td>\n",
       "      <td>18962.919922</td>\n",
       "      <td>9068550</td>\n",
       "    </tr>\n",
       "    <tr>\n",
       "      <th>2012-07-06</th>\n",
       "      <td>23880.0</td>\n",
       "      <td>23880.0</td>\n",
       "      <td>23060.0</td>\n",
       "      <td>23220.0</td>\n",
       "      <td>18578.863281</td>\n",
       "      <td>21158900</td>\n",
       "    </tr>\n",
       "    <tr>\n",
       "      <th>...</th>\n",
       "      <td>...</td>\n",
       "      <td>...</td>\n",
       "      <td>...</td>\n",
       "      <td>...</td>\n",
       "      <td>...</td>\n",
       "      <td>...</td>\n",
       "    </tr>\n",
       "    <tr>\n",
       "      <th>2022-06-23</th>\n",
       "      <td>57700.0</td>\n",
       "      <td>58000.0</td>\n",
       "      <td>56800.0</td>\n",
       "      <td>57400.0</td>\n",
       "      <td>56661.824219</td>\n",
       "      <td>28338608</td>\n",
       "    </tr>\n",
       "    <tr>\n",
       "      <th>2022-06-24</th>\n",
       "      <td>57900.0</td>\n",
       "      <td>59100.0</td>\n",
       "      <td>57700.0</td>\n",
       "      <td>58400.0</td>\n",
       "      <td>57648.964844</td>\n",
       "      <td>23256103</td>\n",
       "    </tr>\n",
       "    <tr>\n",
       "      <th>2022-06-27</th>\n",
       "      <td>59000.0</td>\n",
       "      <td>59900.0</td>\n",
       "      <td>58300.0</td>\n",
       "      <td>58800.0</td>\n",
       "      <td>58043.820312</td>\n",
       "      <td>18122236</td>\n",
       "    </tr>\n",
       "    <tr>\n",
       "      <th>2022-06-28</th>\n",
       "      <td>59200.0</td>\n",
       "      <td>59500.0</td>\n",
       "      <td>58700.0</td>\n",
       "      <td>59400.0</td>\n",
       "      <td>58636.105469</td>\n",
       "      <td>13540538</td>\n",
       "    </tr>\n",
       "    <tr>\n",
       "      <th>2022-06-29</th>\n",
       "      <td>58500.0</td>\n",
       "      <td>58800.0</td>\n",
       "      <td>58000.0</td>\n",
       "      <td>58000.0</td>\n",
       "      <td>57604.195312</td>\n",
       "      <td>14677138</td>\n",
       "    </tr>\n",
       "  </tbody>\n",
       "</table>\n",
       "<p>2457 rows × 6 columns</p>\n",
       "</div>\n",
       "      <button class=\"colab-df-convert\" onclick=\"convertToInteractive('df-f06c2c8c-c940-43fd-a533-ac81f445eef0')\"\n",
       "              title=\"Convert this dataframe to an interactive table.\"\n",
       "              style=\"display:none;\">\n",
       "        \n",
       "  <svg xmlns=\"http://www.w3.org/2000/svg\" height=\"24px\"viewBox=\"0 0 24 24\"\n",
       "       width=\"24px\">\n",
       "    <path d=\"M0 0h24v24H0V0z\" fill=\"none\"/>\n",
       "    <path d=\"M18.56 5.44l.94 2.06.94-2.06 2.06-.94-2.06-.94-.94-2.06-.94 2.06-2.06.94zm-11 1L8.5 8.5l.94-2.06 2.06-.94-2.06-.94L8.5 2.5l-.94 2.06-2.06.94zm10 10l.94 2.06.94-2.06 2.06-.94-2.06-.94-.94-2.06-.94 2.06-2.06.94z\"/><path d=\"M17.41 7.96l-1.37-1.37c-.4-.4-.92-.59-1.43-.59-.52 0-1.04.2-1.43.59L10.3 9.45l-7.72 7.72c-.78.78-.78 2.05 0 2.83L4 21.41c.39.39.9.59 1.41.59.51 0 1.02-.2 1.41-.59l7.78-7.78 2.81-2.81c.8-.78.8-2.07 0-2.86zM5.41 20L4 18.59l7.72-7.72 1.47 1.35L5.41 20z\"/>\n",
       "  </svg>\n",
       "      </button>\n",
       "      \n",
       "  <style>\n",
       "    .colab-df-container {\n",
       "      display:flex;\n",
       "      flex-wrap:wrap;\n",
       "      gap: 12px;\n",
       "    }\n",
       "\n",
       "    .colab-df-convert {\n",
       "      background-color: #E8F0FE;\n",
       "      border: none;\n",
       "      border-radius: 50%;\n",
       "      cursor: pointer;\n",
       "      display: none;\n",
       "      fill: #1967D2;\n",
       "      height: 32px;\n",
       "      padding: 0 0 0 0;\n",
       "      width: 32px;\n",
       "    }\n",
       "\n",
       "    .colab-df-convert:hover {\n",
       "      background-color: #E2EBFA;\n",
       "      box-shadow: 0px 1px 2px rgba(60, 64, 67, 0.3), 0px 1px 3px 1px rgba(60, 64, 67, 0.15);\n",
       "      fill: #174EA6;\n",
       "    }\n",
       "\n",
       "    [theme=dark] .colab-df-convert {\n",
       "      background-color: #3B4455;\n",
       "      fill: #D2E3FC;\n",
       "    }\n",
       "\n",
       "    [theme=dark] .colab-df-convert:hover {\n",
       "      background-color: #434B5C;\n",
       "      box-shadow: 0px 1px 3px 1px rgba(0, 0, 0, 0.15);\n",
       "      filter: drop-shadow(0px 1px 2px rgba(0, 0, 0, 0.3));\n",
       "      fill: #FFFFFF;\n",
       "    }\n",
       "  </style>\n",
       "\n",
       "      <script>\n",
       "        const buttonEl =\n",
       "          document.querySelector('#df-f06c2c8c-c940-43fd-a533-ac81f445eef0 button.colab-df-convert');\n",
       "        buttonEl.style.display =\n",
       "          google.colab.kernel.accessAllowed ? 'block' : 'none';\n",
       "\n",
       "        async function convertToInteractive(key) {\n",
       "          const element = document.querySelector('#df-f06c2c8c-c940-43fd-a533-ac81f445eef0');\n",
       "          const dataTable =\n",
       "            await google.colab.kernel.invokeFunction('convertToInteractive',\n",
       "                                                     [key], {});\n",
       "          if (!dataTable) return;\n",
       "\n",
       "          const docLinkHtml = 'Like what you see? Visit the ' +\n",
       "            '<a target=\"_blank\" href=https://colab.research.google.com/notebooks/data_table.ipynb>data table notebook</a>'\n",
       "            + ' to learn more about interactive tables.';\n",
       "          element.innerHTML = '';\n",
       "          dataTable['output_type'] = 'display_data';\n",
       "          await google.colab.output.renderOutput(dataTable, element);\n",
       "          const docLink = document.createElement('div');\n",
       "          docLink.innerHTML = docLinkHtml;\n",
       "          element.appendChild(docLink);\n",
       "        }\n",
       "      </script>\n",
       "    </div>\n",
       "  </div>\n",
       "  "
      ],
      "text/plain": [
       "               Open     High      Low    Close     Adj Close    Volume\n",
       "Date                                                                  \n",
       "2012-07-02  24160.0  24180.0  23420.0  23480.0  18786.896484  19106750\n",
       "2012-07-03  23640.0  23860.0  23400.0  23500.0  18802.896484  15801550\n",
       "2012-07-04  23640.0  23940.0  23560.0  23820.0  19058.933594  19158750\n",
       "2012-07-05  23740.0  23880.0  23540.0  23700.0  18962.919922   9068550\n",
       "2012-07-06  23880.0  23880.0  23060.0  23220.0  18578.863281  21158900\n",
       "...             ...      ...      ...      ...           ...       ...\n",
       "2022-06-23  57700.0  58000.0  56800.0  57400.0  56661.824219  28338608\n",
       "2022-06-24  57900.0  59100.0  57700.0  58400.0  57648.964844  23256103\n",
       "2022-06-27  59000.0  59900.0  58300.0  58800.0  58043.820312  18122236\n",
       "2022-06-28  59200.0  59500.0  58700.0  59400.0  58636.105469  13540538\n",
       "2022-06-29  58500.0  58800.0  58000.0  58000.0  57604.195312  14677138\n",
       "\n",
       "[2457 rows x 6 columns]"
      ]
     },
     "execution_count": 39,
     "metadata": {},
     "output_type": "execute_result"
    }
   ],
   "source": [
    "df = yf.download(RISKY_ASSET, start=START_DATE, end=END_DATE, adjusted=True)\n",
    "df"
   ]
  },
  {
   "cell_type": "code",
   "execution_count": null,
   "metadata": {
    "colab": {
     "base_uri": "https://localhost:8080/",
     "height": 320
    },
    "id": "BgbnHFL_kxkx",
    "outputId": "2d3ae127-aaa3-4276-85ae-2bee613ee6b9"
   },
   "outputs": [
    {
     "name": "stdout",
     "output_type": "stream",
     "text": [
      "Average return: 0.06%\n"
     ]
    },
    {
     "data": {
      "text/plain": [
       "<matplotlib.axes._subplots.AxesSubplot at 0x7f6ad3c3c250>"
      ]
     },
     "execution_count": 40,
     "metadata": {},
     "output_type": "execute_result"
    },
    {
     "data": {
      "image/png": "[encoded data removed]",
      "text/plain": [
       "<Figure size 432x288 with 1 Axes>"
      ]
     },
     "metadata": {
      "needs_background": "light"
     },
     "output_type": "display_data"
    }
   ],
   "source": [
    "#일수익률 계산\n",
    "adj_close = df['Adj Close']\n",
    "returns = adj_close.pct_change().dropna() # pct_change : 한 객체 내에서 행과 행의 차이를 현재값과의 백분율로 출력하는 메서드\n",
    "print(f'Average return: {100 * returns.mean():.2f}%')\n",
    "\n",
    "returns.plot(title=f'{RISKY_ASSET} returns: {START_DATE} - {END_DATE}')"
   ]
  },
  {
   "cell_type": "code",
   "execution_count": null,
   "metadata": {
    "colab": {
     "base_uri": "https://localhost:8080/"
    },
    "id": "a-L6vxxlkxnu",
    "outputId": "36aa520b-254b-408e-8a50-332bf903a3c9"
   },
   "outputs": [
    {
     "data": {
      "text/plain": [
       "Date\n",
       "2012-07-03    0.000852\n",
       "2012-07-04    0.013617\n",
       "2012-07-05   -0.005038\n",
       "2012-07-06   -0.020253\n",
       "2012-07-09   -0.030146\n",
       "                ...   \n",
       "2022-06-23   -0.003472\n",
       "2022-06-24    0.017422\n",
       "2022-06-27    0.006849\n",
       "2022-06-28    0.010204\n",
       "2022-06-29   -0.017599\n",
       "Name: Adj Close, Length: 2456, dtype: float64"
      ]
     },
     "execution_count": 41,
     "metadata": {},
     "output_type": "execute_result"
    }
   ],
   "source": [
    "returns"
   ]
  },
  {
   "cell_type": "markdown",
   "metadata": {
    "id": "CXc9yFweuf6a"
   },
   "source": [
    "과거 데이터를 통해 미래의 수익률을 정확히 알아내는것은 불가능합니다. 하지만 과거 기간동안의 움직임을 바탕으로 기대수익률을 추정할 수는 있습니다. 가장 간단한 추정 방법은 전체 기간동안 수익률의 평균을 계산하는 것입니다. 여기서 수익률을 계산할 때에는 로그 수익률을 사용합니다.\n",
    "\n",
    "​"
   ]
  },
  {
   "cell_type": "code",
   "execution_count": null,
   "metadata": {
    "colab": {
     "base_uri": "https://localhost:8080/",
     "height": 455
    },
    "id": "03oKpNCDuW63",
    "outputId": "428163f2-2913-4e64-f37e-58af6df51e4c"
   },
   "outputs": [
    {
     "data": {
      "text/html": [
       "\n",
       "  <div id=\"df-a6aa4fb0-95ec-4747-9ee2-107ee8a7e75e\">\n",
       "    <div class=\"colab-df-container\">\n",
       "      <div>\n",
       "<style scoped>\n",
       "    .dataframe tbody tr th:only-of-type {\n",
       "        vertical-align: middle;\n",
       "    }\n",
       "\n",
       "    .dataframe tbody tr th {\n",
       "        vertical-align: top;\n",
       "    }\n",
       "\n",
       "    .dataframe thead th {\n",
       "        text-align: right;\n",
       "    }\n",
       "</style>\n",
       "<table border=\"1\" class=\"dataframe\">\n",
       "  <thead>\n",
       "    <tr style=\"text-align: right;\">\n",
       "      <th></th>\n",
       "      <th>Open</th>\n",
       "      <th>High</th>\n",
       "      <th>Low</th>\n",
       "      <th>Close</th>\n",
       "      <th>Adj Close</th>\n",
       "      <th>Volume</th>\n",
       "      <th>log_close</th>\n",
       "    </tr>\n",
       "    <tr>\n",
       "      <th>Date</th>\n",
       "      <th></th>\n",
       "      <th></th>\n",
       "      <th></th>\n",
       "      <th></th>\n",
       "      <th></th>\n",
       "      <th></th>\n",
       "      <th></th>\n",
       "    </tr>\n",
       "  </thead>\n",
       "  <tbody>\n",
       "    <tr>\n",
       "      <th>2012-07-02</th>\n",
       "      <td>24160.0</td>\n",
       "      <td>24180.0</td>\n",
       "      <td>23420.0</td>\n",
       "      <td>23480.0</td>\n",
       "      <td>18786.896484</td>\n",
       "      <td>19106750</td>\n",
       "      <td>NaN</td>\n",
       "    </tr>\n",
       "    <tr>\n",
       "      <th>2012-07-03</th>\n",
       "      <td>23640.0</td>\n",
       "      <td>23860.0</td>\n",
       "      <td>23400.0</td>\n",
       "      <td>23500.0</td>\n",
       "      <td>18802.896484</td>\n",
       "      <td>15801550</td>\n",
       "      <td>0.000851</td>\n",
       "    </tr>\n",
       "    <tr>\n",
       "      <th>2012-07-04</th>\n",
       "      <td>23640.0</td>\n",
       "      <td>23940.0</td>\n",
       "      <td>23560.0</td>\n",
       "      <td>23820.0</td>\n",
       "      <td>19058.933594</td>\n",
       "      <td>19158750</td>\n",
       "      <td>0.013525</td>\n",
       "    </tr>\n",
       "    <tr>\n",
       "      <th>2012-07-05</th>\n",
       "      <td>23740.0</td>\n",
       "      <td>23880.0</td>\n",
       "      <td>23540.0</td>\n",
       "      <td>23700.0</td>\n",
       "      <td>18962.919922</td>\n",
       "      <td>9068550</td>\n",
       "      <td>-0.005051</td>\n",
       "    </tr>\n",
       "    <tr>\n",
       "      <th>2012-07-06</th>\n",
       "      <td>23880.0</td>\n",
       "      <td>23880.0</td>\n",
       "      <td>23060.0</td>\n",
       "      <td>23220.0</td>\n",
       "      <td>18578.863281</td>\n",
       "      <td>21158900</td>\n",
       "      <td>-0.020461</td>\n",
       "    </tr>\n",
       "    <tr>\n",
       "      <th>...</th>\n",
       "      <td>...</td>\n",
       "      <td>...</td>\n",
       "      <td>...</td>\n",
       "      <td>...</td>\n",
       "      <td>...</td>\n",
       "      <td>...</td>\n",
       "      <td>...</td>\n",
       "    </tr>\n",
       "    <tr>\n",
       "      <th>2022-06-23</th>\n",
       "      <td>57700.0</td>\n",
       "      <td>58000.0</td>\n",
       "      <td>56800.0</td>\n",
       "      <td>57400.0</td>\n",
       "      <td>56661.824219</td>\n",
       "      <td>28338608</td>\n",
       "      <td>-0.003478</td>\n",
       "    </tr>\n",
       "    <tr>\n",
       "      <th>2022-06-24</th>\n",
       "      <td>57900.0</td>\n",
       "      <td>59100.0</td>\n",
       "      <td>57700.0</td>\n",
       "      <td>58400.0</td>\n",
       "      <td>57648.964844</td>\n",
       "      <td>23256103</td>\n",
       "      <td>0.017272</td>\n",
       "    </tr>\n",
       "    <tr>\n",
       "      <th>2022-06-27</th>\n",
       "      <td>59000.0</td>\n",
       "      <td>59900.0</td>\n",
       "      <td>58300.0</td>\n",
       "      <td>58800.0</td>\n",
       "      <td>58043.820312</td>\n",
       "      <td>18122236</td>\n",
       "      <td>0.006826</td>\n",
       "    </tr>\n",
       "    <tr>\n",
       "      <th>2022-06-28</th>\n",
       "      <td>59200.0</td>\n",
       "      <td>59500.0</td>\n",
       "      <td>58700.0</td>\n",
       "      <td>59400.0</td>\n",
       "      <td>58636.105469</td>\n",
       "      <td>13540538</td>\n",
       "      <td>0.010152</td>\n",
       "    </tr>\n",
       "    <tr>\n",
       "      <th>2022-06-29</th>\n",
       "      <td>58500.0</td>\n",
       "      <td>58800.0</td>\n",
       "      <td>58000.0</td>\n",
       "      <td>58000.0</td>\n",
       "      <td>57604.195312</td>\n",
       "      <td>14677138</td>\n",
       "      <td>-0.023851</td>\n",
       "    </tr>\n",
       "  </tbody>\n",
       "</table>\n",
       "<p>2457 rows × 7 columns</p>\n",
       "</div>\n",
       "      <button class=\"colab-df-convert\" onclick=\"convertToInteractive('df-a6aa4fb0-95ec-4747-9ee2-107ee8a7e75e')\"\n",
       "              title=\"Convert this dataframe to an interactive table.\"\n",
       "              style=\"display:none;\">\n",
       "        \n",
       "  <svg xmlns=\"http://www.w3.org/2000/svg\" height=\"24px\"viewBox=\"0 0 24 24\"\n",
       "       width=\"24px\">\n",
       "    <path d=\"M0 0h24v24H0V0z\" fill=\"none\"/>\n",
       "    <path d=\"M18.56 5.44l.94 2.06.94-2.06 2.06-.94-2.06-.94-.94-2.06-.94 2.06-2.06.94zm-11 1L8.5 8.5l.94-2.06 2.06-.94-2.06-.94L8.5 2.5l-.94 2.06-2.06.94zm10 10l.94 2.06.94-2.06 2.06-.94-2.06-.94-.94-2.06-.94 2.06-2.06.94z\"/><path d=\"M17.41 7.96l-1.37-1.37c-.4-.4-.92-.59-1.43-.59-.52 0-1.04.2-1.43.59L10.3 9.45l-7.72 7.72c-.78.78-.78 2.05 0 2.83L4 21.41c.39.39.9.59 1.41.59.51 0 1.02-.2 1.41-.59l7.78-7.78 2.81-2.81c.8-.78.8-2.07 0-2.86zM5.41 20L4 18.59l7.72-7.72 1.47 1.35L5.41 20z\"/>\n",
       "  </svg>\n",
       "      </button>\n",
       "      \n",
       "  <style>\n",
       "    .colab-df-container {\n",
       "      display:flex;\n",
       "      flex-wrap:wrap;\n",
       "      gap: 12px;\n",
       "    }\n",
       "\n",
       "    .colab-df-convert {\n",
       "      background-color: #E8F0FE;\n",
       "      border: none;\n",
       "      border-radius: 50%;\n",
       "      cursor: pointer;\n",
       "      display: none;\n",
       "      fill: #1967D2;\n",
       "      height: 32px;\n",
       "      padding: 0 0 0 0;\n",
       "      width: 32px;\n",
       "    }\n",
       "\n",
       "    .colab-df-convert:hover {\n",
       "      background-color: #E2EBFA;\n",
       "      box-shadow: 0px 1px 2px rgba(60, 64, 67, 0.3), 0px 1px 3px 1px rgba(60, 64, 67, 0.15);\n",
       "      fill: #174EA6;\n",
       "    }\n",
       "\n",
       "    [theme=dark] .colab-df-convert {\n",
       "      background-color: #3B4455;\n",
       "      fill: #D2E3FC;\n",
       "    }\n",
       "\n",
       "    [theme=dark] .colab-df-convert:hover {\n",
       "      background-color: #434B5C;\n",
       "      box-shadow: 0px 1px 3px 1px rgba(0, 0, 0, 0.15);\n",
       "      filter: drop-shadow(0px 1px 2px rgba(0, 0, 0, 0.3));\n",
       "      fill: #FFFFFF;\n",
       "    }\n",
       "  </style>\n",
       "\n",
       "      <script>\n",
       "        const buttonEl =\n",
       "          document.querySelector('#df-a6aa4fb0-95ec-4747-9ee2-107ee8a7e75e button.colab-df-convert');\n",
       "        buttonEl.style.display =\n",
       "          google.colab.kernel.accessAllowed ? 'block' : 'none';\n",
       "\n",
       "        async function convertToInteractive(key) {\n",
       "          const element = document.querySelector('#df-a6aa4fb0-95ec-4747-9ee2-107ee8a7e75e');\n",
       "          const dataTable =\n",
       "            await google.colab.kernel.invokeFunction('convertToInteractive',\n",
       "                                                     [key], {});\n",
       "          if (!dataTable) return;\n",
       "\n",
       "          const docLinkHtml = 'Like what you see? Visit the ' +\n",
       "            '<a target=\"_blank\" href=https://colab.research.google.com/notebooks/data_table.ipynb>data table notebook</a>'\n",
       "            + ' to learn more about interactive tables.';\n",
       "          element.innerHTML = '';\n",
       "          dataTable['output_type'] = 'display_data';\n",
       "          await google.colab.output.renderOutput(dataTable, element);\n",
       "          const docLink = document.createElement('div');\n",
       "          docLink.innerHTML = docLinkHtml;\n",
       "          element.appendChild(docLink);\n",
       "        }\n",
       "      </script>\n",
       "    </div>\n",
       "  </div>\n",
       "  "
      ],
      "text/plain": [
       "               Open     High      Low    Close     Adj Close    Volume  \\\n",
       "Date                                                                     \n",
       "2012-07-02  24160.0  24180.0  23420.0  23480.0  18786.896484  19106750   \n",
       "2012-07-03  23640.0  23860.0  23400.0  23500.0  18802.896484  15801550   \n",
       "2012-07-04  23640.0  23940.0  23560.0  23820.0  19058.933594  19158750   \n",
       "2012-07-05  23740.0  23880.0  23540.0  23700.0  18962.919922   9068550   \n",
       "2012-07-06  23880.0  23880.0  23060.0  23220.0  18578.863281  21158900   \n",
       "...             ...      ...      ...      ...           ...       ...   \n",
       "2022-06-23  57700.0  58000.0  56800.0  57400.0  56661.824219  28338608   \n",
       "2022-06-24  57900.0  59100.0  57700.0  58400.0  57648.964844  23256103   \n",
       "2022-06-27  59000.0  59900.0  58300.0  58800.0  58043.820312  18122236   \n",
       "2022-06-28  59200.0  59500.0  58700.0  59400.0  58636.105469  13540538   \n",
       "2022-06-29  58500.0  58800.0  58000.0  58000.0  57604.195312  14677138   \n",
       "\n",
       "            log_close  \n",
       "Date                   \n",
       "2012-07-02        NaN  \n",
       "2012-07-03   0.000851  \n",
       "2012-07-04   0.013525  \n",
       "2012-07-05  -0.005051  \n",
       "2012-07-06  -0.020461  \n",
       "...               ...  \n",
       "2022-06-23  -0.003478  \n",
       "2022-06-24   0.017272  \n",
       "2022-06-27   0.006826  \n",
       "2022-06-28   0.010152  \n",
       "2022-06-29  -0.023851  \n",
       "\n",
       "[2457 rows x 7 columns]"
      ]
     },
     "execution_count": 42,
     "metadata": {},
     "output_type": "execute_result"
    }
   ],
   "source": [
    "#로그 수익률 구하기\n",
    "import numpy as np\n",
    "#shift(1)은 가격을 1일 뒤로 미루는 역할\n",
    "df['log_close'] = np.log(df['Close']/df['Close'].shift(1))\n",
    "df"
   ]
  },
  {
   "cell_type": "code",
   "execution_count": null,
   "metadata": {
    "colab": {
     "base_uri": "https://localhost:8080/",
     "height": 455
    },
    "id": "-nHL8PMHv9_F",
    "outputId": "20577e2e-3ca2-4107-cd8f-405240d8eb92"
   },
   "outputs": [
    {
     "data": {
      "text/html": [
       "\n",
       "  <div id=\"df-162070c6-4db6-4bd7-aeb8-d82d1e25f770\">\n",
       "    <div class=\"colab-df-container\">\n",
       "      <div>\n",
       "<style scoped>\n",
       "    .dataframe tbody tr th:only-of-type {\n",
       "        vertical-align: middle;\n",
       "    }\n",
       "\n",
       "    .dataframe tbody tr th {\n",
       "        vertical-align: top;\n",
       "    }\n",
       "\n",
       "    .dataframe thead th {\n",
       "        text-align: right;\n",
       "    }\n",
       "</style>\n",
       "<table border=\"1\" class=\"dataframe\">\n",
       "  <thead>\n",
       "    <tr style=\"text-align: right;\">\n",
       "      <th></th>\n",
       "      <th>Open</th>\n",
       "      <th>High</th>\n",
       "      <th>Low</th>\n",
       "      <th>Close</th>\n",
       "      <th>Adj Close</th>\n",
       "      <th>Volume</th>\n",
       "      <th>log_close</th>\n",
       "    </tr>\n",
       "    <tr>\n",
       "      <th>Date</th>\n",
       "      <th></th>\n",
       "      <th></th>\n",
       "      <th></th>\n",
       "      <th></th>\n",
       "      <th></th>\n",
       "      <th></th>\n",
       "      <th></th>\n",
       "    </tr>\n",
       "  </thead>\n",
       "  <tbody>\n",
       "    <tr>\n",
       "      <th>2012-07-03</th>\n",
       "      <td>23640.0</td>\n",
       "      <td>23860.0</td>\n",
       "      <td>23400.0</td>\n",
       "      <td>23500.0</td>\n",
       "      <td>18802.896484</td>\n",
       "      <td>15801550</td>\n",
       "      <td>0.000851</td>\n",
       "    </tr>\n",
       "    <tr>\n",
       "      <th>2012-07-04</th>\n",
       "      <td>23640.0</td>\n",
       "      <td>23940.0</td>\n",
       "      <td>23560.0</td>\n",
       "      <td>23820.0</td>\n",
       "      <td>19058.933594</td>\n",
       "      <td>19158750</td>\n",
       "      <td>0.013525</td>\n",
       "    </tr>\n",
       "    <tr>\n",
       "      <th>2012-07-05</th>\n",
       "      <td>23740.0</td>\n",
       "      <td>23880.0</td>\n",
       "      <td>23540.0</td>\n",
       "      <td>23700.0</td>\n",
       "      <td>18962.919922</td>\n",
       "      <td>9068550</td>\n",
       "      <td>-0.005051</td>\n",
       "    </tr>\n",
       "    <tr>\n",
       "      <th>2012-07-06</th>\n",
       "      <td>23880.0</td>\n",
       "      <td>23880.0</td>\n",
       "      <td>23060.0</td>\n",
       "      <td>23220.0</td>\n",
       "      <td>18578.863281</td>\n",
       "      <td>21158900</td>\n",
       "      <td>-0.020461</td>\n",
       "    </tr>\n",
       "    <tr>\n",
       "      <th>2012-07-09</th>\n",
       "      <td>22700.0</td>\n",
       "      <td>22760.0</td>\n",
       "      <td>22520.0</td>\n",
       "      <td>22520.0</td>\n",
       "      <td>18018.785156</td>\n",
       "      <td>21282300</td>\n",
       "      <td>-0.030610</td>\n",
       "    </tr>\n",
       "    <tr>\n",
       "      <th>...</th>\n",
       "      <td>...</td>\n",
       "      <td>...</td>\n",
       "      <td>...</td>\n",
       "      <td>...</td>\n",
       "      <td>...</td>\n",
       "      <td>...</td>\n",
       "      <td>...</td>\n",
       "    </tr>\n",
       "    <tr>\n",
       "      <th>2022-06-23</th>\n",
       "      <td>57700.0</td>\n",
       "      <td>58000.0</td>\n",
       "      <td>56800.0</td>\n",
       "      <td>57400.0</td>\n",
       "      <td>56661.824219</td>\n",
       "      <td>28338608</td>\n",
       "      <td>-0.003478</td>\n",
       "    </tr>\n",
       "    <tr>\n",
       "      <th>2022-06-24</th>\n",
       "      <td>57900.0</td>\n",
       "      <td>59100.0</td>\n",
       "      <td>57700.0</td>\n",
       "      <td>58400.0</td>\n",
       "      <td>57648.964844</td>\n",
       "      <td>23256103</td>\n",
       "      <td>0.017272</td>\n",
       "    </tr>\n",
       "    <tr>\n",
       "      <th>2022-06-27</th>\n",
       "      <td>59000.0</td>\n",
       "      <td>59900.0</td>\n",
       "      <td>58300.0</td>\n",
       "      <td>58800.0</td>\n",
       "      <td>58043.820312</td>\n",
       "      <td>18122236</td>\n",
       "      <td>0.006826</td>\n",
       "    </tr>\n",
       "    <tr>\n",
       "      <th>2022-06-28</th>\n",
       "      <td>59200.0</td>\n",
       "      <td>59500.0</td>\n",
       "      <td>58700.0</td>\n",
       "      <td>59400.0</td>\n",
       "      <td>58636.105469</td>\n",
       "      <td>13540538</td>\n",
       "      <td>0.010152</td>\n",
       "    </tr>\n",
       "    <tr>\n",
       "      <th>2022-06-29</th>\n",
       "      <td>58500.0</td>\n",
       "      <td>58800.0</td>\n",
       "      <td>58000.0</td>\n",
       "      <td>58000.0</td>\n",
       "      <td>57604.195312</td>\n",
       "      <td>14677138</td>\n",
       "      <td>-0.023851</td>\n",
       "    </tr>\n",
       "  </tbody>\n",
       "</table>\n",
       "<p>2456 rows × 7 columns</p>\n",
       "</div>\n",
       "      <button class=\"colab-df-convert\" onclick=\"convertToInteractive('df-162070c6-4db6-4bd7-aeb8-d82d1e25f770')\"\n",
       "              title=\"Convert this dataframe to an interactive table.\"\n",
       "              style=\"display:none;\">\n",
       "        \n",
       "  <svg xmlns=\"http://www.w3.org/2000/svg\" height=\"24px\"viewBox=\"0 0 24 24\"\n",
       "       width=\"24px\">\n",
       "    <path d=\"M0 0h24v24H0V0z\" fill=\"none\"/>\n",
       "    <path d=\"M18.56 5.44l.94 2.06.94-2.06 2.06-.94-2.06-.94-.94-2.06-.94 2.06-2.06.94zm-11 1L8.5 8.5l.94-2.06 2.06-.94-2.06-.94L8.5 2.5l-.94 2.06-2.06.94zm10 10l.94 2.06.94-2.06 2.06-.94-2.06-.94-.94-2.06-.94 2.06-2.06.94z\"/><path d=\"M17.41 7.96l-1.37-1.37c-.4-.4-.92-.59-1.43-.59-.52 0-1.04.2-1.43.59L10.3 9.45l-7.72 7.72c-.78.78-.78 2.05 0 2.83L4 21.41c.39.39.9.59 1.41.59.51 0 1.02-.2 1.41-.59l7.78-7.78 2.81-2.81c.8-.78.8-2.07 0-2.86zM5.41 20L4 18.59l7.72-7.72 1.47 1.35L5.41 20z\"/>\n",
       "  </svg>\n",
       "      </button>\n",
       "      \n",
       "  <style>\n",
       "    .colab-df-container {\n",
       "      display:flex;\n",
       "      flex-wrap:wrap;\n",
       "      gap: 12px;\n",
       "    }\n",
       "\n",
       "    .colab-df-convert {\n",
       "      background-color: #E8F0FE;\n",
       "      border: none;\n",
       "      border-radius: 50%;\n",
       "      cursor: pointer;\n",
       "      display: none;\n",
       "      fill: #1967D2;\n",
       "      height: 32px;\n",
       "      padding: 0 0 0 0;\n",
       "      width: 32px;\n",
       "    }\n",
       "\n",
       "    .colab-df-convert:hover {\n",
       "      background-color: #E2EBFA;\n",
       "      box-shadow: 0px 1px 2px rgba(60, 64, 67, 0.3), 0px 1px 3px 1px rgba(60, 64, 67, 0.15);\n",
       "      fill: #174EA6;\n",
       "    }\n",
       "\n",
       "    [theme=dark] .colab-df-convert {\n",
       "      background-color: #3B4455;\n",
       "      fill: #D2E3FC;\n",
       "    }\n",
       "\n",
       "    [theme=dark] .colab-df-convert:hover {\n",
       "      background-color: #434B5C;\n",
       "      box-shadow: 0px 1px 3px 1px rgba(0, 0, 0, 0.15);\n",
       "      filter: drop-shadow(0px 1px 2px rgba(0, 0, 0, 0.3));\n",
       "      fill: #FFFFFF;\n",
       "    }\n",
       "  </style>\n",
       "\n",
       "      <script>\n",
       "        const buttonEl =\n",
       "          document.querySelector('#df-162070c6-4db6-4bd7-aeb8-d82d1e25f770 button.colab-df-convert');\n",
       "        buttonEl.style.display =\n",
       "          google.colab.kernel.accessAllowed ? 'block' : 'none';\n",
       "\n",
       "        async function convertToInteractive(key) {\n",
       "          const element = document.querySelector('#df-162070c6-4db6-4bd7-aeb8-d82d1e25f770');\n",
       "          const dataTable =\n",
       "            await google.colab.kernel.invokeFunction('convertToInteractive',\n",
       "                                                     [key], {});\n",
       "          if (!dataTable) return;\n",
       "\n",
       "          const docLinkHtml = 'Like what you see? Visit the ' +\n",
       "            '<a target=\"_blank\" href=https://colab.research.google.com/notebooks/data_table.ipynb>data table notebook</a>'\n",
       "            + ' to learn more about interactive tables.';\n",
       "          element.innerHTML = '';\n",
       "          dataTable['output_type'] = 'display_data';\n",
       "          await google.colab.output.renderOutput(dataTable, element);\n",
       "          const docLink = document.createElement('div');\n",
       "          docLink.innerHTML = docLinkHtml;\n",
       "          element.appendChild(docLink);\n",
       "        }\n",
       "      </script>\n",
       "    </div>\n",
       "  </div>\n",
       "  "
      ],
      "text/plain": [
       "               Open     High      Low    Close     Adj Close    Volume  \\\n",
       "Date                                                                     \n",
       "2012-07-03  23640.0  23860.0  23400.0  23500.0  18802.896484  15801550   \n",
       "2012-07-04  23640.0  23940.0  23560.0  23820.0  19058.933594  19158750   \n",
       "2012-07-05  23740.0  23880.0  23540.0  23700.0  18962.919922   9068550   \n",
       "2012-07-06  23880.0  23880.0  23060.0  23220.0  18578.863281  21158900   \n",
       "2012-07-09  22700.0  22760.0  22520.0  22520.0  18018.785156  21282300   \n",
       "...             ...      ...      ...      ...           ...       ...   \n",
       "2022-06-23  57700.0  58000.0  56800.0  57400.0  56661.824219  28338608   \n",
       "2022-06-24  57900.0  59100.0  57700.0  58400.0  57648.964844  23256103   \n",
       "2022-06-27  59000.0  59900.0  58300.0  58800.0  58043.820312  18122236   \n",
       "2022-06-28  59200.0  59500.0  58700.0  59400.0  58636.105469  13540538   \n",
       "2022-06-29  58500.0  58800.0  58000.0  58000.0  57604.195312  14677138   \n",
       "\n",
       "            log_close  \n",
       "Date                   \n",
       "2012-07-03   0.000851  \n",
       "2012-07-04   0.013525  \n",
       "2012-07-05  -0.005051  \n",
       "2012-07-06  -0.020461  \n",
       "2012-07-09  -0.030610  \n",
       "...               ...  \n",
       "2022-06-23  -0.003478  \n",
       "2022-06-24   0.017272  \n",
       "2022-06-27   0.006826  \n",
       "2022-06-28   0.010152  \n",
       "2022-06-29  -0.023851  \n",
       "\n",
       "[2456 rows x 7 columns]"
      ]
     },
     "execution_count": 43,
     "metadata": {},
     "output_type": "execute_result"
    }
   ],
   "source": [
    "df = df.dropna()\n",
    "df"
   ]
  },
  {
   "cell_type": "code",
   "execution_count": null,
   "metadata": {
    "colab": {
     "base_uri": "https://localhost:8080/",
     "height": 302
    },
    "id": "KUDb0F-AZvQv",
    "outputId": "7da2b67b-6cd8-4bfb-e668-84b2ba2b95d5"
   },
   "outputs": [
    {
     "data": {
      "text/plain": [
       "<matplotlib.axes._subplots.AxesSubplot at 0x7f6ad13bf810>"
      ]
     },
     "execution_count": 44,
     "metadata": {},
     "output_type": "execute_result"
    },
    {
     "data": {
      "image/png": "[encoded data removed]",
      "text/plain": [
       "<Figure size 432x288 with 1 Axes>"
      ]
     },
     "metadata": {
      "needs_background": "light"
     },
     "output_type": "display_data"
    }
   ],
   "source": [
    "log_df = df['log_close']\n",
    "log_df = log_df.dropna()\n",
    "log_df.plot(title=f'{RISKY_ASSET} returns: {START_DATE}-{END_DATE}')"
   ]
  },
  {
   "cell_type": "code",
   "execution_count": null,
   "metadata": {
    "colab": {
     "base_uri": "https://localhost:8080/"
    },
    "id": "78KoV0E1bojL",
    "outputId": "82d442fa-42df-41c1-d8b5-23a4d7bae8c5"
   },
   "outputs": [
    {
     "data": {
      "text/plain": [
       "Date\n",
       "2012-07-03    0.000851\n",
       "2012-07-04    0.013525\n",
       "2012-07-05   -0.005051\n",
       "2012-07-06   -0.020461\n",
       "2012-07-09   -0.030610\n",
       "                ...   \n",
       "2022-06-23   -0.003478\n",
       "2022-06-24    0.017272\n",
       "2022-06-27    0.006826\n",
       "2022-06-28    0.010152\n",
       "2022-06-29   -0.023851\n",
       "Name: log_close, Length: 2456, dtype: float64"
      ]
     },
     "execution_count": 45,
     "metadata": {},
     "output_type": "execute_result"
    }
   ],
   "source": [
    "log_df"
   ]
  },
  {
   "cell_type": "code",
   "execution_count": null,
   "metadata": {
    "colab": {
     "base_uri": "https://localhost:8080/"
    },
    "id": "cBuW2cR-wPDf",
    "outputId": "0eccc4c0-d7ac-4fd7-846d-b5844cb454fe"
   },
   "outputs": [
    {
     "data": {
      "text/plain": [
       "0.00036819788908246044"
      ]
     },
     "execution_count": 46,
     "metadata": {},
     "output_type": "execute_result"
    }
   ],
   "source": [
    "#일별 기대수익률 계산\n",
    "mu =df['log_close'].mean()\n",
    "mu"
   ]
  },
  {
   "cell_type": "code",
   "execution_count": null,
   "metadata": {
    "colab": {
     "base_uri": "https://localhost:8080/"
    },
    "id": "SVXqZO0EwcJy",
    "outputId": "ff2ba2da-ffe6-4fe0-c08a-c2ea96d9ffb1"
   },
   "outputs": [
    {
     "data": {
      "text/plain": [
       "0.09278586804878003"
      ]
     },
     "execution_count": 47,
     "metadata": {},
     "output_type": "execute_result"
    }
   ],
   "source": [
    "#연간 기대수익률 계산 (252일 사용)\n",
    "mu= df['log_close'].mean()*252\n",
    "mu"
   ]
  },
  {
   "cell_type": "code",
   "execution_count": null,
   "metadata": {
    "id": "9LIl-jaWb6Lq"
   },
   "outputs": [],
   "source": [
    "#훈련과 테스트 집합으로 분할\n",
    "# train = log_df['2010-07-01':'2022-04-30']\n",
    "# test = log_df['2022-04-30':'2022-06-29']\n",
    "# #test.index\n",
    "# test\n",
    "train = log_df['2012-07-01':'2020-06-30']\n",
    "test = log_df['2020-07-01':'2022-06-30']"
   ]
  },
  {
   "cell_type": "markdown",
   "metadata": {
    "id": "eU9W_Ze1wrnh"
   },
   "source": [
    "삼성전자는 1년에 평균적으로 0.1175(11.7%)의 로그수익률이 나올 것이다."
   ]
  },
  {
   "cell_type": "markdown",
   "metadata": {
    "id": "gwSDbnwrxBBZ"
   },
   "source": [
    "High risk, high return 이라는 유명한 말이 있습니다. return과 위험을 나타내는 risk들 간의 관계가 한 쪽을 추구하면 다른 한 쪽을 떠안아야 (또는 희생해야)하는 상호 교환적 관계가 있음을 의미합니다. 그렇다면 여기서 risk는 어떤 값을 나타내는것 일까요? Risk에 대한 정의는 여러종류의 정의가 존재합니다. 돈을 잃을 가능성을 리스크로 정의(coherent risk measure)할 수도 있고 수익률의 변동성(volatility)을 리스크로 정의할 수도 있습니다. 오늘 살펴볼 콘텐츠에서는 위험을 수익률의 변동성(volatility)로 정의합니다."
   ]
  },
  {
   "cell_type": "code",
   "execution_count": null,
   "metadata": {
    "colab": {
     "base_uri": "https://localhost:8080/"
    },
    "id": "n1B8_2Efw7Jb",
    "outputId": "2fc7a9f0-b961-4ef6-8d3c-d4a45fab312a"
   },
   "outputs": [
    {
     "data": {
      "text/plain": [
       "0.016314293090075933"
      ]
     },
     "execution_count": 49,
     "metadata": {},
     "output_type": "execute_result"
    }
   ],
   "source": [
    "#자산별 risk = 자산별 기대수익률의 표준편차\n",
    "df['log_close'].std()"
   ]
  },
  {
   "cell_type": "code",
   "execution_count": null,
   "metadata": {
    "colab": {
     "base_uri": "https://localhost:8080/"
    },
    "id": "s5PxK1t9Ug1y",
    "outputId": "9386050c-b9d1-4982-eb14-42aa9a08e469"
   },
   "outputs": [
    {
     "data": {
      "text/plain": [
       "0.0008514261902175236"
      ]
     },
     "execution_count": 50,
     "metadata": {},
     "output_type": "execute_result"
    }
   ],
   "source": [
    "S_0 = log_df.iloc[0]\n",
    "S_0"
   ]
  },
  {
   "cell_type": "code",
   "execution_count": null,
   "metadata": {
    "id": "5sZ6TA3NmkAG"
   },
   "outputs": [],
   "source": [
    "#시뮬레이션 매개변수 설정\n",
    "T = len(test)\n",
    "N = len(test)-1 #len(test)라고만 햇을 때 index 개수보다 하나 더 많아서 -1을 붙임 (근데 왜인지는 잘 모르겠음.)\n",
    "#N = 10000\n",
    "\n",
    "#N\n",
    "#책에선 date값을 받았는데 해석을 보니 초기 주가를 받는 변수라 코드 수정함\n",
    "S_0 = log_df.iloc[0]\n",
    "N_SIM = 100\n",
    "mu = train.mean()\n",
    "sigma = train.std()\n",
    "\n",
    "#S_0\n",
    "#  '''  Function used for simulating stock returns using Geometric Brownian Motion.\n",
    "\n",
    "#     Parameters\n",
    "#     ------------\n",
    "#     s_0 : float\n",
    "#         Initial stock price\n",
    "#     mu : float\n",
    "#         Drift coefficient\n",
    "#     sigma : float\n",
    "#         Diffusion coefficient\n",
    "#     n_sims : int\n",
    "#         Number of simulations paths\n",
    "#     dt : float\n",
    "#         Time increment, most commonly a day\n",
    "#     T : float\n",
    "#         Length of the forecast horizon, same unit as dt\n",
    "#     N : int\n",
    "#         Number of time increments in the forecast horizon\n",
    "#     random_seed : int\n",
    "#         Random seed for reproducibility\n",
    "\n",
    "#     Returns\n",
    "#     -----------\n",
    "#     S_t : np.ndarray\n",
    "#         Matrix (size: n_sims x (T+1)) containing the simulation results.\n",
    "#         Rows respresent sample paths, while columns point of time.'''"
   ]
  },
  {
   "cell_type": "code",
   "execution_count": null,
   "metadata": {
    "id": "ADFliulHcwZa"
   },
   "outputs": [],
   "source": [
    "#시뮬레이션 함수 정의\n",
    "def simulate_gbm(s_0,mu,sigma,n_sims, T, N):\n",
    "  dt = T/N #시간 프레임에 따른 스케일링 팩터(시간증분)\n",
    "  #T = 1년, N = 1년 동안 시행 횟수\n",
    "\n",
    "  #dw : 브라운 증분\n",
    "  dw = np.random.normal(scale = np.sqrt(dt), size = (n_sims, N))\n",
    "  w = np.cumsum(dw, axis=1)\n",
    "\n",
    "  time_step = np.linspace(dt, T, N)\n",
    "  time_steps = np.broadcast_to(time_step, (n_sims, N))\n",
    "\n",
    "  S_t = s_0 * np.exp((mu - 0.5 *sigma **2)*time_steps + sigma * w)\n",
    "\n",
    "  S_t = np.insert(S_t, 1, s_0, axis=1)\n",
    "  return S_t"
   ]
  },
  {
   "cell_type": "code",
   "execution_count": null,
   "metadata": {
    "colab": {
     "base_uri": "https://localhost:8080/"
    },
    "id": "jJ1WPd4vfJTy",
    "outputId": "703e024e-c083-4ae4-9a16-7e28c29aa911"
   },
   "outputs": [
    {
     "data": {
      "text/plain": [
       "array([[0.00084257, 0.00085143, 0.00083802, ..., 0.00087566, 0.00086718,\n",
       "        0.0008555 ],\n",
       "       [0.00084337, 0.00085143, 0.00083344, ..., 0.00066424, 0.00065988,\n",
       "        0.00065478],\n",
       "       [0.0008632 , 0.00085143, 0.00085579, ..., 0.00081126, 0.00081819,\n",
       "        0.00081457],\n",
       "       ...,\n",
       "       [0.00087277, 0.00085143, 0.00086858, ..., 0.00108875, 0.00105005,\n",
       "        0.00105002],\n",
       "       [0.00087486, 0.00085143, 0.00087217, ..., 0.00132215, 0.00134757,\n",
       "        0.00134953],\n",
       "       [0.00087127, 0.00085143, 0.00086277, ..., 0.0007146 , 0.00072294,\n",
       "        0.00070262]])"
      ]
     },
     "execution_count": 53,
     "metadata": {},
     "output_type": "execute_result"
    }
   ],
   "source": [
    "gbm_simulations = simulate_gbm(S_0,mu,sigma,N_SIM, T, N)\n",
    "#len(gbm_simulations[0])  #40개\n",
    "gbm_simulations"
   ]
  },
  {
   "cell_type": "code",
   "execution_count": null,
   "metadata": {
    "id": "Gu5MHEXRkpDe"
   },
   "outputs": [],
   "source": [
    "#시뮬레이션 결과 도식화\n",
    "\n",
    "last_train_date = train.index[-1].date()\n",
    "last_test_date = test.index[-1].date()\n",
    "first_test_date = test.index[0].date()\n",
    "\n",
    "plot_title = (f'{RISKY_ASSET} Simulation ' f'({first_test_date}:{last_test_date})')\n",
    "\n",
    "selected_indices = test.index\n",
    "#selected_indices\n",
    "index = [date.date() for date in selected_indices]  #39개\n",
    "#test.index\n",
    "gbm_simulations_df = pd.DataFrame(np.transpose(gbm_simulations), index=index)"
   ]
  },
  {
   "cell_type": "code",
   "execution_count": null,
   "metadata": {
    "colab": {
     "base_uri": "https://localhost:8080/"
    },
    "id": "ETQlhGSL4uMX",
    "outputId": "f549a10d-1faa-4a1e-b4cd-24012acfebc3"
   },
   "outputs": [
    {
     "data": {
      "text/plain": [
       "2020-07-01    0.000850\n",
       "2020-07-02    0.000851\n",
       "2020-07-03    0.000849\n",
       "2020-07-06    0.000850\n",
       "2020-07-07    0.000853\n",
       "                ...   \n",
       "2022-06-23    0.001022\n",
       "2022-06-24    0.001023\n",
       "2022-06-27    0.001026\n",
       "2022-06-28    0.001026\n",
       "2022-06-29    0.001028\n",
       "Length: 491, dtype: float64"
      ]
     },
     "execution_count": 55,
     "metadata": {},
     "output_type": "execute_result"
    }
   ],
   "source": [
    "gbm_simulations_df.mean(axis=1)"
   ]
  },
  {
   "cell_type": "code",
   "execution_count": null,
   "metadata": {
    "colab": {
     "base_uri": "https://localhost:8080/",
     "height": 304
    },
    "id": "0gHjkwqJ8NnH",
    "outputId": "bb6e60c6-3376-430f-b629-8b9c3790e3ba"
   },
   "outputs": [
    {
     "data": {
      "text/plain": [
       "<matplotlib.axes._subplots.AxesSubplot at 0x7f6ad3ddef90>"
      ]
     },
     "execution_count": 56,
     "metadata": {},
     "output_type": "execute_result"
    },
    {
     "data": {
      "text/plain": [
       "<Figure size 7200x7200 with 0 Axes>"
      ]
     },
     "metadata": {},
     "output_type": "display_data"
    },
    {
     "data": {
      "image/png": "[encoded data removed]",
      "text/plain": [
       "<Figure size 432x288 with 1 Axes>"
      ]
     },
     "metadata": {
      "needs_background": "light"
     },
     "output_type": "display_data"
    }
   ],
   "source": [
    "import matplotlib.pyplot as plt\n",
    "plt.figure(figsize=(100,100))\n",
    "gbm_simulations_df.plot(alpha=0.2, legend=False)"
   ]
  },
  {
   "cell_type": "code",
   "execution_count": null,
   "metadata": {
    "colab": {
     "base_uri": "https://localhost:8080/",
     "height": 390
    },
    "id": "W4f4ZAOi3WMq",
    "outputId": "e5de769a-c6d8-4bf3-c6e5-86616b8b0b33"
   },
   "outputs": [
    {
     "name": "stderr",
     "output_type": "stream",
     "text": [
      "/usr/local/lib/python3.7/dist-packages/ipykernel_launcher.py:13: UserWarning: Legend does not support [<matplotlib.lines.Line2D object at 0x7f6ad06f3b50>] instances.\n",
      "A proxy artist may be used instead.\n",
      "See: http://matplotlib.org/users/legend_guide.html#creating-artists-specifically-for-adding-to-the-legend-aka-proxy-artists\n",
      "  del sys.path[0]\n"
     ]
    },
    {
     "data": {
      "text/plain": [
       "<matplotlib.legend.Legend at 0x7f6ad0684c50>"
      ]
     },
     "execution_count": 57,
     "metadata": {},
     "output_type": "execute_result"
    },
    {
     "data": {
      "image/png": "[encoded data removed]",
      "text/plain": [
       "<Figure size 432x288 with 1 Axes>"
      ]
     },
     "metadata": {
      "needs_background": "light"
     },
     "output_type": "display_data"
    }
   ],
   "source": [
    "#도식화\n",
    "\n",
    "ax = gbm_simulations_df.plot(alpha=0.2, legend=False)\n",
    "\n",
    "#가상 수익률 예측\n",
    "line_1 = ax.plot(index, gbm_simulations_df.mean(axis=1), color='red')\n",
    "\n",
    "#원래 로그 수익률 추이\n",
    "line_2, = ax.plot(index, test, color = 'blue')\n",
    "\n",
    "#제목\n",
    "ax.set_title(plot_title, fontsize=16)\n",
    "ax.legend((line_1, line_2), ('mean','actual'))\n"
   ]
  },
  {
   "cell_type": "code",
   "execution_count": null,
   "metadata": {
    "colab": {
     "base_uri": "https://localhost:8080/"
    },
    "id": "xeF0Exto4m9w",
    "outputId": "a75c0a40-9248-4ed8-accb-3a1d41325c30"
   },
   "outputs": [
    {
     "data": {
      "text/plain": [
       "Date\n",
       "2022-05-02   -0.001485\n",
       "2022-05-03    0.002967\n",
       "2022-05-04    0.005908\n",
       "2022-05-06   -0.020834\n",
       "2022-05-10   -0.012103\n",
       "2022-05-11    0.000000\n",
       "2022-05-12   -0.012251\n",
       "2022-05-13    0.024354\n",
       "2022-05-16   -0.003012\n",
       "2022-05-17    0.019418\n",
       "2022-05-18    0.007369\n",
       "2022-05-19   -0.008850\n",
       "2022-05-20    0.007380\n",
       "2022-05-23   -0.001472\n",
       "2022-05-24   -0.020834\n",
       "2022-05-25   -0.001505\n",
       "2022-05-26   -0.007559\n",
       "2022-05-27    0.009064\n",
       "2022-05-30    0.017884\n",
       "2022-05-31   -0.004441\n",
       "2022-06-02   -0.010440\n",
       "2022-06-03    0.001498\n",
       "2022-06-07   -0.019653\n",
       "2022-06-08   -0.003058\n",
       "2022-06-09   -0.001533\n",
       "2022-06-10   -0.021706\n",
       "2022-06-13   -0.027007\n",
       "2022-06-14   -0.003226\n",
       "2022-06-15   -0.019576\n",
       "2022-06-16    0.003289\n",
       "2022-06-17   -0.018228\n",
       "2022-06-20   -0.018566\n",
       "2022-06-21   -0.003413\n",
       "2022-06-22   -0.015504\n",
       "2022-06-23   -0.003478\n",
       "2022-06-24    0.017272\n",
       "2022-06-27    0.006826\n",
       "2022-06-28    0.010152\n",
       "2022-06-29   -0.023851\n",
       "Name: log_close, dtype: float64"
      ]
     },
     "execution_count": 22,
     "metadata": {},
     "output_type": "execute_result"
    }
   ],
   "source": [
    "test"
   ]
  },
  {
   "cell_type": "code",
   "execution_count": null,
   "metadata": {
    "colab": {
     "base_uri": "https://localhost:8080/"
    },
    "id": "zzQ6jFJj3uFp",
    "outputId": "b5aa1b2e-0be8-45ab-913c-3a3b3e5d9742"
   },
   "outputs": [
    {
     "name": "stdout",
     "output_type": "stream",
     "text": [
      "Looking in indexes: https://pypi.org/simple, https://us-python.pkg.dev/colab-wheels/public/simple/\n",
      "Collecting backtrader\n",
      "  Downloading backtrader-1.9.76.123-py2.py3-none-any.whl (410 kB)\n",
      "\u001b[K     |████████████████████████████████| 410 kB 5.2 MB/s \n",
      "\u001b[?25hInstalling collected packages: backtrader\n",
      "Successfully installed backtrader-1.9.76.123\n"
     ]
    }
   ],
   "source": [
    "!pip install backtrader"
   ]
  },
  {
   "cell_type": "code",
   "execution_count": null,
   "metadata": {
    "id": "u6qJM1xS3btf"
   },
   "outputs": [],
   "source": [
    "from datetime import datetime\n",
    "import backtrader as bt\n"
   ]
  },
  {
   "cell_type": "markdown",
   "metadata": {
    "id": "szOY9p2zotrn"
   },
   "source": [
    "Gradient Boosting Machine for Regression\n",
    "GBM : 금융시장에서 주가의 통계적 속성을 잘 반영하는 대표적인 모형.\n",
    "\n",
    "코스피 지수의 5년치 종가 데이터 사용\n",
    "주가의 기대수익률(u)\n",
    "주가의 변동성(6) -- 과거 데이터로 추정.\n"
   ]
  },
  {
   "cell_type": "code",
   "execution_count": null,
   "metadata": {
    "id": "th9W9U71orc7"
   },
   "outputs": [],
   "source": [
    "# #시계열 : 3589\n",
    "# # gradient boosting for regression in scikit-learn\n",
    "# from numpy import mean\n",
    "# from numpy import std\n",
    "# from sklearn.datasets import make_regression\n",
    "# from sklearn.ensemble import GradientBoostingRegressor\n",
    "# from sklearn.model_selection import cross_val_score\n",
    "# from sklearn.model_selection import RepeatedKFold\n",
    "# from matplotlib import pyplot\n",
    "# # define dataset\n",
    "# X, y = make_regression(n_samples=1000, n_features=10, n_informative=5, random_state=1)\n",
    "\n",
    "#n_samples : 정수(옵션, 디폴트 100) = 표본 데이터의 갯수 N\n",
    "\n",
    "#n_features : 정수(옵션, 디폴트 100) = 독립변수(feature)의 수(차원) M\n",
    "\n",
    "#random_state : 난수 발생용 시드값"
   ]
  },
  {
   "cell_type": "markdown",
   "metadata": {
    "id": "-gmkodV8AlxN"
   },
   "source": [
    "로그수익률 (2010 ~ 2022년)"
   ]
  },
  {
   "cell_type": "code",
   "execution_count": null,
   "metadata": {
    "id": "HKQDZS8NAqQO"
   },
   "outputs": [],
   "source": []
  }
 ],
 "metadata": {
  "colab": {
   "provenance": []
  },
  "kernelspec": {
   "display_name": "Python 3",
   "name": "python3"
  },
  "language_info": {
   "name": "python"
  }
 },
 "nbformat": 4,
 "nbformat_minor": 0
}
