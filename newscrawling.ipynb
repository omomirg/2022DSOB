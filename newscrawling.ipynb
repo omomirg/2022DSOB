{
 "cells": [
  {
   "cell_type": "code",
   "execution_count": null,
   "metadata": {
    "colab": {
     "base_uri": "https://localhost:8080/"
    },
    "id": "B4ifVKgyQrR4",
    "outputId": "a0455f02-8fce-40cf-836d-b48c67c526fc"
   },
   "outputs": [
    {
     "name": "stdout",
     "output_type": "stream",
     "text": [
      "Mounted at /content/gdrive\n"
     ]
    }
   ],
   "source": [
    "# 데이터를 불러오고 살펴보기 위한 pandas 라이브러리\n",
    "import pandas as pd\n",
    "\n",
    "#데이터 불러오기\n",
    "from google.colab import drive\n",
    "drive.mount('/content/gdrive', force_remount=True)\n",
    "\n",
    "import os\n",
    "ROOT = '/content/gdrive/MyDrive/2022_DSOB_WIDA/kr/data'\n",
    "#DIR = 'data'\n",
    "\n",
    "PATH = os.path.join(ROOT)\n",
    "os.chdir(PATH)"
   ]
  },
  {
   "cell_type": "code",
   "execution_count": null,
   "metadata": {
    "colab": {
     "base_uri": "https://localhost:8080/",
     "height": 515
    },
    "id": "_DZAnuxMO69O",
    "outputId": "b9ddce19-f644-42a3-bdd7-cac4bdf88113"
   },
   "outputs": [
    {
     "name": "stdout",
     "output_type": "stream",
     "text": [
      "==================================================\n",
      "입력 형식에 맞게 입력해주세요.\n",
      " 시작하시려면 Enter를 눌러주세요.\n",
      "==================================================\n",
      "최대 크롤링할 페이지 수 입력하시오: \n",
      "검색어 입력: \n",
      "뉴스 검색 방식 입력(관련도순=0  최신순=1  오래된순=2): \n",
      "시작날짜 입력(2019.01.04):\n",
      "끝날짜 입력(2019.01.05):\n"
     ]
    },
    {
     "ename": "ValueError",
     "evalue": "ignored",
     "output_type": "error",
     "traceback": [
      "\u001b[0;31m---------------------------------------------------------------------------\u001b[0m",
      "\u001b[0;31mValueError\u001b[0m                                Traceback (most recent call last)",
      "\u001b[0;32m<ipython-input-2-079829576c30>\u001b[0m in \u001b[0;36m<module>\u001b[0;34m\u001b[0m\n\u001b[1;32m    127\u001b[0m     \u001b[0mcrawler\u001b[0m\u001b[0;34m(\u001b[0m\u001b[0mmaxpage\u001b[0m\u001b[0;34m,\u001b[0m\u001b[0mquery\u001b[0m\u001b[0;34m,\u001b[0m\u001b[0msort\u001b[0m\u001b[0;34m,\u001b[0m\u001b[0ms_date\u001b[0m\u001b[0;34m,\u001b[0m\u001b[0me_date\u001b[0m\u001b[0;34m)\u001b[0m\u001b[0;34m\u001b[0m\u001b[0;34m\u001b[0m\u001b[0m\n\u001b[1;32m    128\u001b[0m \u001b[0;34m\u001b[0m\u001b[0m\n\u001b[0;32m--> 129\u001b[0;31m \u001b[0mmain\u001b[0m\u001b[0;34m(\u001b[0m\u001b[0;34m)\u001b[0m\u001b[0;34m\u001b[0m\u001b[0;34m\u001b[0m\u001b[0m\n\u001b[0m",
      "\u001b[0;32m<ipython-input-2-079829576c30>\u001b[0m in \u001b[0;36mmain\u001b[0;34m()\u001b[0m\n\u001b[1;32m    125\u001b[0m     \u001b[0me_date\u001b[0m \u001b[0;34m=\u001b[0m \u001b[0minput\u001b[0m\u001b[0;34m(\u001b[0m\u001b[0;34m\"끝날짜 입력(2019.01.05):\"\u001b[0m\u001b[0;34m)\u001b[0m   \u001b[0;31m#2019.01.05\u001b[0m\u001b[0;34m\u001b[0m\u001b[0;34m\u001b[0m\u001b[0m\n\u001b[1;32m    126\u001b[0m \u001b[0;34m\u001b[0m\u001b[0m\n\u001b[0;32m--> 127\u001b[0;31m     \u001b[0mcrawler\u001b[0m\u001b[0;34m(\u001b[0m\u001b[0mmaxpage\u001b[0m\u001b[0;34m,\u001b[0m\u001b[0mquery\u001b[0m\u001b[0;34m,\u001b[0m\u001b[0msort\u001b[0m\u001b[0;34m,\u001b[0m\u001b[0ms_date\u001b[0m\u001b[0;34m,\u001b[0m\u001b[0me_date\u001b[0m\u001b[0;34m)\u001b[0m\u001b[0;34m\u001b[0m\u001b[0;34m\u001b[0m\u001b[0m\n\u001b[0m\u001b[1;32m    128\u001b[0m \u001b[0;34m\u001b[0m\u001b[0m\n\u001b[1;32m    129\u001b[0m \u001b[0mmain\u001b[0m\u001b[0;34m(\u001b[0m\u001b[0;34m)\u001b[0m\u001b[0;34m\u001b[0m\u001b[0;34m\u001b[0m\u001b[0m\n",
      "\u001b[0;32m<ipython-input-2-079829576c30>\u001b[0m in \u001b[0;36mcrawler\u001b[0;34m(maxpage, query, sort, s_date, e_date)\u001b[0m\n\u001b[1;32m     61\u001b[0m     \u001b[0me_to\u001b[0m \u001b[0;34m=\u001b[0m \u001b[0me_date\u001b[0m\u001b[0;34m.\u001b[0m\u001b[0mreplace\u001b[0m\u001b[0;34m(\u001b[0m\u001b[0;34m\".\"\u001b[0m\u001b[0;34m,\u001b[0m\u001b[0;34m\"\"\u001b[0m\u001b[0;34m)\u001b[0m\u001b[0;34m\u001b[0m\u001b[0;34m\u001b[0m\u001b[0m\n\u001b[1;32m     62\u001b[0m     \u001b[0mpage\u001b[0m \u001b[0;34m=\u001b[0m \u001b[0;36m1\u001b[0m\u001b[0;34m\u001b[0m\u001b[0;34m\u001b[0m\u001b[0m\n\u001b[0;32m---> 63\u001b[0;31m     \u001b[0mmaxpage_t\u001b[0m \u001b[0;34m=\u001b[0m\u001b[0;34m(\u001b[0m\u001b[0mint\u001b[0m\u001b[0;34m(\u001b[0m\u001b[0mmaxpage\u001b[0m\u001b[0;34m)\u001b[0m\u001b[0;34m-\u001b[0m\u001b[0;36m1\u001b[0m\u001b[0;34m)\u001b[0m\u001b[0;34m*\u001b[0m\u001b[0;36m10\u001b[0m\u001b[0;34m+\u001b[0m\u001b[0;36m1\u001b[0m   \u001b[0;31m# 11= 2페이지 21=3페이지 31=4페이지  ...81=9페이지 , 91=10페이지, 101=11페이지\u001b[0m\u001b[0;34m\u001b[0m\u001b[0;34m\u001b[0m\u001b[0m\n\u001b[0m\u001b[1;32m     64\u001b[0m \u001b[0;34m\u001b[0m\u001b[0m\n\u001b[1;32m     65\u001b[0m     \u001b[0;32mwhile\u001b[0m \u001b[0mpage\u001b[0m \u001b[0;34m<=\u001b[0m \u001b[0mmaxpage_t\u001b[0m\u001b[0;34m:\u001b[0m\u001b[0;34m\u001b[0m\u001b[0;34m\u001b[0m\u001b[0m\n",
      "\u001b[0;31mValueError\u001b[0m: invalid literal for int() with base 10: ''"
     ]
    }
   ],
   "source": [
    "from bs4 import BeautifulSoup\n",
    "from datetime import datetime\n",
    "import requests\n",
    "import pandas as pd\n",
    "import re\n",
    "'''''''''''''''''''''''''''''''''''''''''''''''''''''''''\n",
    "< naver 뉴스 검색시 리스트 크롤링하는 프로그램 > _select사용\n",
    "- 크롤링 해오는 것 : 링크,제목,신문사,날짜,내용요약본\n",
    "- 날짜,내용요약본  -> 정제 작업 필요\n",
    "- 리스트 -> 딕셔너리 -> df -> 엑셀로 저장\n",
    "'''''''''''''''''''''''''''''''''''''''''''''''''''''''''\n",
    "\n",
    "#각 크롤링 결과 저장하기 위한 리스트 선언\n",
    "title_text=[]\n",
    "link_text=[]\n",
    "source_text=[]\n",
    "date_text=[]\n",
    "contents_text=[]\n",
    "result={}\n",
    "\n",
    "#엑셀로 저장하기 위한 변수\n",
    "#RESULT_PATH ='\"/content/gdrive/MyDrive/2022_DSOB_WIDA\"'  #결과 저장할 경로\n",
    "now = datetime.now() #파일이름 현 시간으로 저장하기\n",
    "\n",
    "#날짜 정제화 함수\n",
    "def date_cleansing(test):\n",
    "    try:\n",
    "        #지난 뉴스\n",
    "        #머니투데이  10면1단  2018.11.05.  네이버뉴스   보내기\n",
    "        pattern = '\\d+.(\\d+).(\\d+).'  #정규표현식\n",
    "\n",
    "        r = re.compile(pattern)\n",
    "        match = r.search(test).group(0)  # 2018.11.05.\n",
    "        date_text.append(match)\n",
    "\n",
    "    except AttributeError:\n",
    "        #최근 뉴스\n",
    "        #이데일리  1시간 전  네이버뉴스   보내기\n",
    "        pattern = '\\w* (\\d\\w*)'     #정규표현식\n",
    "\n",
    "        r = re.compile(pattern)\n",
    "        match = r.search(test).group(1)\n",
    "        #print(match)\n",
    "        date_text.append(match)\n",
    "\n",
    "\n",
    "#내용 정제화 함수\n",
    "def contents_cleansing(contents):\n",
    "    first_cleansing_contents = re.sub('<dl>.*?</a> </div> </dd> <dd>', '',\n",
    "                                      str(contents)).strip()  #앞에 필요없는 부분 제거\n",
    "    second_cleansing_contents = re.sub('<ul class=\"relation_lst\">.*?</dd>', '',\n",
    "                                       first_cleansing_contents).strip()#뒤에 필요없는 부분 제거 (새끼 기사)\n",
    "    third_cleansing_contents = re.sub('<.+?>', '', second_cleansing_contents).strip()\n",
    "    contents_text.append(third_cleansing_contents)\n",
    "    #print(contents_text)\n",
    "\n",
    "\n",
    "def crawler(maxpage,query,sort,s_date,e_date):\n",
    "\n",
    "    s_from = s_date.replace(\".\",\"\")\n",
    "    e_to = e_date.replace(\".\",\"\")\n",
    "    page = 1\n",
    "    maxpage_t =(int(maxpage)-1)*10+1   # 11= 2페이지 21=3페이지 31=4페이지  ...81=9페이지 , 91=10페이지, 101=11페이지\n",
    "\n",
    "    while page <= maxpage_t:\n",
    "        url = \"https://search.naver.com/search.naver?where=news&query=\" + query + \"&sort=\"+sort+\"&ds=\" + s_date + \"&de=\" + e_date + \"&nso=so%3Ar%2Cp%3Afrom\" + s_from + \"to\" + e_to + \"%2Ca%3A&start=\" + str(page)\n",
    "\n",
    "        response = requests.get(url)\n",
    "        html = response.text\n",
    "\n",
    "        #뷰티풀소프의 인자값 지정\n",
    "        soup = BeautifulSoup(html, 'html.parser')\n",
    "\n",
    "        #<a>태그에서 제목과 링크주소 추출\n",
    "        atags = soup.select('.news_tit')\n",
    "        for atag in atags:\n",
    "            title_text.append(atag.text)     #제목\n",
    "            link_text.append(atag['href'])   #링크주소\n",
    "\n",
    "        #신문사 추출\n",
    "        source_lists = soup.select('.info_group > .press')\n",
    "        for source_list in source_lists:\n",
    "            source_text.append(source_list.text)    #신문사\n",
    "\n",
    "        #날짜 추출\n",
    "        date_lists = soup.select('.info_group > span.info')\n",
    "        for date_list in date_lists:\n",
    "            # 1면 3단 같은 위치 제거\n",
    "            if date_list.text.find(\"면\") == -1:\n",
    "                date_text.append(date_list.text)\n",
    "\n",
    "        #본문요약본\n",
    "        contents_lists = soup.select('.news_dsc')\n",
    "        for contents_list in contents_lists:\n",
    "            contents_cleansing(contents_list) #본문요약 정제화\n",
    "\n",
    "\n",
    "        #모든 리스트 딕셔너리형태로 저장\n",
    "        result= {\"date\" : date_text , \"title\":title_text ,  \"source\" : source_text ,\"contents\": contents_text ,\"link\":link_text }\n",
    "        print(page)\n",
    "\n",
    "        df = pd.DataFrame(result)  #df로 변환\n",
    "        page += 10\n",
    "\n",
    "     #엑셀 파일 이름지정\n",
    "# news_df.to_excel(excel_writer = '{}_{}.csv'.format(search,now.strftime('%Y%m%d_%H시%M분%S초')), sheet_name = 'Sheet1', index=False)\n",
    "\n",
    "# #엑셀 파일 불러오기\n",
    "# data = pd.read_csv('./2022_DSOB_11_COMP/GRID_ID_time_dataset_tour_weather_119_corona.xlsx')\n",
    "    # 새로 만들 파일이름 지정\n",
    "    outputFileName = '%s-%s-%s  %s시 %s분 %s초 merging.xlsx' % (now.year, now.month, now.day, now.hour, now.minute, now.second)\n",
    "    df.to_excel(excel_writer = outputFileName,sheet_name='sheet1')\n",
    "    #엑셀 파일 불러오기\n",
    "    #data = pd.read_excel('./2022_DSOB_11_COMP/GRID_ID_time_dataset_tour_weather_119_corona.xlsx')\n",
    "\n",
    "\n",
    "\n",
    "def main():\n",
    "    info_main = input(\"=\"*50+\"\\n\"+\"입력 형식에 맞게 입력해주세요.\"+\"\\n\"+\" 시작하시려면 Enter를 눌러주세요.\"+\"\\n\"+\"=\"*50)\n",
    "\n",
    "    maxpage = input(\"최대 크롤링할 페이지 수 입력하시오: \")\n",
    "    query = input(\"검색어 입력: \")\n",
    "    sort = input(\"뉴스 검색 방식 입력(관련도순=0  최신순=1  오래된순=2): \")    #관련도순=0  최신순=1  오래된순=2\n",
    "    s_date = input(\"시작날짜 입력(2019.01.04):\")  #2019.01.04\n",
    "    e_date = input(\"끝날짜 입력(2019.01.05):\")   #2019.01.05\n",
    "\n",
    "    crawler(maxpage,query,sort,s_date,e_date)\n",
    "\n",
    "main()"
   ]
  },
  {
   "cell_type": "code",
   "execution_count": null,
   "metadata": {
    "colab": {
     "base_uri": "https://localhost:8080/",
     "height": 641
    },
    "id": "OAhxql6JXXWm",
    "outputId": "c2accc33-9c1c-4012-94cb-cce50df1c001"
   },
   "outputs": [
    {
     "data": {
      "text/html": [
       "\n",
       "  <div id=\"df-1d1c76e3-1ed1-4348-849d-d2c5e41f777b\">\n",
       "    <div class=\"colab-df-container\">\n",
       "      <div>\n",
       "<style scoped>\n",
       "    .dataframe tbody tr th:only-of-type {\n",
       "        vertical-align: middle;\n",
       "    }\n",
       "\n",
       "    .dataframe tbody tr th {\n",
       "        vertical-align: top;\n",
       "    }\n",
       "\n",
       "    .dataframe thead th {\n",
       "        text-align: right;\n",
       "    }\n",
       "</style>\n",
       "<table border=\"1\" class=\"dataframe\">\n",
       "  <thead>\n",
       "    <tr style=\"text-align: right;\">\n",
       "      <th></th>\n",
       "      <th>Unnamed: 0</th>\n",
       "      <th>date</th>\n",
       "      <th>title</th>\n",
       "      <th>source</th>\n",
       "      <th>contents</th>\n",
       "      <th>link</th>\n",
       "    </tr>\n",
       "  </thead>\n",
       "  <tbody>\n",
       "    <tr>\n",
       "      <th>0</th>\n",
       "      <td>0</td>\n",
       "      <td>2019.11.11.</td>\n",
       "      <td>[특징주] IHQ 1,905원, 11일 9시 40분 등락률 6.42%</td>\n",
       "      <td>글로벌경제</td>\n",
       "      <td>11월 11일 9시 40분 현재 IHQ(003560)이 전일 대비 6.42% 등락률...</td>\n",
       "      <td>http://www.getnews.co.kr/view.php?ud=201911110...</td>\n",
       "    </tr>\n",
       "    <tr>\n",
       "      <th>1</th>\n",
       "      <td>1</td>\n",
       "      <td>2019.11.11.</td>\n",
       "      <td>[특징주] IHQ ' 거래량 TOP10 ' 7위 종목 올라...</td>\n",
       "      <td>내외경제tv</td>\n",
       "      <td>11일 10시 기준 거래량 상위종목IHQ 종목은 11일 10시 기준 7위를 차지했다...</td>\n",
       "      <td>http://nbntv.co.kr/news/view/729483</td>\n",
       "    </tr>\n",
       "    <tr>\n",
       "      <th>2</th>\n",
       "      <td>2</td>\n",
       "      <td>2019.11.11.</td>\n",
       "      <td>[엔터테인먼트 테마 오전 시황] 상승률 상위 종목, 큐브엔터 +15.84%·IHQ ...</td>\n",
       "      <td>공감신문</td>\n",
       "      <td>큐브엔터, IHQ, 팬엔터테인먼트 등이 높은 상승률을 보이고 있다. 가장 많이 상승...</td>\n",
       "      <td>http://www.gokorea.kr/news/articleView.html?id...</td>\n",
       "    </tr>\n",
       "    <tr>\n",
       "      <th>3</th>\n",
       "      <td>3</td>\n",
       "      <td>2019.11.11.</td>\n",
       "      <td>[방송과엔터테인먼트 업종 14시 현재 주식시황] 상승률 상위 종목, 큐브엔터 ...</td>\n",
       "      <td>CCTV뉴스</td>\n",
       "      <td>Design, IHQ, 방송과엔터테인먼트, 방송과엔터테인먼트 순으로 높은 상승률을 ...</td>\n",
       "      <td>http://www.cctvnews.co.kr/news/articleView.htm...</td>\n",
       "    </tr>\n",
       "    <tr>\n",
       "      <th>4</th>\n",
       "      <td>4</td>\n",
       "      <td>2019.11.11.</td>\n",
       "      <td>IHQ, +12.57% VI 발동</td>\n",
       "      <td>조선비즈</td>\n",
       "      <td>IHQ(003560)가 VI가 발동했다. 전일 대비 12.57% 상승한 2,015원...</td>\n",
       "      <td>https://biz.chosun.com/site/data/html_dir/2019...</td>\n",
       "    </tr>\n",
       "    <tr>\n",
       "      <th>...</th>\n",
       "      <td>...</td>\n",
       "      <td>...</td>\n",
       "      <td>...</td>\n",
       "      <td>...</td>\n",
       "      <td>...</td>\n",
       "      <td>...</td>\n",
       "    </tr>\n",
       "    <tr>\n",
       "      <th>117</th>\n",
       "      <td>117</td>\n",
       "      <td>2020.04.09.</td>\n",
       "      <td>위지윅스튜디오, +4.49% 상승폭 확대</td>\n",
       "      <td>조선비즈</td>\n",
       "      <td>위지윅스튜디오 연관 테마IHQ(003560), 초록뱀(047820), 팬엔터테인먼트...</td>\n",
       "      <td>https://biz.chosun.com/site/data/html_dir/2020...</td>\n",
       "    </tr>\n",
       "    <tr>\n",
       "      <th>118</th>\n",
       "      <td>118</td>\n",
       "      <td>2020.04.09.</td>\n",
       "      <td>위지윅스튜디오, +4.49% 상승폭 확대</td>\n",
       "      <td>조선비즈</td>\n",
       "      <td>위지윅스튜디오 연관 테마IHQ(003560), 초록뱀(047820), 팬엔터테인먼트...</td>\n",
       "      <td>https://biz.chosun.com/site/data/html_dir/2020...</td>\n",
       "    </tr>\n",
       "    <tr>\n",
       "      <th>119</th>\n",
       "      <td>119</td>\n",
       "      <td>2020.04.09.</td>\n",
       "      <td>위지윅스튜디오, +4.49% 상승폭 확대</td>\n",
       "      <td>조선비즈</td>\n",
       "      <td>위지윅스튜디오 연관 테마IHQ(003560), 초록뱀(047820), 팬엔터테인먼트...</td>\n",
       "      <td>https://biz.chosun.com/site/data/html_dir/2020...</td>\n",
       "    </tr>\n",
       "    <tr>\n",
       "      <th>120</th>\n",
       "      <td>120</td>\n",
       "      <td>2020.04.09.</td>\n",
       "      <td>위지윅스튜디오, +4.49% 상승폭 확대</td>\n",
       "      <td>조선비즈</td>\n",
       "      <td>위지윅스튜디오 연관 테마IHQ(003560), 초록뱀(047820), 팬엔터테인먼트...</td>\n",
       "      <td>https://biz.chosun.com/site/data/html_dir/2020...</td>\n",
       "    </tr>\n",
       "    <tr>\n",
       "      <th>121</th>\n",
       "      <td>121</td>\n",
       "      <td>2020.04.09.</td>\n",
       "      <td>위지윅스튜디오, +4.49% 상승폭 확대</td>\n",
       "      <td>조선비즈</td>\n",
       "      <td>위지윅스튜디오 연관 테마IHQ(003560), 초록뱀(047820), 팬엔터테인먼트...</td>\n",
       "      <td>https://biz.chosun.com/site/data/html_dir/2020...</td>\n",
       "    </tr>\n",
       "  </tbody>\n",
       "</table>\n",
       "<p>122 rows × 6 columns</p>\n",
       "</div>\n",
       "      <button class=\"colab-df-convert\" onclick=\"convertToInteractive('df-1d1c76e3-1ed1-4348-849d-d2c5e41f777b')\"\n",
       "              title=\"Convert this dataframe to an interactive table.\"\n",
       "              style=\"display:none;\">\n",
       "        \n",
       "  <svg xmlns=\"http://www.w3.org/2000/svg\" height=\"24px\"viewBox=\"0 0 24 24\"\n",
       "       width=\"24px\">\n",
       "    <path d=\"M0 0h24v24H0V0z\" fill=\"none\"/>\n",
       "    <path d=\"M18.56 5.44l.94 2.06.94-2.06 2.06-.94-2.06-.94-.94-2.06-.94 2.06-2.06.94zm-11 1L8.5 8.5l.94-2.06 2.06-.94-2.06-.94L8.5 2.5l-.94 2.06-2.06.94zm10 10l.94 2.06.94-2.06 2.06-.94-2.06-.94-.94-2.06-.94 2.06-2.06.94z\"/><path d=\"M17.41 7.96l-1.37-1.37c-.4-.4-.92-.59-1.43-.59-.52 0-1.04.2-1.43.59L10.3 9.45l-7.72 7.72c-.78.78-.78 2.05 0 2.83L4 21.41c.39.39.9.59 1.41.59.51 0 1.02-.2 1.41-.59l7.78-7.78 2.81-2.81c.8-.78.8-2.07 0-2.86zM5.41 20L4 18.59l7.72-7.72 1.47 1.35L5.41 20z\"/>\n",
       "  </svg>\n",
       "      </button>\n",
       "      \n",
       "  <style>\n",
       "    .colab-df-container {\n",
       "      display:flex;\n",
       "      flex-wrap:wrap;\n",
       "      gap: 12px;\n",
       "    }\n",
       "\n",
       "    .colab-df-convert {\n",
       "      background-color: #E8F0FE;\n",
       "      border: none;\n",
       "      border-radius: 50%;\n",
       "      cursor: pointer;\n",
       "      display: none;\n",
       "      fill: #1967D2;\n",
       "      height: 32px;\n",
       "      padding: 0 0 0 0;\n",
       "      width: 32px;\n",
       "    }\n",
       "\n",
       "    .colab-df-convert:hover {\n",
       "      background-color: #E2EBFA;\n",
       "      box-shadow: 0px 1px 2px rgba(60, 64, 67, 0.3), 0px 1px 3px 1px rgba(60, 64, 67, 0.15);\n",
       "      fill: #174EA6;\n",
       "    }\n",
       "\n",
       "    [theme=dark] .colab-df-convert {\n",
       "      background-color: #3B4455;\n",
       "      fill: #D2E3FC;\n",
       "    }\n",
       "\n",
       "    [theme=dark] .colab-df-convert:hover {\n",
       "      background-color: #434B5C;\n",
       "      box-shadow: 0px 1px 3px 1px rgba(0, 0, 0, 0.15);\n",
       "      filter: drop-shadow(0px 1px 2px rgba(0, 0, 0, 0.3));\n",
       "      fill: #FFFFFF;\n",
       "    }\n",
       "  </style>\n",
       "\n",
       "      <script>\n",
       "        const buttonEl =\n",
       "          document.querySelector('#df-1d1c76e3-1ed1-4348-849d-d2c5e41f777b button.colab-df-convert');\n",
       "        buttonEl.style.display =\n",
       "          google.colab.kernel.accessAllowed ? 'block' : 'none';\n",
       "\n",
       "        async function convertToInteractive(key) {\n",
       "          const element = document.querySelector('#df-1d1c76e3-1ed1-4348-849d-d2c5e41f777b');\n",
       "          const dataTable =\n",
       "            await google.colab.kernel.invokeFunction('convertToInteractive',\n",
       "                                                     [key], {});\n",
       "          if (!dataTable) return;\n",
       "\n",
       "          const docLinkHtml = 'Like what you see? Visit the ' +\n",
       "            '<a target=\"_blank\" href=https://colab.research.google.com/notebooks/data_table.ipynb>data table notebook</a>'\n",
       "            + ' to learn more about interactive tables.';\n",
       "          element.innerHTML = '';\n",
       "          dataTable['output_type'] = 'display_data';\n",
       "          await google.colab.output.renderOutput(dataTable, element);\n",
       "          const docLink = document.createElement('div');\n",
       "          docLink.innerHTML = docLinkHtml;\n",
       "          element.appendChild(docLink);\n",
       "        }\n",
       "      </script>\n",
       "    </div>\n",
       "  </div>\n",
       "  "
      ],
      "text/plain": [
       "     Unnamed: 0         date  \\\n",
       "0             0  2019.11.11.   \n",
       "1             1  2019.11.11.   \n",
       "2             2  2019.11.11.   \n",
       "3             3  2019.11.11.   \n",
       "4             4  2019.11.11.   \n",
       "..          ...          ...   \n",
       "117         117  2020.04.09.   \n",
       "118         118  2020.04.09.   \n",
       "119         119  2020.04.09.   \n",
       "120         120  2020.04.09.   \n",
       "121         121  2020.04.09.   \n",
       "\n",
       "                                                 title  source  \\\n",
       "0               [특징주] IHQ 1,905원, 11일 9시 40분 등락률 6.42%   글로벌경제   \n",
       "1                  [특징주] IHQ ' 거래량 TOP10 ' 7위 종목 올라...  내외경제tv   \n",
       "2    [엔터테인먼트 테마 오전 시황] 상승률 상위 종목, 큐브엔터 +15.84%·IHQ ...    공감신문   \n",
       "3       [방송과엔터테인먼트 업종 14시 현재 주식시황] 상승률 상위 종목, 큐브엔터 ...  CCTV뉴스   \n",
       "4                                   IHQ, +12.57% VI 발동    조선비즈   \n",
       "..                                                 ...     ...   \n",
       "117                             위지윅스튜디오, +4.49% 상승폭 확대    조선비즈   \n",
       "118                             위지윅스튜디오, +4.49% 상승폭 확대    조선비즈   \n",
       "119                             위지윅스튜디오, +4.49% 상승폭 확대    조선비즈   \n",
       "120                             위지윅스튜디오, +4.49% 상승폭 확대    조선비즈   \n",
       "121                             위지윅스튜디오, +4.49% 상승폭 확대    조선비즈   \n",
       "\n",
       "                                              contents  \\\n",
       "0    11월 11일 9시 40분 현재 IHQ(003560)이 전일 대비 6.42% 등락률...   \n",
       "1    11일 10시 기준 거래량 상위종목IHQ 종목은 11일 10시 기준 7위를 차지했다...   \n",
       "2    큐브엔터, IHQ, 팬엔터테인먼트 등이 높은 상승률을 보이고 있다. 가장 많이 상승...   \n",
       "3    Design, IHQ, 방송과엔터테인먼트, 방송과엔터테인먼트 순으로 높은 상승률을 ...   \n",
       "4    IHQ(003560)가 VI가 발동했다. 전일 대비 12.57% 상승한 2,015원...   \n",
       "..                                                 ...   \n",
       "117  위지윅스튜디오 연관 테마IHQ(003560), 초록뱀(047820), 팬엔터테인먼트...   \n",
       "118  위지윅스튜디오 연관 테마IHQ(003560), 초록뱀(047820), 팬엔터테인먼트...   \n",
       "119  위지윅스튜디오 연관 테마IHQ(003560), 초록뱀(047820), 팬엔터테인먼트...   \n",
       "120  위지윅스튜디오 연관 테마IHQ(003560), 초록뱀(047820), 팬엔터테인먼트...   \n",
       "121  위지윅스튜디오 연관 테마IHQ(003560), 초록뱀(047820), 팬엔터테인먼트...   \n",
       "\n",
       "                                                  link  \n",
       "0    http://www.getnews.co.kr/view.php?ud=201911110...  \n",
       "1                  http://nbntv.co.kr/news/view/729483  \n",
       "2    http://www.gokorea.kr/news/articleView.html?id...  \n",
       "3    http://www.cctvnews.co.kr/news/articleView.htm...  \n",
       "4    https://biz.chosun.com/site/data/html_dir/2019...  \n",
       "..                                                 ...  \n",
       "117  https://biz.chosun.com/site/data/html_dir/2020...  \n",
       "118  https://biz.chosun.com/site/data/html_dir/2020...  \n",
       "119  https://biz.chosun.com/site/data/html_dir/2020...  \n",
       "120  https://biz.chosun.com/site/data/html_dir/2020...  \n",
       "121  https://biz.chosun.com/site/data/html_dir/2020...  \n",
       "\n",
       "[122 rows x 6 columns]"
      ]
     },
     "execution_count": 77,
     "metadata": {},
     "output_type": "execute_result"
    }
   ],
   "source": [
    "#엑셀 파일 불러오기\n",
    "news= pd.read_excel('IHQ <매도>.xlsx')\n",
    "news"
   ]
  },
  {
   "cell_type": "markdown",
   "metadata": {
    "id": "NFtKTqCLYftp"
   },
   "source": [
    "#데이터 전처리"
   ]
  },
  {
   "cell_type": "code",
   "execution_count": null,
   "metadata": {
    "colab": {
     "base_uri": "https://localhost:8080/"
    },
    "id": "QLFTLDrF6sAC",
    "outputId": "25700da0-a829-4c3d-bff7-c68304ede1a2"
   },
   "outputs": [
    {
     "name": "stdout",
     "output_type": "stream",
     "text": [
      "Reading package lists... Done\n",
      "Building dependency tree       \n",
      "Reading state information... Done\n",
      "fonts-nanum is already the newest version (20170925-1).\n",
      "The following package was automatically installed and is no longer required:\n",
      "  libnvidia-common-460\n",
      "Use 'sudo apt autoremove' to remove it.\n",
      "0 upgraded, 0 newly installed, 0 to remove and 7 not upgraded.\n",
      "/usr/share/fonts: caching, new cache contents: 0 fonts, 1 dirs\n",
      "/usr/share/fonts/truetype: caching, new cache contents: 0 fonts, 3 dirs\n",
      "/usr/share/fonts/truetype/humor-sans: caching, new cache contents: 1 fonts, 0 dirs\n",
      "/usr/share/fonts/truetype/liberation: caching, new cache contents: 16 fonts, 0 dirs\n",
      "/usr/share/fonts/truetype/nanum: caching, new cache contents: 10 fonts, 0 dirs\n",
      "/usr/local/share/fonts: caching, new cache contents: 0 fonts, 0 dirs\n",
      "/root/.local/share/fonts: skipping, no such directory\n",
      "/root/.fonts: skipping, no such directory\n",
      "/var/cache/fontconfig: cleaning cache directory\n",
      "/root/.cache/fontconfig: not cleaning non-existent cache directory\n",
      "/root/.fontconfig: not cleaning non-existent cache directory\n",
      "fc-cache: succeeded\n"
     ]
    }
   ],
   "source": [
    "#폰트설치\n",
    "\n",
    "!sudo apt-get install -y fonts-nanum\n",
    "!sudo fc-cache -fv\n",
    "!rm ~/.cache/matplotlib -rf"
   ]
  },
  {
   "cell_type": "code",
   "execution_count": null,
   "metadata": {
    "colab": {
     "base_uri": "https://localhost:8080/",
     "height": 161
    },
    "id": "eKxee7k_Yh8H",
    "outputId": "96e0e35a-33a4-4dd8-c0bc-f94682a4e567"
   },
   "outputs": [
    {
     "data": {
      "application/vnd.google.colaboratory.intrinsic+json": {
       "type": "string"
      },
      "text/plain": [
       "'11월 11일 9시 40분 현재 IHQ(003560)이 전일 대비 6.42% 등락률을 기록해 투자자들의 화제가 되고 있다. IHQ의 현재가는 1,905원으로 기록되고 있다. IHQ의 최고가는 2,325원으로 전일 종가 대비 29.89% 높은... 11일 10시 기준 거래량 상위종목IHQ 종목은 11일 10시 기준 7위를 차지했다. 11일 IHQ의 주가는 1900원 이고, 전일 대비 110원 상승하였다. IHQ의 11일 지정 상한가는 2325원, 지정 하한가는 1255원이다. IHQ의... 큐브엔터, IHQ, 팬엔터테인먼트 등이 높은 상승률을 보이고 있다. 가장 많이 상승하고 있는 큐브엔터의 현재가는 4,535이다. 전 거래일과 비교해 +15.84% 상승한 가격이다. 같은 기간 IHQ 종목은 +6.15%로 상승세를... Design, IHQ, 방송과엔터테인먼트, 방송과엔터테인먼트 순으로 높은 상승률을 보이고 있다.... IHQ의 현재가는 2,080원, 티비씨의 현재가는 1,475원, 제이웨이의 현재가는 1,105원으로 각각 전 거래일 보다... IHQ(003560)가\\xa0VI가 발동했다.\\xa0전일 대비 12.57% 상승한\\xa02,015원에 거래되고 있다. IHQ 연관 테마IHQ(003560), 초록뱀(047820), 팬엔터테인먼트(068050), CJ ENM(035760), SM C&amp;C(048550), NEW(160550), 삼화네트웍스... [그래프]IHQ 차트 분석 ◆ 주체별 매매동향 - 전일 외국인 대량 순매도 지난 한달을 기준으로 보면 외국인이... [그래프]IHQ 외국인/기관 매매동향 한경로보뉴스 이 기사는 한국경제신문과 금융 AI 전문기업 씽크풀이... 현재 IHQ(003560)는 전일대비 17.88% 상승하여 2,110원 선에서 거래가 이루어지고 있다. 외국인, 기관 모두... 상장주식수 대비 거래량은 0.63%로 적정수준 최근 한달간 IHQ의 상장주식수 대비 거래량을 비교해보니... 이투데이=고종민 기자 | IHQ가 매각 재추진가능성이 커지면서 강세를 보이고 있다. 11일 오전 9시 15분 현재 IHQ는 전 거래일 대비 120원(6.70%) 오른 1910원에 거래 중이다. IHQ의 최대주주인 딜라이브는 회사 매각을... 11일 투자은행(IB) 업계에 따르면 국민유선방송투자 채권단은 IHQ의 자회사인 연예기획사 큐브엔터의 매각... 케이블 방송 운영 및 연예기획사 IHQ가 지분 30.61%를 보유하고 있다. 그동안 큐브엔터는 수차례 매각 가능성이... ▲ (6위)IHQ, 주가상승률 : 약 12.01% (거래량= \\xa049651410주), 11일 IHQ \\xa0215원 상승, 시가총액 2932억원, 회전율 : 약 33.95% (=하루거래량/상장총주식수= \\xa049651410주/146236000주), IHQ 주가는 2005원을 기록하며... 로보뉴스 = 종합 엔터테인먼트 및 미디어 사업부 영위업체인 IHQ(003560)이 장 초반부터 큰 폭으로... [그래프]IHQ 일봉 차트 이 기사는 뉴스핌과 금융 AI 전문기업 씽크풀이 공동 개발한 기사 자동생성 알고리즘에... 이 밖에 IHQ와 팬엔터테인먼트 종목이 엔터테인먼트테마주를 견인하고 있는 모양세다. 코스피상장기업인 IHQ의 전일 거래량은 6,736,262주고, 외국인 거래비율은 2.71%이다. 팬엔터테인먼트의 전일 거래량은 155... Design, IHQ, 방송과엔터테인먼트, 방송과엔터테인먼트 순으로 높은 상승률을 보이고 있다.... IHQ의 현재가는 2,080원, 티비씨의 현재가는 1,475원, 제이웨이의 현재가는 1,105원으로 각각 전 거래일 보다... 큐브엔터의 최대주주는 30.61%를 보유한 IHQ이며, IHQ는 딜라이브가 45.48%의 지분으로 최대주주다. 큐브엔터 인수후보로는 국내 코스메틱 기업과 중국계 재무적투자자 등 2~3곳에 이르는 것으로 전해지고 있다.... SM C&amp;C 연관 테마IHQ(003560), 초록뱀(047820), 팬엔터테인먼트(068050), CJ ENM(035760), SM C&amp;C(048550), NEW(160550), 삼화네트웍스(046390), 화이브라더스코리아(204630), 스튜디오드래곤(253450), 덱스터(206560)... 2 IHQ ideograph-numeric ideograph-other;word-break:keep-all\"&gt;27.8 GS리테일 ideograph-numeric ideograph-other;word-break:keep-all\"&gt;21.9 DB하이텍 ideograph-numeric ideograph-other;word-break:keep-all... NEW 연관 테마IHQ(003560), 초록뱀(047820), 팬엔터테인먼트(068050), CJ ENM(035760), SM C&amp;C(048550), NEW(160550), 삼화네트웍스(046390), 화이브라더스코리아(204630), 스튜디오드래곤(253450), 덱스터(206560)... 이밖에도 IHQ(003560)가 5.87%(105원) 오른 1895원, NEW(160550)가 3.94%(160원) 오른 4225원, 화이브라더스가 3.46%(90원) 오른 2690원에 거래 중이다. SM C&amp;C(048550), 삼화네트웍스(046390) 초록뱀(047820) 등 드라마 제작사들이 소폭... 1 SK 29.8 LG이노텍 34.0 LG전자 28.7 현대제철 32.2 현대차 26.9 삼성SDI 29.0 삼성엔지니어링 24.2 삼성전자우 28.8 GS리테일 21.9 IHQ 27.6 강원랜드 21.1 DB하이텍 27.5 삼성화재 19.1 현대로템 26.2 삼성카드 19.0 [그래프]두산솔루스2우B 일봉 차트 [표] 거래원 상위(09:36 기준) 이 시각 거래소에서 두산솔루스2우B 이외에도 이월드(5.02%), IHQ(5.59%), 제넥신(5.84%), 비씨월드제약(15.91%), 큐브엔터(25.8%) 등이 상승세를 보이고... 전일 대비 5% 이상 오른 종목 가운데 재무건전성에서 \\'별 다섯 개\\'를 받은 종목은 남선알미늄, 이월드, IHQ 등 6개다. 같은 시각 코스피 지수는 전일 대비 0.33% 내린 2130.08, 코스닥 지수는 0.27% 하락한 662.83이다. 전체 상장... [그래프]기신정기 일봉 차트 [표] 거래원 상위(10:14 기준) 이 시각 거래소에서 기신정기 이외에도 신원종합개발(5.0%), 제이엠아이(6.53%), 티라유텍(15.82%), IHQ(6.42%), 제일제강(5.53%) 등이 상승세를 보이고 있다. [그래프]세우글로벌 일봉 차트 [표] 거래원 상위(09:42 기준) 이 시각 거래소에서 세우글로벌 이외에도 티케이케미칼(6.85%), 부국철강(6.77%), 노바텍(5.36%), IHQ(7.54%), 흥아해운(6.09%) 등이 상승세를 보이고 있다. [그래프]디와이 일봉 차트 [표] 거래원 상위(09:20 기준) 이 시각 거래소에서 디와이 이외에도 나우아이비캐피탈(7.46%), 덕양산업(12.65%), IHQ(5.31%), 유엔젤(21.46%), 한국테크놀로지(5.04%) 등이 상승세를 보이고... 03%),\\xa0IHQ( 18.99%),\\xa0티라유텍( 18.5%),\\xa0티케이케미칼( 17.4%),\\xa0아시아나IDT( 16.34%),\\xa0성문전자우( 13.27%),\\xa0휴림로봇( 12.94%),\\xa0SDN( 12.34%),\\xa0이그잭스( 12%),\\xa0티비씨( 10.73%),\\xa0한국테크놀로지( 9.79... [그래프]조일알미늄 일봉 차트 [표] 거래원 상위(11:52 기준) 이 시각 거래소에서 조일알미늄 이외에도 신원종합개발(5.0%), 휴림로봇(9.23%), 한국테크놀로지(7.72%), IHQ(5.31%), 알에프텍(5.09%) 등이 상승세를 보이고... [그래프]퓨전데이타 일봉 차트 [표] 거래원 상위(14:12 기준) 이 시각 거래소에서 퓨전데이타 이외에도 남선알미늄(29.96%), SM Life Design(24.9%), IHQ(14.8%), 휴마시스(10.56%), 오리엔트정공(11.2%) 등이 상승세를... 최근 인수합병시장에 매물로 나온 큐브엔터는 딜라이브 자회사인 iHQ가 지분 30.61%를 보유하고 있다. 이밖에 한류AI센터도 팍스넷에 인수될 가능성으로 연일 거래제한폭까지 상승했다. 디즈니 애니메이션... [주요 상승 테마](*표시는 코스닥 종목) ▶엔터테인먼트(+1.53%) 팬엔터테인먼트*(+4.44%), 에스엠*(+3.28%), 에프엔씨엔터*(+2.56%), 와이지엔터테인먼트*(+2.56%), IHQ(+12.01%) ▶보험(+1.29%) 동양생명(+5.96... 42% 상승한 14,800원, ▲IHQ(003560) 전일 대비 +12.01% 상승한 2,005원, ▲SBS미디어홀딩스(101060) 전일 대비 +0.25% 상승한 2,005원, ▲무학(033920) 전일 대비 -0.75% 하락한 9,210원, ▲롯데손해보험(000400)... 36%), IHQ( 12.01%), 보라티알( 11.73%), 티비씨( 10.73%), 이원컴포텍( 10.72%), 제이웨이( 9.9%), 코닉글로리( 9.76%), 라온피플( 9.45%), GV( 9.35%), 두올산업( 9.16%), 맥스로텍( 9.13%), 비씨월드제약( 8.77... 최대주주는 딜라이브로 자회사인 iHQ를 통해 큐브엔터의 지분 30.61%를 보유하고 있다. 큐브엔터는 JYP엔터테인먼트에서 갈라져 나온 연예소속사로 비(정지훈), 포미닛, 비스트 등의 인기 가수가 거쳐갔다. 현재는... 최근 인수합병시장에 매물로 나온 큐브엔터는 딜라이브 자회사인 iHQ가 지분 30.61%를 보유하고 있다. 이밖에 한류AI센터도 팍스넷에 인수될 가능성으로 연일 거래제한폭까지 상승했다. 디즈니 애니메이션... [주요 상승 테마](*표시는 코스닥 종목) ▶엔터테인먼트(+1.53%) 팬엔터테인먼트*(+4.44%), 에스엠*(+3.28%), 에프엔씨엔터*(+2.56%), 와이지엔터테인먼트*(+2.56%), IHQ(+12.01%) ▶보험(+1.29%) 동양생명(+5.96... 42% 상승한 14,800원, ▲IHQ(003560) 전일 대비 +12.01% 상승한 2,005원, ▲SBS미디어홀딩스(101060) 전일 대비 +0.25% 상승한 2,005원, ▲무학(033920) 전일 대비 -0.75% 하락한 9,210원, ▲롯데손해보험(000400)... 22% 상승한 가격이다. 같은 기간 SM Life Design 종목은 +14.07%로 상승세를 보이고 있다. 이어 팬엔터테인먼트 종목은 +8.34%로 상승하고 있으며 티비씨 종목은 +6.51%로 상승, IHQ 종목은 +6.42%로 상승세를 보이고 있다. [표] 외국인ㆍ기관 순매매량 (단위 주) [표] 주요 기관별 순매매량 (단위 주) ※ 사모펀드 등 일부 기관의 순매매량은 표시되지 않음 이 시각 거래소에서 KNN 이외에도 IHQ(18.16%), 큐브엔터(29.76%), 코닉글로리... (단위 주) ※ 사모펀드 등 일부 기관의 순매매량은 표시되지 않음 이 시각 거래소에서 한창제지 이외에도 푸드웰(5.31%), 선광(5.26%), 흥아해운(6.09%), IHQ(6.42%), 두산솔루스2우B(5.04%) 등이 상승세를 보이고 있다. [그래프]이월드 일봉 차트 [표] 거래원 상위(09:13 기준) 이 시각 거래소에서 이월드 이외에도 네오팜(5.14%), IHQ(5.31%), 시너지이노베이션(6.18%), 유엔젤(20.35%), 비씨월드제약(7.14%) 등이 상승세를 보이고 있다. [그래프]삼성카드 일봉 차트 [표] 거래원 상위(09:15 기준) 이 시각 거래소에서 삼성카드 이외에도 남선알미늄(7.08%), 양지사(5.13%), 대호에이엘(5.87%), IHQ(6.42%), 이월드(5.02%) 등이 상승세를 보이고 있다. 36%), IHQ( 12.01%), 보라티알( 11.73%), 티비씨( 10.73%), 이원컴포텍( 10.72%), 제이웨이( 9.9%), 코닉글로리( 9.76%), 라온피플( 9.45%), GV( 9.35%), 두올산업( 9.16%), 맥스로텍( 9.13%), 비씨월드제약( 8.77... 최대주주는 딜라이브로 자회사인 iHQ를 통해 큐브엔터의 지분 30.61%를 보유하고 있다. 큐브엔터는 JYP엔터테인먼트에서 갈라져 나온 연예소속사로 비(정지훈), 포미닛, 비스트 등의 인기 가수가 거쳐갔다. 현재는... 최근 인수합병시장에 매물로 나온 큐브엔터는 딜라이브 자회사인 iHQ가 지분 30.61%를 보유하고 있다. 이밖에 한류AI센터도 팍스넷에 인수될 가능성으로 연일 거래제한폭까지 상승했다. 디즈니 애니메이션... [주요 상승 테마](*표시는 코스닥 종목) ▶엔터테인먼트(+1.53%) 팬엔터테인먼트*(+4.44%), 에스엠*(+3.28%), 에프엔씨엔터*(+2.56%), 와이지엔터테인먼트*(+2.56%), IHQ(+12.01%) ▶보험(+1.29%) 동양생명(+5.96... 42% 상승한 14,800원, ▲IHQ(003560) 전일 대비 +12.01% 상승한 2,005원, ▲SBS미디어홀딩스(101060) 전일 대비 +0.25% 상승한 2,005원, ▲무학(033920) 전일 대비 -0.75% 하락한 9,210원, ▲롯데손해보험(000400)... 22% 상승한 가격이다. 같은 기간 SM Life Design 종목은 +14.07%로 상승세를 보이고 있다. 이어 팬엔터테인먼트 종목은 +8.34%로 상승하고 있으며 티비씨 종목은 +6.51%로 상승, IHQ 종목은 +6.42%로 상승세를 보이고 있다. [표] 외국인ㆍ기관 순매매량 (단위 주) [표] 주요 기관별 순매매량 (단위 주) ※ 사모펀드 등 일부 기관의 순매매량은 표시되지 않음 이 시각 거래소에서 KNN 이외에도 IHQ(18.16%), 큐브엔터(29.76%), 코닉글로리... (단위 주) ※ 사모펀드 등 일부 기관의 순매매량은 표시되지 않음 이 시각 거래소에서 한창제지 이외에도 푸드웰(5.31%), 선광(5.26%), 흥아해운(6.09%), IHQ(6.42%), 두산솔루스2우B(5.04%) 등이 상승세를 보이고 있다. [그래프]이월드 일봉 차트 [표] 거래원 상위(09:13 기준) 이 시각 거래소에서 이월드 이외에도 네오팜(5.14%), IHQ(5.31%), 시너지이노베이션(6.18%), 유엔젤(20.35%), 비씨월드제약(7.14%) 등이 상승세를 보이고 있다. [그래프]삼성카드 일봉 차트 [표] 거래원 상위(09:15 기준) 이 시각 거래소에서 삼성카드 이외에도 남선알미늄(7.08%), 양지사(5.13%), 대호에이엘(5.87%), IHQ(6.42%), 이월드(5.02%) 등이 상승세를 보이고 있다. 최근 인수합병시장에 매물로 나온 큐브엔터는 딜라이브 자회사인 iHQ가 지분 30.61%를 보유하고 있다. 이밖에 한류AI센터도 팍스넷에 인수될 가능성으로 연일 거래제한폭까지 상승했다. 디즈니 애니메이션... [주요 상승 테마](*표시는 코스닥 종목) ▶엔터테인먼트(+1.53%) 팬엔터테인먼트*(+4.44%), 에스엠*(+3.28%), 에프엔씨엔터*(+2.56%), 와이지엔터테인먼트*(+2.56%), IHQ(+12.01%) ▶보험(+1.29%) 동양생명(+5.96... 42% 상승한 14,800원, ▲IHQ(003560) 전일 대비 +12.01% 상승한 2,005원, ▲SBS미디어홀딩스(101060) 전일 대비 +0.25% 상승한 2,005원, ▲무학(033920) 전일 대비 -0.75% 하락한 9,210원, ▲롯데손해보험(000400)... 22% 상승한 가격이다. 같은 기간 SM Life Design 종목은 +14.07%로 상승세를 보이고 있다. 이어 팬엔터테인먼트 종목은 +8.34%로 상승하고 있으며 티비씨 종목은 +6.51%로 상승, IHQ 종목은 +6.42%로 상승세를 보이고 있다. [표] 외국인ㆍ기관 순매매량 (단위 주) [표] 주요 기관별 순매매량 (단위 주) ※ 사모펀드 등 일부 기관의 순매매량은 표시되지 않음 이 시각 거래소에서 KNN 이외에도 IHQ(18.16%), 큐브엔터(29.76%), 코닉글로리... (단위 주) ※ 사모펀드 등 일부 기관의 순매매량은 표시되지 않음 이 시각 거래소에서 한창제지 이외에도 푸드웰(5.31%), 선광(5.26%), 흥아해운(6.09%), IHQ(6.42%), 두산솔루스2우B(5.04%) 등이 상승세를 보이고 있다. [그래프]이월드 일봉 차트 [표] 거래원 상위(09:13 기준) 이 시각 거래소에서 이월드 이외에도 네오팜(5.14%), IHQ(5.31%), 시너지이노베이션(6.18%), 유엔젤(20.35%), 비씨월드제약(7.14%) 등이 상승세를 보이고 있다. [그래프]삼성카드 일봉 차트 [표] 거래원 상위(09:15 기준) 이 시각 거래소에서 삼성카드 이외에도 남선알미늄(7.08%), 양지사(5.13%), 대호에이엘(5.87%), IHQ(6.42%), 이월드(5.02%) 등이 상승세를 보이고 있다. [그래프]삼성카드 일봉 차트 [표] 거래원 상위(09:15 기준) 이 시각 거래소에서 삼성카드 이외에도 남선알미늄(7.08%), 양지사(5.13%), 대호에이엘(5.87%), IHQ(6.42%), 이월드(5.02%) 등이 상승세를 보이고 있다. [그래프]삼성카드 일봉 차트 [표] 거래원 상위(09:15 기준) 이 시각 거래소에서 삼성카드 이외에도 남선알미늄(7.08%), 양지사(5.13%), 대호에이엘(5.87%), IHQ(6.42%), 이월드(5.02%) 등이 상승세를 보이고 있다. [그래프]삼성카드 일봉 차트 [표] 거래원 상위(09:15 기준) 이 시각 거래소에서 삼성카드 이외에도 남선알미늄(7.08%), 양지사(5.13%), 대호에이엘(5.87%), IHQ(6.42%), 이월드(5.02%) 등이 상승세를 보이고 있다. [그래프]삼성카드 일봉 차트 [표] 거래원 상위(09:15 기준) 이 시각 거래소에서 삼성카드 이외에도 남선알미늄(7.08%), 양지사(5.13%), 대호에이엘(5.87%), IHQ(6.42%), 이월드(5.02%) 등이 상승세를 보이고 있다. ▲ (42위) IHQ, 주간 거래량 : 약 5백만주, 주간 변동폭 : 3.72% 상승, 65원 상승 (30일 IHQ 종가 : 1745원, 3일 주가 : 1810원), IHQ 주간 거래대금은 약 103억원을 기록했다. ▲ (43위) 콤텍시스템, 주간 거래량 : 약... 그는 △주류과세 체계 개편 (하이트진로, 롯데칠성) △온라인투자연계금융업법 시행 (카카오) △영상 콘텐츠 제작비용 세액공제 (제이콘텐트리, 초록뱀, IHQ, 오로라)를 주목하라고 조언했다. 기획재정부는 2020년... 이는 웹툰 창작가, 드라마 작가, 프로듀서 등 콘텐츠 관련 핵심 인력의 몸값 상승으로 이어지고 있다\"며 \"스튜디오드래곤 외에도 콘텐츠 제작 경험·능력을 보유한 업체들 (제이콘텐트리, 초록뱀, IHQ, 오로라 등)에... 이는 웹툰 창작가, 드라마 작가, 프로듀서 등 콘텐츠 관련 핵심 인력의 몸값 상승으로 이어지고 있다\"며 \"스튜디오드래곤 외에도 콘텐츠 제작 경험·능력을 보유한 업체들 (제이콘텐트리, 초록뱀, IHQ, 오로라 등)에... 이는 웹툰 창작가, 드라마 작가, 프로듀서 등 콘텐츠 관련 핵심 인력의 몸값 상승으로 이어지고 있다\"며 \"스튜디오드래곤 외에도 콘텐츠 제작 경험·능력을 보유한 업체들 (제이콘텐트리, 초록뱀, IHQ, 오로라 등)에... 이는 웹툰 창작가, 드라마 작가, 프로듀서 등 콘텐츠 관련 핵심 인력의 몸값 상승으로 이어지고 있다\"며 \"스튜디오드래곤 외에도 콘텐츠 제작 경험·능력을 보유한 업체들 (제이콘텐트리, 초록뱀, IHQ, 오로라 등)에... 이는 웹툰 창작가, 드라마 작가, 프로듀서 등 콘텐츠 관련 핵심 인력의 몸값 상승으로 이어지고 있다\"며 \"스튜디오드래곤 외에도 콘텐츠 제작 경험·능력을 보유한 업체들 (제이콘텐트리, 초록뱀, IHQ, 오로라 등)에... 이는 웹툰 창작가, 드라마 작가, 프로듀서 등 콘텐츠 관련 핵심 인력의 몸값 상승으로 이어지고 있다\"며 \"스튜디오드래곤 외에도 콘텐츠 제작 경험·능력을 보유한 업체들 (제이콘텐트리, 초록뱀, IHQ, 오로라 등)에... 이는 웹툰 창작가, 드라마 작가, 프로듀서 등 콘텐츠 관련 핵심 인력의 몸값 상승으로 이어지고 있다\"며 \"스튜디오드래곤 외에도 콘텐츠 제작 경험·능력을 보유한 업체들 (제이콘텐트리, 초록뱀, IHQ, 오로라 등)에... 이는 웹툰 창작가, 드라마 작가, 프로듀서 등 콘텐츠 관련 핵심 인력의 몸값 상승으로 이어지고 있다\"며 \"스튜디오드래곤 외에도 콘텐츠'"
      ]
     },
     "execution_count": 78,
     "metadata": {},
     "output_type": "execute_result"
    }
   ],
   "source": [
    "articles = news['contents'].tolist()\n",
    "#print(len(articles))  # 30\n",
    "\n",
    "articles = ' '.join(articles)\n",
    "articles = articles[:10000]\n",
    "articles"
   ]
  },
  {
   "cell_type": "code",
   "execution_count": null,
   "metadata": {
    "colab": {
     "base_uri": "https://localhost:8080/"
    },
    "id": "4Tg8kHlWYtzi",
    "outputId": "b4bb4958-7bb7-4cd7-e8cc-9f00682bcec8"
   },
   "outputs": [
    {
     "name": "stdout",
     "output_type": "stream",
     "text": [
      "Looking in indexes: https://pypi.org/simple, https://us-python.pkg.dev/colab-wheels/public/simple/\n",
      "Requirement already satisfied: konlpy in /usr/local/lib/python3.8/dist-packages (0.6.0)\n",
      "Requirement already satisfied: numpy>=1.6 in /usr/local/lib/python3.8/dist-packages (from konlpy) (1.21.6)\n",
      "Requirement already satisfied: lxml>=4.1.0 in /usr/local/lib/python3.8/dist-packages (from konlpy) (4.9.1)\n",
      "Requirement already satisfied: JPype1>=0.7.0 in /usr/local/lib/python3.8/dist-packages (from konlpy) (1.4.1)\n",
      "Requirement already satisfied: packaging in /usr/local/lib/python3.8/dist-packages (from JPype1>=0.7.0->konlpy) (21.3)\n",
      "Requirement already satisfied: pyparsing!=3.0.5,>=2.0.2 in /usr/local/lib/python3.8/dist-packages (from packaging->JPype1>=0.7.0->konlpy) (3.0.9)\n"
     ]
    }
   ],
   "source": [
    "!pip install konlpy"
   ]
  },
  {
   "cell_type": "code",
   "execution_count": null,
   "metadata": {
    "colab": {
     "base_uri": "https://localhost:8080/"
    },
    "id": "H32JvOV8YxGf",
    "outputId": "848747a8-535f-4cfb-dba3-e7c8c3ce1676"
   },
   "outputs": [
    {
     "name": "stdout",
     "output_type": "stream",
     "text": [
      "[('11월', 'Number'), ('11일', 'Number'), ('9시', 'Number'), ('40분', 'Number'), ('현재', 'Noun'), ('IHQ', 'Alpha'), ('(', 'Punctuation'), ('003560', 'Number'), (')', 'Punctuation'), ('이', 'Noun'), ('전일', 'Noun'), ('대비', 'Noun'), ('6.42%', 'Number'), ('등락', 'Noun'), ('률', 'Noun'), ('을', 'Josa'), ('기록', 'Noun'), ('하다', 'Verb'), ('투자자', 'Noun'), ('들', 'Suffix'), ('의', 'Josa'), ('화제', 'Noun'), ('가', 'Josa'), ('되다', 'Verb'), ('있다', 'Adjective'), ('.', 'Punctuation'), ('IHQ', 'Alpha'), ('의', 'Noun'), ('현재', 'Noun'), ('가다', 'Verb'), ('1,905원', 'Number'), ('으로', 'Foreign'), ('기록', 'Noun'), ('되다', 'Verb'), ('있다', 'Adjective'), ('.', 'Punctuation'), ('IHQ', 'Alpha'), ('의', 'Noun'), ('최고', 'Noun'), ('가다', 'Verb'), ('2,325원', 'Number'), ('으로', 'Foreign'), ('전일', 'Noun'), ('종가', 'Noun'), ('대비', 'Noun'), ('29.89%', 'Number'), ('높다', 'Adjective'), ('...', 'Punctuation'), ('11일', 'Number'), ('10시', 'Number'), ('기준', 'Noun'), ('거래', 'Noun'), ('량', 'Noun'), ('상위', 'Noun'), ('종목', 'Noun'), ('IHQ', 'Alpha'), ('종목', 'Noun'), ('은', 'Josa'), ('11일', 'Number'), ('10시', 'Number'), ('기준', 'Noun'), ('7', 'Number'), ('위', 'Noun'), ('를', 'Josa'), ('차지', 'Noun'), ('하다', 'Verb'), ('.', 'Punctuation'), ('11일', 'Number'), ('IHQ', 'Alpha'), ('의', 'Noun'), ('주가', 'Noun'), ('는', 'Josa'), ('1900원', 'Number'), ('이고', 'Josa'), (',', 'Punctuation'), ('전일', 'Noun'), ('대비', 'Noun'), ('110원', 'Number'), ('상승', 'Noun'), ('하다', 'Verb'), ('.', 'Punctuation'), ('IHQ', 'Alpha'), ('의', 'Noun'), ('11일', 'Number'), ('지정', 'Noun'), ('상한', 'Noun'), ('가다', 'Verb'), ('2325원', 'Number'), (',', 'Punctuation'), ('지정', 'Noun'), ('하', 'Exclamation'), ('하다', 'Verb'), ('1255원', 'Number'), ('이다', 'Foreign'), ('.', 'Punctuation'), ('IHQ', 'Alpha'), ('의', 'Noun'), ('...', 'Punctuation'), ('큐브', 'Noun'), ('엔', 'Josa'), ('터', 'Noun'), (',', 'Punctuation'), ('IHQ', 'Alpha'), (',', 'Punctuation'), ('팬', 'Noun'), ('엔터테인먼트', 'Noun'), ('등', 'Noun'), ('이', 'Josa'), ('높다', 'Adjective'), ('상', 'Noun'), ('승률', 'Noun'), ('을', 'Josa'), ('보이', 'Noun'), ('고', 'Josa'), ('있다', 'Adjective'), ('.', 'Punctuation'), ('가장', 'Noun'), ('많이', 'Adverb'), ('상승', 'Noun'), ('하고', 'Josa'), ('있다', 'Adjective'), ('큐브', 'Noun'), ('엔', 'Josa'), ('터', 'Noun'), ('의', 'Josa'), ('현재', 'Noun'), ('가다', 'Verb'), ('4,535', 'Number'), ('이다', 'Josa'), ('.', 'Punctuation'), ('전', 'Noun'), ('거래', 'Noun'), ('일과', 'Noun'), ('비교', 'Noun'), ('하다', 'Verb'), ('+', 'Punctuation'), ('15.84%', 'Number'), ('상승', 'Noun'), ('한', 'Josa'), ('가격', 'Noun'), ('이다', 'Josa'), ('.', 'Punctuation'), ('같다', 'Adjective'), ('기간', 'Noun'), ('IHQ', 'Alpha'), ('종목', 'Noun'), ('은', 'Josa'), ('+', 'Punctuation'), ('6.15%', 'Number'), ('로', 'Noun'), ('상승세', 'Noun'), ('를', 'Josa'), ('...', 'Punctuation'), ('Design', 'Alpha'), (',', 'Punctuation'), ('IHQ', 'Alpha'), (',', 'Punctuation'), ('방송', 'Noun'), ('과', 'Josa'), ('엔터테인먼트', 'Noun'), (',', 'Punctuation'), ('방송', 'Noun'), ('과', 'Josa'), ('엔터테인먼트', 'Noun'), ('순', 'Noun'), ('으로', 'Josa'), ('높다', 'Adjective'), ('상', 'Noun'), ('승률', 'Noun'), ('을', 'Josa'), ('보이', 'Noun'), ('고', 'Josa'), ('있다', 'Adjective'), ('....', 'Punctuation'), ('IHQ', 'Alpha'), ('의', 'Noun'), ('현재', 'Noun'), ('가다', 'Verb'), ('2,080원', 'Number'), (',', 'Punctuation'), ('티비', 'Noun'), ('씨', 'Suffix'), ('의', 'Josa'), ('현재', 'Noun'), ('가다', 'Verb'), ('1,475원', 'Number'), (',', 'Punctuation'), ('제', 'Modifier'), ('이', 'Modifier'), ('웨이', 'Noun'), ('의', 'Josa'), ('현재', 'Noun'), ('가다', 'Verb'), ('1,105원', 'Number'), ('으로', 'Foreign'), ('각각', 'Noun'), ('전', 'Noun'), ('거래', 'Noun'), ('일', 'Noun'), ('보다', 'Verb'), ('...', 'Punctuation'), ('IHQ', 'Alpha'), ('(', 'Punctuation'), ('003560', 'Number'), (')', 'Punctuation'), ('가다', 'Verb'), ('\\xa0', 'Foreign'), ('VI', 'Alpha'), ('가다', 'Verb'), ('발동', 'Noun'), ('하다', 'Verb'), ('.', 'Punctuation'), ('\\xa0', 'Foreign'), ('전일', 'Noun'), ('대비', 'Noun'), ('12.57%', 'Number'), ('상승', 'Noun'), ('한', 'Josa'), ('\\xa0', 'Foreign'), ('2,015원', 'Number'), ('에', 'Foreign'), ('거래', 'Noun'), ('되다', 'Verb'), ('있다', 'Adjective'), ('.', 'Punctuation'), ('IHQ', 'Alpha'), ('연관', 'Noun'), ('테마', 'Noun'), ('IHQ', 'Alpha'), ('(', 'Punctuation'), ('003560', 'Number'), ('),', 'Punctuation'), ('초록', 'Noun'), ('뱀', 'Noun'), ('(', 'Punctuation'), ('047820', 'Number'), ('),', 'Punctuation'), ('팬', 'Noun'), ('엔터테인먼트', 'Noun'), ('(', 'Punctuation'), ('068050', 'Number'), ('),', 'Punctuation'), ('CJ', 'Alpha'), ('ENM', 'Alpha'), ('(', 'Punctuation'), ('035760', 'Number'), ('),', 'Punctuation'), ('SM', 'Alpha'), ('C', 'Alpha'), ('&', 'Punctuation'), ('amp', 'Alpha'), (';', 'Punctuation'), ('C', 'Alpha'), ('(', 'Punctuation'), ('048550', 'Number'), ('),', 'Punctuation'), ('NEW', 'Alpha'), ('(', 'Punctuation'), ('160550', 'Number'), ('),', 'Punctuation'), ('삼화', 'Noun'), ('네트웍', 'Noun'), ('스', 'Noun'), ('...', 'Punctuation'), ('[', 'Punctuation'), ('그래프', 'Noun'), (']', 'Punctuation'), ('IHQ', 'Alpha'), ('차트', 'Noun'), ('분석', 'Noun'), ('◆', 'Foreign'), ('주체', 'Noun'), ('별', 'Noun'), ('매매', 'Noun'), ('동향', 'Noun'), ('-', 'Punctuation'), ('전일', 'Noun'), ('외국인', 'Noun'), ('대량', 'Noun'), ('순', 'Modifier'), ('매도', 'Noun'), ('지난', 'Noun'), ('한', 'Determiner'), ('달', 'Noun'), ('을', 'Josa'), ('기준', 'Noun'), ('으로', 'Josa'), ('보다', 'Verb'), ('외국인', 'Noun'), ('이', 'Josa'), ('...', 'Punctuation'), ('[', 'Punctuation'), ('그래프', 'Noun'), (']', 'Punctuation'), ('IHQ', 'Alpha'), ('외국인', 'Noun'), ('/', 'Punctuation'), ('기관', 'Noun'), ('매매', 'Noun'), ('동향', 'Noun'), ('한', 'Determiner'), ('경로', 'Noun'), ('보', 'Noun'), ('뉴스', 'Noun'), ('이', 'Noun'), ('기사', 'Noun'), ('는', 'Josa'), ('한국', 'Noun'), ('경', 'Modifier'), ('제', 'Modifier'), ('신문', 'Noun'), ('과', 'Josa'), ('금융', 'Noun'), ('AI', 'Alpha'), ('전문', 'Noun'), ('기업', 'Noun'), ('씽', 'Adverb'), ('크다', 'Verb'), ('풀이', 'Noun'), ('...', 'Punctuation'), ('현재', 'Noun'), ('IHQ', 'Alpha'), ('(', 'Punctuation'), ('003560', 'Number'), (')', 'Punctuation'), ('늘다', 'Verb'), ('전일', 'Noun'), ('대비', 'Noun'), ('17.88%', 'Number'), ('상승', 'Noun'), ('하다', 'Verb'), ('2,110원', 'Number'), ('선', 'Noun'), ('에서', 'Josa'), ('거래', 'Noun'), ('가', 'Josa'), ('이루어지다', 'Verb'), ('있다', 'Adjective'), ('.', 'Punctuation'), ('외국인', 'Noun'), (',', 'Punctuation'), ('기관', 'Noun'), ('모두', 'Noun'), ('...', 'Punctuation'), ('상장', 'Noun'), ('주', 'Modifier'), ('식수', 'Noun'), ('대비', 'Noun'), ('거래량', 'Noun'), ('은', 'Josa'), ('0.63%', 'Number'), ('로', 'Noun'), ('적정', 'Noun'), ('수준', 'Noun'), ('최근', 'Noun'), ('한', 'Determiner'), ('달', 'Noun'), ('간', 'Suffix'), ('IHQ', 'Alpha'), ('의', 'Noun'), ('상장', 'Noun'), ('주', 'Modifier'), ('식수', 'Noun'), ('대비', 'Noun'), ('거래량', 'Noun'), ('을', 'Josa'), ('비교', 'Noun'), ('해보다', 'Verb'), ('...', 'Punctuation'), ('이투데이', 'Noun'), ('=', 'Punctuation'), ('고종', 'Noun'), ('민', 'Noun'), ('기자', 'Noun'), ('|', 'Punctuation'), ('IHQ', 'Alpha'), ('가다', 'Verb'), ('매각', 'Noun'), ('재', 'Noun'), ('추진', 'Noun'), ('가능성', 'Noun'), ('이', 'Josa'), ('커지다', 'Verb'), ('강세', 'Noun'), ('를', 'Josa'), ('보이', 'Noun'), ('고', 'Josa'), ('있다', 'Adjective'), ('.', 'Punctuation'), ('11일', 'Number'), ('오전', 'Noun'), ('9시', 'Number'), ('15분', 'Number'), ('현재', 'Noun'), ('IHQ', 'Alpha'), ('늘다', 'Verb'), ('전', 'Noun'), ('거래', 'Noun'), ('일', 'Noun'), ('대비', 'Noun'), ('120원', 'Number'), ('(', 'Punctuation'), ('6.70%', 'Number'), (')', 'Foreign'), ('오른', 'Noun'), ('1910원', 'Number'), ('에', 'Foreign'), ('거래', 'Noun'), ('중이', 'Noun'), ('다', 'Josa'), ('.', 'Punctuation'), ('IHQ', 'Alpha'), ('의', 'Noun'), ('최대', 'Noun'), ('주', 'Modifier'), ('주인', 'Noun'), ('딜', 'Noun'), ('라이브', 'Noun'), ('는', 'Josa'), ('회사', 'Noun'), ('매각', 'Noun'), ('을', 'Josa'), ('...', 'Punctuation'), ('11일', 'Number'), ('투자', 'Noun'), ('은행', 'Noun'), ('(', 'Punctuation'), ('IB', 'Alpha'), (')', 'Punctuation'), ('업계', 'Noun'), ('에', 'Josa'), ('따르다', 'Verb'), ('국민', 'Noun'), ('유선', 'Noun'), ('방송', 'Noun'), ('투자', 'Noun'), ('채권', 'Noun'), ('단', 'Noun'), ('은', 'Josa'), ('IHQ', 'Alpha'), ('의', 'Noun'), ('자회사', 'Noun'), ('인', 'Josa'), ('연예기획사', 'Noun'), ('큐브', 'Noun'), ('엔', 'Josa'), ('터', 'Noun'), ('의', 'Josa'), ('매각', 'Noun'), ('...', 'Punctuation'), ('케이블', 'Noun'), ('방송', 'Noun'), ('운영', 'Noun'), ('및', 'Noun'), ('연예기획사', 'Noun'), ('IHQ', 'Alpha'), ('가다', 'Verb'), ('지', 'Modifier'), ('분', 'Noun'), ('30.61%', 'Number'), ('를', 'Noun'), ('보유', 'Noun'), ('하고', 'Josa'), ('있다', 'Adjective'), ('.', 'Punctuation'), ('그동안', 'Noun'), ('큐브', 'Noun'), ('엔', 'Josa'), ('터', 'Noun'), ('는', 'Josa'), ('수', 'Modifier'), ('차례', 'Noun'), ('매각', 'Noun'), ('가능성', 'Noun'), ('이', 'Josa'), ('...', 'Punctuation'), ('▲', 'Foreign'), ('(', 'Punctuation'), ('6', 'Number'), ('위', 'Noun'), (')', 'Punctuation'), ('IHQ', 'Alpha'), (',', 'Punctuation'), ('주가', 'Noun'), ('상', 'Suffix'), ('승률', 'Noun'), (':', 'Punctuation'), ('약', 'Noun'), ('12.01%', 'Number'), ('(', 'Punctuation'), ('거래', 'Noun'), ('량', 'Noun'), ('=', 'Punctuation'), ('11일', 'Number'), ('IHQ', 'Alpha'), ('상승', 'Noun'), (',', 'Punctuation'), ('시가총액', 'Noun'), ('2932억원', 'Number'), (',', 'Punctuation'), ('회전', 'Noun'), ('율', 'Noun'), (':', 'Punctuation'), ('약', 'Noun'), ('33.95%', 'Number'), ('(=', 'Punctuation'), ('하루', 'Noun'), ('거래', 'Noun'), ('량', 'Noun'), ('/', 'Punctuation'), ('상장', 'Noun'), ('총', 'Modifier'), ('주', 'Modifier'), ('식수', 'Noun'), ('=', 'Punctuation'), ('IHQ', 'Alpha'), ('주가', 'Noun'), ('는', 'Josa'), ('2005원', 'Number'), ('을', 'Foreign'), ('기록', 'Noun'), ('하다', 'Verb'), ('...', 'Punctuation'), ('로보', 'Noun'), ('뉴스', 'Noun'), ('=', 'Punctuation'), ('종합', 'Noun'), ('엔터테인먼트', 'Noun'), ('및', 'Noun'), ('미디어', 'Noun'), ('사업', 'Noun'), ('부', 'Noun'), ('영', 'Modifier'), ('위업', 'Noun'), ('체인', 'Noun'), ('IHQ', 'Alpha'), ('(', 'Punctuation'), ('003560', 'Number'), (')', 'Punctuation'), ('이', 'Noun'), ('장', 'Noun'), ('초반', 'Noun'), ('부터', 'Josa'), ('크다', 'Verb'), ('폭', 'Noun'), ('으로', 'Josa'), ('...', 'Punctuation'), ('[', 'Punctuation'), ('그래프', 'Noun'), (']', 'Punctuation'), ('IHQ', 'Alpha'), ('일봉', 'Noun'), ('차트', 'Noun'), ('이', 'Noun'), ('기사', 'Noun'), ('는', 'Josa'), ('뉴스', 'Noun'), ('피다', 'Verb'), ('금융', 'Noun'), ('AI', 'Alpha'), ('전문', 'Noun'), ('기업', 'Noun'), ('씽', 'Adverb'), ('크다', 'Verb'), ('풀이', 'Noun'), ('공동', 'Noun'), ('개발', 'Noun'), ('한', 'Josa'), ('기사', 'Noun'), ('자', 'Noun'), ('동생', 'Noun'), ('성', 'Suffix'), ('알고리즘', 'Noun'), ('에', 'Josa'), ('...', 'Punctuation'), ('이', 'Noun'), ('밖에', 'Josa'), ('IHQ', 'Alpha'), ('오다', 'Verb'), ('팬', 'Noun'), ('엔터테인먼트', 'Noun'), ('종목', 'Noun'), ('이', 'Josa'), ('엔터테인먼트', 'Noun'), ('테마주', 'Noun'), ('를', 'Josa'), ('견인', 'Noun'), ('하고', 'Josa'), ('있다', 'Adjective'), ('모양', 'Noun'), ('세다', 'Verb'), ('.', 'Punctuation'), ('코스피', 'Noun'), ('상장', 'Noun'), ('기업인', 'Noun'), ('IHQ', 'Alpha'), ('의', 'Noun'), ('전일', 'Noun'), ('거래량', 'Noun'), ('은', 'Josa'), ('6,736,262', 'Number'), ('주다', 'Verb'), (',', 'Punctuation'), ('외국인', 'Noun'), ('거래', 'Noun'), ('비율', 'Noun'), ('은', 'Josa'), ('2.71%', 'Number'), ('이다', 'Josa'), ('.', 'Punctuation'), ('팬', 'Noun'), ('엔터테인먼트', 'Noun'), ('의', 'Josa'), ('전일', 'Noun'), ('거래량', 'Noun'), ('은', 'Josa'), ('155', 'Number'), ('...', 'Punctuation'), ('Design', 'Alpha'), (',', 'Punctuation'), ('IHQ', 'Alpha'), (',', 'Punctuation'), ('방송', 'Noun'), ('과', 'Josa'), ('엔터테인먼트', 'Noun'), (',', 'Punctuation'), ('방송', 'Noun'), ('과', 'Josa'), ('엔터테인먼트', 'Noun'), ('순', 'Noun'), ('으로', 'Josa'), ('높다', 'Adjective'), ('상', 'Noun'), ('승률', 'Noun'), ('을', 'Josa'), ('보이', 'Noun'), ('고', 'Josa'), ('있다', 'Adjective'), ('....', 'Punctuation'), ('IHQ', 'Alpha'), ('의', 'Noun'), ('현재', 'Noun'), ('가다', 'Verb'), ('2,080원', 'Number'), (',', 'Punctuation'), ('티비', 'Noun'), ('씨', 'Suffix'), ('의', 'Josa'), ('현재', 'Noun'), ('가다', 'Verb'), ('1,475원', 'Number'), (',', 'Punctuation'), ('제', 'Modifier'), ('이', 'Modifier'), ('웨이', 'Noun'), ('의', 'Josa'), ('현재', 'Noun'), ('가다', 'Verb'), ('1,105원', 'Number'), ('으로', 'Foreign'), ('각각', 'Noun'), ('전', 'Noun'), ('거래', 'Noun'), ('일', 'Noun'), ('보다', 'Verb'), ('...', 'Punctuation'), ('큐브', 'Noun'), ('엔', 'Josa'), ('터', 'Noun'), ('의', 'Josa'), ('최대', 'Noun'), ('주주', 'Noun'), ('는', 'Josa'), ('30.61%', 'Number'), ('를', 'Noun'), ('보유', 'Noun'), ('한', 'Josa'), ('IHQ', 'Alpha'), ('이며', 'Josa'), (',', 'Punctuation'), ('IHQ', 'Alpha'), ('늘다', 'Verb'), ('딜', 'Noun'), ('라이브', 'Noun'), ('가', 'Josa'), ('45.48%', 'Number'), ('의', 'Noun'), ('지', 'Modifier'), ('분', 'Noun'), ('으로', 'Josa'), ('최대', 'Noun'), ('주주', 'Noun'), ('다', 'Josa'), ('.', 'Punctuation'), ('큐브', 'Noun'), ('엔', 'Josa'), ('터', 'Noun'), ('인수', 'Noun'), ('후보', 'Noun'), ('로는', 'Josa'), ('국내', 'Noun'), ('코스', 'Noun'), ('메', 'Noun'), ('틱', 'Suffix'), ('기업', 'Noun'), ('과', 'Josa'), ('중국', 'Noun'), ('계', 'Suffix'), ('재무', 'Noun'), ('적', 'Suffix'), ('투자자', 'Noun'), ('등', 'Noun'), ('2~3', 'Number'), ('곳', 'Noun'), ('에', 'Josa'), ('이르다', 'Verb'), ('것', 'Noun'), ('으로', 'Josa'), ('전해지다', 'Verb'), ('있다', 'Adjective'), ('....', 'Punctuation'), ('SM', 'Alpha'), ('C', 'Alpha'), ('&', 'Punctuation'), ('amp', 'Alpha'), (';', 'Punctuation'), ('C', 'Alpha'), ('연관', 'Noun'), ('테마', 'Noun'), ('IHQ', 'Alpha'), ('(', 'Punctuation'), ('003560', 'Number'), ('),', 'Punctuation'), ('초록', 'Noun'), ('뱀', 'Noun'), ('(', 'Punctuation'), ('047820', 'Number'), ('),', 'Punctuation'), ('팬', 'Noun'), ('엔터테인먼트', 'Noun'), ('(', 'Punctuation'), ('068050', 'Number'), ('),', 'Punctuation'), ('CJ', 'Alpha'), ('ENM', 'Alpha'), ('(', 'Punctuation'), ('035760', 'Number'), ('),', 'Punctuation'), ('SM', 'Alpha'), ('C', 'Alpha'), ('&', 'Punctuation'), ('amp', 'Alpha'), (';', 'Punctuation'), ('C', 'Alpha'), ('(', 'Punctuation'), ('048550', 'Number'), ('),', 'Punctuation'), ('NEW', 'Alpha'), ('(', 'Punctuation'), ('160550', 'Number'), ('),', 'Punctuation'), ('삼화', 'Noun'), ('네트웍', 'Noun'), ('스', 'Noun'), ('(', 'Punctuation'), ('046390', 'Number'), ('),', 'Punctuation'), ('화이', 'Noun'), ('브라더스', 'Noun'), ('코리아', 'Noun'), ('(', 'Punctuation'), ('204630', 'Number'), ('),', 'Punctuation'), ('스튜디오', 'Noun'), ('드래곤', 'Noun'), ('(', 'Punctuation'), ('253450', 'Number'), ('),', 'Punctuation'), ('덱스터', 'Noun'), ('(', 'Punctuation'), ('206560', 'Number'), (')...', 'Punctuation'), ('2', 'Number'), ('IHQ', 'Alpha'), ('ideograph', 'Alpha'), ('-', 'Punctuation'), ('numeric', 'Alpha'), ('ideograph', 'Alpha'), ('-', 'Punctuation'), ('other', 'Alpha'), (';', 'Punctuation'), ('word', 'Alpha'), ('-', 'Punctuation'), ('break', 'Alpha'), (':', 'Punctuation'), ('keep', 'Alpha'), ('-', 'Punctuation'), ('all', 'Alpha'), ('\"&', 'Punctuation'), ('gt', 'Alpha'), (';', 'Punctuation'), ('27.8', 'Number'), ('GS', 'Alpha'), ('리테일', 'Noun'), ('ideograph', 'Alpha'), ('-', 'Punctuation'), ('numeric', 'Alpha'), ('ideograph', 'Alpha'), ('-', 'Punctuation'), ('other', 'Alpha'), (';', 'Punctuation'), ('word', 'Alpha'), ('-', 'Punctuation'), ('break', 'Alpha'), (':', 'Punctuation'), ('keep', 'Alpha'), ('-', 'Punctuation'), ('all', 'Alpha'), ('\"&', 'Punctuation'), ('gt', 'Alpha'), (';', 'Punctuation'), ('21.9', 'Number'), ('DB', 'Alpha'), ('하이', 'Noun'), ('텍', 'Noun'), ('ideograph', 'Alpha'), ('-', 'Punctuation'), ('numeric', 'Alpha'), ('ideograph', 'Alpha'), ('-', 'Punctuation'), ('other', 'Alpha'), (';', 'Punctuation'), ('word', 'Alpha'), ('-', 'Punctuation'), ('break', 'Alpha'), (':', 'Punctuation'), ('keep', 'Alpha'), ('-', 'Punctuation'), ('all', 'Alpha'), ('...', 'Punctuation'), ('NEW', 'Alpha'), ('연관', 'Noun'), ('테마', 'Noun'), ('IHQ', 'Alpha'), ('(', 'Punctuation'), ('003560', 'Number'), ('),', 'Punctuation'), ('초록', 'Noun'), ('뱀', 'Noun'), ('(', 'Punctuation'), ('047820', 'Number'), ('),', 'Punctuation'), ('팬', 'Noun'), ('엔터테인먼트', 'Noun'), ('(', 'Punctuation'), ('068050', 'Number'), ('),', 'Punctuation'), ('CJ', 'Alpha'), ('ENM', 'Alpha'), ('(', 'Punctuation'), ('035760', 'Number'), ('),', 'Punctuation'), ('SM', 'Alpha'), ('C', 'Alpha'), ('&', 'Punctuation'), ('amp', 'Alpha'), (';', 'Punctuation'), ('C', 'Alpha'), ('(', 'Punctuation'), ('048550', 'Number'), ('),', 'Punctuation'), ('NEW', 'Alpha'), ('(', 'Punctuation'), ('160550', 'Number'), ('),', 'Punctuation'), ('삼화', 'Noun'), ('네트웍', 'Noun'), ('스', 'Noun'), ('(', 'Punctuation'), ('046390', 'Number'), ('),', 'Punctuation'), ('화이', 'Noun'), ('브라더스', 'Noun'), ('코리아', 'Noun'), ('(', 'Punctuation'), ('204630', 'Number'), ('),', 'Punctuation'), ('스튜디오', 'Noun'), ('드래곤', 'Noun'), ('(', 'Punctuation'), ('253450', 'Number'), ('),', 'Punctuation'), ('덱스터', 'Noun'), ('(', 'Punctuation'), ('206560', 'Number'), (')...', 'Punctuation'), ('이', 'Noun'), ('밖에도', 'Josa'), ('IHQ', 'Alpha'), ('(', 'Punctuation'), ('003560', 'Number'), (')', 'Punctuation'), ('가다', 'Verb'), ('5.87%', 'Number'), ('(', 'Foreign'), ('105원', 'Number'), (')', 'Punctuation'), ('오른', 'Noun'), ('1895원', 'Number'), (',', 'Punctuation'), ('NEW', 'Alpha'), ('(', 'Punctuation'), ('160550', 'Number'), (')', 'Punctuation'), ('가다', 'Verb'), ('3.94%', 'Number'), ('(', 'Foreign'), ('160원', 'Number'), (')', 'Punctuation'), ('오른', 'Noun'), ('4225원', 'Number'), (',', 'Punctuation'), ('화이', 'Noun'), ('브라더스', 'Noun'), ('가', 'Josa'), ('3.46%', 'Number'), ('(', 'Foreign'), ('90원', 'Number'), (')', 'Punctuation'), ('오른', 'Noun'), ('2690원', 'Number'), ('에', 'Foreign'), ('거래', 'Noun'), ('중이', 'Noun'), ('다', 'Josa'), ('.', 'Punctuation'), ('SM', 'Alpha'), ('C', 'Alpha'), ('&', 'Punctuation'), ('amp', 'Alpha'), (';', 'Punctuation'), ('C', 'Alpha'), ('(', 'Punctuation'), ('048550', 'Number'), ('),', 'Punctuation'), ('삼화', 'Noun'), ('네트웍', 'Noun'), ('스', 'Noun'), ('(', 'Punctuation'), ('046390', 'Number'), (')', 'Punctuation'), ('초록', 'Noun'), ('뱀', 'Noun'), ('(', 'Punctuation'), ('047820', 'Number'), (')', 'Punctuation'), ('등', 'Noun'), ('드라마', 'Noun'), ('제작사', 'Noun'), ('들', 'Suffix'), ('이', 'Josa'), ('소', 'Modifier'), ('폭', 'Noun'), ('...', 'Punctuation'), ('1', 'Number'), ('SK', 'Alpha'), ('29.8', 'Number'), ('LG', 'Alpha'), ('이노', 'Noun'), ('텍', 'Noun'), ('34.0', 'Number'), ('LG', 'Alpha'), ('전자', 'Noun'), ('28.7', 'Number'), ('현대', 'Noun'), ('제철', 'Noun'), ('32.2', 'Number'), ('현대차', 'Noun'), ('26.9', 'Number'), ('삼성', 'Noun'), ('SDI', 'Alpha'), ('29.0', 'Number'), ('삼성', 'Noun'), ('엔지니어링', 'Noun'), ('24.2', 'Number'), ('삼', 'Modifier'), ('성', 'Modifier'), ('전자', 'Noun'), ('우', 'Adverb'), ('28.8', 'Number'), ('GS', 'Alpha'), ('리테일', 'Noun'), ('21.9', 'Number'), ('IHQ', 'Alpha'), ('27.6', 'Number'), ('강원랜드', 'Noun'), ('21.1', 'Number'), ('DB', 'Alpha'), ('하이', 'Noun'), ('텍', 'Noun'), ('27.5', 'Number'), ('삼성', 'Noun'), ('화재', 'Noun'), ('19.1', 'Number'), ('현대', 'Noun'), ('로템', 'Noun'), ('26.2', 'Number'), ('삼성', 'Noun'), ('카드', 'Noun'), ('19.0', 'Number'), ('[', 'Punctuation'), ('그래프', 'Noun'), (']', 'Punctuation'), ('두산', 'Noun'), ('솔', 'Noun'), ('루스', 'Noun'), ('2', 'Number'), ('우', 'Adverb'), ('B', 'Alpha'), ('일봉', 'Noun'), ('차트', 'Noun'), ('[', 'Punctuation'), ('표', 'Noun'), (']', 'Punctuation'), ('거래', 'Noun'), ('원', 'Suffix'), ('상위', 'Noun'), ('(', 'Punctuation'), ('09:36', 'Number'), ('기준', 'Noun'), (')', 'Punctuation'), ('이', 'Noun'), ('시각', 'Noun'), ('거래소', 'Noun'), ('에서', 'Josa'), ('두산', 'Noun'), ('솔', 'Noun'), ('루스', 'Noun'), ('2', 'Number'), ('우', 'Adverb'), ('B', 'Alpha'), ('이외', 'Noun'), ('에도', 'Josa'), ('이월드', 'Noun'), ('(', 'Punctuation'), ('5.02%', 'Number'), ('),', 'Foreign'), ('IHQ', 'Alpha'), ('(', 'Punctuation'), ('5.59%', 'Number'), ('),', 'Foreign'), ('제넥신', 'Noun'), ('(', 'Punctuation'), ('5.84%', 'Number'), ('),', 'Foreign'), ('비씨', 'Noun'), ('월드', 'Noun'), ('제약', 'Noun'), ('(', 'Punctuation'), ('15.91%', 'Number'), ('),', 'Foreign'), ('큐브', 'Noun'), ('엔', 'Josa'), ('터', 'Noun'), ('(', 'Punctuation'), ('25.8%', 'Number'), (')', 'Foreign'), ('등', 'Noun'), ('이', 'Josa'), ('상승세', 'Noun'), ('를', 'Josa'), ('보이', 'Noun'), ('고', 'Josa'), ('...', 'Punctuation'), ('전일', 'Noun'), ('대비', 'Noun'), ('5%', 'Number'), ('이상', 'Noun'), ('오른', 'Noun'), ('종목', 'Noun'), ('가운데', 'Noun'), ('재무', 'Noun'), ('건전성', 'Noun'), ('에서', 'Josa'), (\"'\", 'Punctuation'), ('별', 'Noun'), ('다섯', 'Noun'), ('개', 'Noun'), (\"'\", 'Punctuation'), ('를', 'Noun'), ('받다', 'Verb'), ('종목', 'Noun'), ('은', 'Josa'), ('남선', 'Noun'), ('알미늄', 'Noun'), (',', 'Punctuation'), ('이월드', 'Noun'), (',', 'Punctuation'), ('IHQ', 'Alpha'), ('등', 'Noun'), ('6', 'Number'), ('개다', 'Verb'), ('.', 'Punctuation'), ('같다', 'Adjective'), ('시각', 'Noun'), ('코스피', 'Noun'), ('지수', 'Noun'), ('는', 'Josa'), ('전일', 'Noun'), ('대비', 'Noun'), ('0.33%', 'Number'), ('내리다', 'Verb'), ('2130.08', 'Number'), (',', 'Punctuation'), ('코스닥', 'Noun'), ('지수', 'Noun'), ('는', 'Josa'), ('0.27%', 'Number'), ('하락', 'Noun'), ('한', 'Josa'), ('662.83', 'Number'), ('이다', 'Josa'), ('.', 'Punctuation'), ('전체', 'Noun'), ('상장', 'Noun'), ('...', 'Punctuation'), ('[', 'Punctuation'), ('그래프', 'Noun'), (']', 'Punctuation'), ('기', 'Modifier'), ('신', 'Modifier'), ('정기', 'Noun'), ('일봉', 'Noun'), ('차트', 'Noun'), ('[', 'Punctuation'), ('표', 'Noun'), (']', 'Punctuation'), ('거래', 'Noun'), ('원', 'Suffix'), ('상위', 'Noun'), ('(', 'Punctuation'), ('10:14', 'Number'), ('기준', 'Noun'), (')', 'Punctuation'), ('이', 'Noun'), ('시각', 'Noun'), ('거래소', 'Noun'), ('에서', 'Josa'), ('기', 'Modifier'), ('신', 'Modifier'), ('정기', 'Noun'), ('이외', 'Noun'), ('에도', 'Josa'), ('신원', 'Noun'), ('종합', 'Noun'), ('개발', 'Noun'), ('(', 'Punctuation'), ('5.0%', 'Number'), ('),', 'Foreign'), ('제', 'Modifier'), ('이엠', 'Noun'), ('아이', 'Noun'), ('(', 'Punctuation'), ('6.53%', 'Number'), ('),', 'Foreign'), ('티라유텍', 'Noun'), ('(', 'Punctuation'), ('15.82%', 'Number'), ('),', 'Foreign'), ('IHQ', 'Alpha'), ('(', 'Punctuation'), ('6.42%', 'Number'), ('),', 'Foreign'), ('제', 'Modifier'), ('일', 'Modifier'), ('제강', 'Noun'), ('(', 'Punctuation'), ('5.53%', 'Number'), (')', 'Foreign'), ('등', 'Noun'), ('이', 'Josa'), ('상승세', 'Noun'), ('를', 'Josa'), ('보이', 'Noun'), ('고', 'Josa'), ('있다', 'Adjective'), ('.', 'Punctuation'), ('[', 'Punctuation'), ('그래프', 'Noun'), (']', 'Punctuation'), ('세우다', 'Verb'), ('글로벌', 'Noun'), ('일봉', 'Noun'), ('차트', 'Noun'), ('[', 'Punctuation'), ('표', 'Noun'), (']', 'Punctuation'), ('거래', 'Noun'), ('원', 'Suffix'), ('상위', 'Noun'), ('(', 'Punctuation'), ('09:42', 'Number'), ('기준', 'Noun'), (')', 'Punctuation'), ('이', 'Noun'), ('시각', 'Noun'), ('거래소', 'Noun'), ('에서', 'Josa'), ('세우다', 'Verb'), ('글로벌', 'Noun'), ('이외', 'Noun'), ('에도', 'Josa'), ('티케', 'Noun'), ('이', 'Determiner'), ('케미칼', 'Noun'), ('(', 'Punctuation'), ('6.85%', 'Number'), ('),', 'Foreign'), ('부국', 'Noun'), ('철강', 'Noun'), ('(', 'Punctuation'), ('6.77%', 'Number'), ('),', 'Foreign'), ('노바', 'Noun'), ('텍', 'Noun'), ('(', 'Punctuation'), ('5.36%', 'Number'), ('),', 'Foreign'), ('IHQ', 'Alpha'), ('(', 'Punctuation'), ('7.54%', 'Number'), ('),', 'Foreign'), ('흥', 'Noun'), ('아', 'Josa'), ('해운', 'Noun'), ('(', 'Punctuation'), ('6.09%', 'Number'), (')', 'Foreign'), ('등', 'Noun'), ('이', 'Josa'), ('상승세', 'Noun'), ('를', 'Josa'), ('보이', 'Noun'), ('고', 'Josa'), ('있다', 'Adjective'), ('.', 'Punctuation'), ('[', 'Punctuation'), ('그래프', 'Noun'), (']', 'Punctuation'), ('디', 'Noun'), ('와이', 'Modifier'), ('일봉', 'Noun'), ('차트', 'Noun'), ('[', 'Punctuation'), ('표', 'Noun'), (']', 'Punctuation'), ('거래', 'Noun'), ('원', 'Suffix'), ('상위', 'Noun'), ('(', 'Punctuation'), ('09:20', 'Number'), ('기준', 'Noun'), (')', 'Punctuation'), ('이', 'Noun'), ('시각', 'Noun'), ('거래소', 'Noun'), ('에서', 'Josa'), ('디', 'Noun'), ('와이', 'Modifier'), ('이외', 'Noun'), ('에도', 'Josa'), ('나우', 'Noun'), ('아이비', 'Noun'), ('캐피탈', 'Noun'), ('(', 'Punctuation'), ('7.46%', 'Number'), ('),', 'Foreign'), ('덕양', 'Noun'), ('산업', 'Noun'), ('(', 'Punctuation'), ('12.65%', 'Number'), ('),', 'Foreign'), ('IHQ', 'Alpha'), ('(', 'Punctuation'), ('5.31%', 'Number'), ('),', 'Foreign'), ('유', 'Noun'), ('엔젤', 'Noun'), ('(', 'Punctuation'), ('21.46%', 'Number'), ('),', 'Foreign'), ('한국', 'Noun'), ('테크놀로지', 'Noun'), ('(', 'Punctuation'), ('5.04%', 'Number'), (')', 'Foreign'), ('등', 'Noun'), ('이', 'Josa'), ('상승세', 'Noun'), ('를', 'Josa'), ('보이', 'Noun'), ('고', 'Josa'), ('...', 'Punctuation'), ('03%', 'Number'), ('),\\xa0', 'Foreign'), ('IHQ', 'Alpha'), ('(', 'Punctuation'), ('18.99%', 'Number'), ('),\\xa0', 'Foreign'), ('티라유텍', 'Noun'), ('(', 'Punctuation'), ('18.5%', 'Number'), ('),\\xa0', 'Foreign'), ('티케', 'Noun'), ('이', 'Determiner'), ('케미칼', 'Noun'), ('(', 'Punctuation'), ('17.4%', 'Number'), ('),\\xa0', 'Foreign'), ('아시아나', 'Noun'), ('IDT', 'Alpha'), ('(', 'Punctuation'), ('16.34%', 'Number'), ('),\\xa0', 'Foreign'), ('성', 'Modifier'), ('문', 'Modifier'), ('전자', 'Noun'), ('우', 'Adverb'), ('(', 'Punctuation'), ('13.27%', 'Number'), ('),\\xa0', 'Foreign'), ('휴', 'Exclamation'), ('림', 'Noun'), ('로봇', 'Noun'), ('(', 'Punctuation'), ('12.94%', 'Number'), ('),\\xa0', 'Foreign'), ('SDN', 'Alpha'), ('(', 'Punctuation'), ('12.34%', 'Number'), ('),\\xa0', 'Foreign'), ('이', 'Determiner'), ('그', 'Modifier'), ('잭스', 'Noun'), ('(', 'Punctuation'), ('12%', 'Number'), ('),\\xa0', 'Foreign'), ('티비', 'Noun'), ('씨', 'Suffix'), ('(', 'Punctuation'), ('10.73%', 'Number'), ('),\\xa0', 'Foreign'), ('한국', 'Noun'), ('테크놀로지', 'Noun'), ('(', 'Punctuation'), ('9.79', 'Number'), ('...', 'Punctuation'), ('[', 'Punctuation'), ('그래프', 'Noun'), (']', 'Punctuation'), ('조', 'Modifier'), ('일', 'Modifier'), ('알미늄', 'Noun'), ('일봉', 'Noun'), ('차트', 'Noun'), ('[', 'Punctuation'), ('표', 'Noun'), (']', 'Punctuation'), ('거래', 'Noun'), ('원', 'Suffix'), ('상위', 'Noun'), ('(', 'Punctuation'), ('11:52', 'Number'), ('기준', 'Noun'), (')', 'Punctuation'), ('이', 'Noun'), ('시각', 'Noun'), ('거래소', 'Noun'), ('에서', 'Josa'), ('조', 'Modifier'), ('일', 'Modifier'), ('알미늄', 'Noun'), ('이외', 'Noun'), ('에도', 'Josa'), ('신원', 'Noun'), ('종합', 'Noun'), ('개발', 'Noun'), ('(', 'Punctuation'), ('5.0%', 'Number'), ('),', 'Foreign'), ('휴', 'Exclamation'), ('림', 'Noun'), ('로봇', 'Noun'), ('(', 'Punctuation'), ('9.23%', 'Number'), ('),', 'Foreign'), ('한국', 'Noun'), ('테크놀로지', 'Noun'), ('(', 'Punctuation'), ('7.72%', 'Number'), ('),', 'Foreign'), ('IHQ', 'Alpha'), ('(', 'Punctuation'), ('5.31%', 'Number'), ('),', 'Foreign'), ('알', 'Noun'), ('에프', 'Noun'), ('텍', 'Noun'), ('(', 'Punctuation'), ('5.09%', 'Number'), (')', 'Foreign'), ('등', 'Noun'), ('이', 'Josa'), ('상승세', 'Noun'), ('를', 'Josa'), ('보이', 'Noun'), ('고', 'Josa'), ('...', 'Punctuation'), ('[', 'Punctuation'), ('그래프', 'Noun'), (']', 'Punctuation'), ('퓨전', 'Noun'), ('데이타', 'Noun'), ('일봉', 'Noun'), ('차트', 'Noun'), ('[', 'Punctuation'), ('표', 'Noun'), (']', 'Punctuation'), ('거래', 'Noun'), ('원', 'Suffix'), ('상위', 'Noun'), ('(', 'Punctuation'), ('14:12', 'Number'), ('기준', 'Noun'), (')', 'Punctuation'), ('이', 'Noun'), ('시각', 'Noun'), ('거래소', 'Noun'), ('에서', 'Josa'), ('퓨전', 'Noun'), ('데이타', 'Noun'), ('이외', 'Noun'), ('에도', 'Josa'), ('남선', 'Noun'), ('알미늄', 'Noun'), ('(', 'Punctuation'), ('29.96%', 'Number'), ('),', 'Foreign'), ('SM', 'Alpha'), ('Life', 'Alpha'), ('Design', 'Alpha'), ('(', 'Punctuation'), ('24.9%', 'Number'), ('),', 'Foreign'), ('IHQ', 'Alpha'), ('(', 'Punctuation'), ('14.8%', 'Number'), ('),', 'Foreign'), ('휴', 'Exclamation'), ('마시스', 'Noun'), ('(', 'Punctuation'), ('10.56%', 'Number'), ('),', 'Foreign'), ('오리엔트', 'Noun'), ('정공', 'Noun'), ('(', 'Punctuation'), ('11.2%', 'Number'), (')', 'Foreign'), ('등', 'Noun'), ('이', 'Josa'), ('상승세', 'Noun'), ('를', 'Josa'), ('...', 'Punctuation'), ('최근', 'Noun'), ('인수합병', 'Noun'), ('시장', 'Noun'), ('에', 'Josa'), ('매물', 'Noun'), ('로', 'Josa'), ('나오다', 'Verb'), ('큐브', 'Noun'), ('엔', 'Josa'), ('터', 'Noun'), ('는', 'Josa'), ('딜', 'Noun'), ('라이브', 'Noun'), ('자회사', 'Noun'), ('인', 'Josa'), ('iHQ', 'Alpha'), ('가다', 'Verb'), ('지', 'Modifier'), ('분', 'Noun'), ('30.61%', 'Number'), ('를', 'Noun'), ('보유', 'Noun'), ('하고', 'Josa'), ('있다', 'Adjective'), ('.', 'Punctuation'), ('이', 'Noun'), ('밖에', 'Josa'), ('한류', 'Noun'), ('AI', 'Alpha'), ('센터', 'Noun'), ('도', 'Josa'), ('팍스넷', 'Noun'), ('에', 'Josa'), ('인수', 'Noun'), ('되다', 'Verb'), ('가능성', 'Noun'), ('으로', 'Josa'), ('연일', 'Noun'), ('거래', 'Noun'), ('제', 'Modifier'), ('한', 'Modifier'), ('폭', 'Noun'), ('까지', 'Josa'), ('상승', 'Noun'), ('하다', 'Verb'), ('.', 'Punctuation'), ('디즈니', 'Noun'), ('애니메이션', 'Noun'), ('...', 'Punctuation'), ('[', 'Punctuation'), ('주요', 'Noun'), ('상승', 'Noun'), ('테마', 'Noun'), ('](*', 'Punctuation'), ('표시', 'Noun'), ('는', 'Josa'), ('코스닥', 'Noun'), ('종목', 'Noun'), (')', 'Punctuation'), ('▶', 'Foreign'), ('엔터테인먼트', 'Noun'), ('(+', 'Punctuation'), ('1.53%', 'Number'), (')', 'Foreign'), ('팬', 'Noun'), ('엔터테인먼트', 'Noun'), ('*(+', 'Punctuation'), ('4.44%', 'Number'), ('),', 'Foreign'), ('에스엠', 'Noun'), ('*(+', 'Punctuation'), ('3.28%', 'Number'), ('),', 'Foreign'), ('에프', 'Noun'), ('엔씨', 'Noun'), ('엔', 'Josa'), ('터', 'Noun'), ('*(+', 'Punctuation'), ('2.56%', 'Number'), ('),', 'Foreign'), ('와이지엔터테인먼트', 'Noun'), ('*(+', 'Punctuation'), ('2.56%', 'Number'), ('),', 'Foreign'), ('IHQ', 'Alpha'), ('(+', 'Punctuation'), ('12.01%', 'Number'), (')', 'Foreign'), ('▶', 'Foreign'), ('보험', 'Noun'), ('(+', 'Punctuation'), ('1.29%', 'Number'), (')', 'Foreign'), ('동양', 'Noun'), ('생명', 'Noun'), ('(+', 'Punctuation'), ('5.96', 'Number'), ('...', 'Punctuation'), ('42%', 'Number'), ('상승', 'Noun'), ('한', 'Josa'), ('14,800원', 'Number'), (',', 'Punctuation'), ('▲', 'Foreign'), ('IHQ', 'Alpha'), ('(', 'Punctuation'), ('003560', 'Number'), (')', 'Punctuation'), ('전일', 'Noun'), ('대비', 'Noun'), ('+', 'Punctuation'), ('12.01%', 'Number'), ('상승', 'Noun'), ('한', 'Josa'), ('2,005원', 'Number'), (',', 'Punctuation'), ('▲', 'Foreign'), ('SBS', 'Alpha'), ('미디어', 'Noun'), ('홀딩스', 'Noun'), ('(', 'Punctuation'), ('101060', 'Number'), (')', 'Punctuation'), ('전일', 'Noun'), ('대비', 'Noun'), ('+', 'Punctuation'), ('0.25%', 'Number'), ('상승', 'Noun'), ('한', 'Josa'), ('2,005원', 'Number'), (',', 'Punctuation'), ('▲', 'Foreign'), ('무학', 'Noun'), ('(', 'Punctuation'), ('033920', 'Number'), (')', 'Punctuation'), ('전일', 'Noun'), ('대비', 'Noun'), ('-', 'Punctuation'), ('0.75%', 'Number'), ('하락', 'Noun'), ('한', 'Josa'), ('9,210원', 'Number'), (',', 'Punctuation'), ('▲', 'Foreign'), ('롯데', 'Noun'), ('손해', 'Noun'), ('보험', 'Noun'), ('(', 'Punctuation'), ('000400', 'Number'), (')...', 'Punctuation'), ('36%', 'Number'), ('),', 'Foreign'), ('IHQ', 'Alpha'), ('(', 'Punctuation'), ('12.01%', 'Number'), ('),', 'Foreign'), ('보라', 'Noun'), ('티알', 'Noun'), ('(', 'Punctuation'), ('11.73%', 'Number'), ('),', 'Foreign'), ('티비', 'Noun'), ('씨', 'Suffix'), ('(', 'Punctuation'), ('10.73%', 'Number'), ('),', 'Foreign'), ('이', 'Determiner'), ('원', 'Modifier'), ('컴포텍', 'Noun'), ('(', 'Punctuation'), ('10.72%', 'Number'), ('),', 'Foreign'), ('제이', 'Noun'), ('웨이', 'Noun'), ('(', 'Punctuation'), ('9.9%', 'Number'), ('),', 'Foreign'), ('코닉', 'Noun'), ('글로리', 'Noun'), ('(', 'Punctuation'), ('9.76%', 'Number'), ('),', 'Foreign'), ('라', 'Josa'), ('온', 'Modifier'), ('피플', 'Noun'), ('(', 'Punctuation'), ('9.45%', 'Number'), ('),', 'Foreign'), ('GV', 'Alpha'), ('(', 'Punctuation'), ('9.35%', 'Number'), ('),', 'Foreign'), ('두', 'Determiner'), ('올', 'Modifier'), ('산업', 'Noun'), ('(', 'Punctuation'), ('9.16%', 'Number'), ('),', 'Foreign'), ('맥스', 'Noun'), ('로', 'Josa'), ('텍', 'Noun'), ('(', 'Punctuation'), ('9.13%', 'Number'), ('),', 'Foreign'), ('비씨', 'Noun'), ('월드', 'Noun'), ('제약', 'Noun'), ('(', 'Punctuation'), ('8.77', 'Number'), ('...', 'Punctuation'), ('최대', 'Noun'), ('주주', 'Noun'), ('는', 'Josa'), ('딜', 'Noun'), ('라이브', 'Noun'), ('로', 'Josa'), ('자회사', 'Noun'), ('인', 'Josa'), ('iHQ', 'Alpha'), ('를', 'Noun'), ('통해', 'Noun'), ('큐브', 'Noun'), ('엔', 'Josa'), ('터', 'Noun'), ('의', 'Josa'), ('지', 'Modifier'), ('분', 'Noun'), ('30.61%', 'Number'), ('를', 'Noun'), ('보유', 'Noun'), ('하고', 'Josa'), ('있다', 'Adjective'), ('.', 'Punctuation'), ('큐브', 'Noun'), ('엔', 'Josa'), ('터', 'Noun'), ('는', 'Josa'), ('JYP', 'Alpha'), ('엔터테인먼트', 'Noun'), ('에서', 'Josa'), ('갈라지다', 'Verb'), ('나오다', 'Verb'), ('연', 'Modifier'), ('예', 'Modifier'), ('소속사', 'Noun'), ('로', 'Josa'), ('비', 'Noun'), ('(', 'Punctuation'), ('정지훈', 'Noun'), ('),', 'Punctuation'), ('포미닛', 'Noun'), (',', 'Punctuation'), ('비스트', 'Noun'), ('등', 'Noun'), ('의', 'Josa'), ('인기', 'Noun'), ('가수', 'Noun'), ('가', 'Josa'), ('거치다', 'Verb'), ('가다', 'Verb'), ('.', 'Punctuation'), ('현재', 'Noun'), ('는', 'Josa'), ('...', 'Punctuation'), ('최근', 'Noun'), ('인수합병', 'Noun'), ('시장', 'Noun'), ('에', 'Josa'), ('매물', 'Noun'), ('로', 'Josa'), ('나오다', 'Verb'), ('큐브', 'Noun'), ('엔', 'Josa'), ('터', 'Noun'), ('는', 'Josa'), ('딜', 'Noun'), ('라이브', 'Noun'), ('자회사', 'Noun'), ('인', 'Josa'), ('iHQ', 'Alpha'), ('가다', 'Verb'), ('지', 'Modifier'), ('분', 'Noun'), ('30.61%', 'Number'), ('를', 'Noun'), ('보유', 'Noun'), ('하고', 'Josa'), ('있다', 'Adjective'), ('.', 'Punctuation'), ('이', 'Noun'), ('밖에', 'Josa'), ('한류', 'Noun'), ('AI', 'Alpha'), ('센터', 'Noun'), ('도', 'Josa'), ('팍스넷', 'Noun'), ('에', 'Josa'), ('인수', 'Noun'), ('되다', 'Verb'), ('가능성', 'Noun'), ('으로', 'Josa'), ('연일', 'Noun'), ('거래', 'Noun'), ('제', 'Modifier'), ('한', 'Modifier'), ('폭', 'Noun'), ('까지', 'Josa'), ('상승', 'Noun'), ('하다', 'Verb'), ('.', 'Punctuation'), ('디즈니', 'Noun'), ('애니메이션', 'Noun'), ('...', 'Punctuation'), ('[', 'Punctuation'), ('주요', 'Noun'), ('상승', 'Noun'), ('테마', 'Noun'), ('](*', 'Punctuation'), ('표시', 'Noun'), ('는', 'Josa'), ('코스닥', 'Noun'), ('종목', 'Noun'), (')', 'Punctuation'), ('▶', 'Foreign'), ('엔터테인먼트', 'Noun'), ('(+', 'Punctuation'), ('1.53%', 'Number'), (')', 'Foreign'), ('팬', 'Noun'), ('엔터테인먼트', 'Noun'), ('*(+', 'Punctuation'), ('4.44%', 'Number'), ('),', 'Foreign'), ('에스엠', 'Noun'), ('*(+', 'Punctuation'), ('3.28%', 'Number'), ('),', 'Foreign'), ('에프', 'Noun'), ('엔씨', 'Noun'), ('엔', 'Josa'), ('터', 'Noun'), ('*(+', 'Punctuation'), ('2.56%', 'Number'), ('),', 'Foreign'), ('와이지엔터테인먼트', 'Noun'), ('*(+', 'Punctuation'), ('2.56%', 'Number'), ('),', 'Foreign'), ('IHQ', 'Alpha'), ('(+', 'Punctuation'), ('12.01%', 'Number'), (')', 'Foreign'), ('▶', 'Foreign'), ('보험', 'Noun'), ('(+', 'Punctuation'), ('1.29%', 'Number'), (')', 'Foreign'), ('동양', 'Noun'), ('생명', 'Noun'), ('(+', 'Punctuation'), ('5.96', 'Number'), ('...', 'Punctuation'), ('42%', 'Number'), ('상승', 'Noun'), ('한', 'Josa'), ('14,800원', 'Number'), (',', 'Punctuation'), ('▲', 'Foreign'), ('IHQ', 'Alpha'), ('(', 'Punctuation'), ('003560', 'Number'), (')', 'Punctuation'), ('전일', 'Noun'), ('대비', 'Noun'), ('+', 'Punctuation'), ('12.01%', 'Number'), ('상승', 'Noun'), ('한', 'Josa'), ('2,005원', 'Number'), (',', 'Punctuation'), ('▲', 'Foreign'), ('SBS', 'Alpha'), ('미디어', 'Noun'), ('홀딩스', 'Noun'), ('(', 'Punctuation'), ('101060', 'Number'), (')', 'Punctuation'), ('전일', 'Noun'), ('대비', 'Noun'), ('+', 'Punctuation'), ('0.25%', 'Number'), ('상승', 'Noun'), ('한', 'Josa'), ('2,005원', 'Number'), (',', 'Punctuation'), ('▲', 'Foreign'), ('무학', 'Noun'), ('(', 'Punctuation'), ('033920', 'Number'), (')', 'Punctuation'), ('전일', 'Noun'), ('대비', 'Noun'), ('-', 'Punctuation'), ('0.75%', 'Number'), ('하락', 'Noun'), ('한', 'Josa'), ('9,210원', 'Number'), (',', 'Punctuation'), ('▲', 'Foreign'), ('롯데', 'Noun'), ('손해', 'Noun'), ('보험', 'Noun'), ('(', 'Punctuation'), ('000400', 'Number'), (')...', 'Punctuation'), ('22%', 'Number'), ('상승', 'Noun'), ('한', 'Josa'), ('가격', 'Noun'), ('이다', 'Josa'), ('.', 'Punctuation'), ('같다', 'Adjective'), ('기간', 'Noun'), ('SM', 'Alpha'), ('Life', 'Alpha'), ('Design', 'Alpha'), ('종목', 'Noun'), ('은', 'Josa'), ('+', 'Punctuation'), ('14.07%', 'Number'), ('로', 'Noun'), ('상승세', 'Noun'), ('를', 'Josa'), ('보이', 'Noun'), ('고', 'Josa'), ('있다', 'Adjective'), ('.', 'Punctuation'), ('이다', 'Verb'), ('팬', 'Noun'), ('엔터테인먼트', 'Noun'), ('종목', 'Noun'), ('은', 'Josa'), ('+', 'Punctuation'), ('8.34%', 'Number'), ('로', 'Noun'), ('상승', 'Noun'), ('하고', 'Josa'), ('있다', 'Adjective'), ('티비', 'Noun'), ('씨', 'Suffix'), ('종목', 'Noun'), ('은', 'Josa'), ('+', 'Punctuation'), ('6.51%', 'Number'), ('로', 'Noun'), ('상승', 'Noun'), (',', 'Punctuation'), ('IHQ', 'Alpha'), ('종목', 'Noun'), ('은', 'Josa'), ('+', 'Punctuation'), ('6.42%', 'Number'), ('로', 'Noun'), ('상승세', 'Noun'), ('를', 'Josa'), ('보이', 'Noun'), ('고', 'Josa'), ('있다', 'Adjective'), ('.', 'Punctuation'), ('[', 'Punctuation'), ('표', 'Noun'), (']', 'Punctuation'), ('외국인', 'Noun'), ('ㆍ', 'Foreign'), ('기관', 'Noun'), ('순', 'Modifier'), ('매', 'Modifier'), ('매', 'Modifier'), ('량', 'Noun'), ('(', 'Punctuation'), ('단위', 'Noun'), ('주', 'Noun'), (')', 'Punctuation'), ('[', 'Punctuation'), ('표', 'Noun'), (']', 'Punctuation'), ('주요', 'Noun'), ('기관', 'Noun'), ('별', 'Noun'), ('순', 'Modifier'), ('매', 'Modifier'), ('매', 'Modifier'), ('량', 'Noun'), ('(', 'Punctuation'), ('단위', 'Noun'), ('주', 'Noun'), (')', 'Punctuation'), ('※', 'Foreign'), ('사모펀드', 'Noun'), ('등', 'Noun'), ('일부', 'Noun'), ('기관', 'Noun'), ('의', 'Josa'), ('순', 'Modifier'), ('매', 'Modifier'), ('매', 'Modifier'), ('량', 'Noun'), ('은', 'Josa'), ('표시', 'Noun'), ('되다', 'Verb'), ('않다', 'Verb'), ('이', 'Noun'), ('시각', 'Noun'), ('거래소', 'Noun'), ('에서', 'Josa'), ('KNN', 'Alpha'), ('이외', 'Noun'), ('에도', 'Josa'), ('IHQ', 'Alpha'), ('(', 'Punctuation'), ('18.16%', 'Number'), ('),', 'Foreign'), ('큐브', 'Noun'), ('엔', 'Josa'), ('터', 'Noun'), ('(', 'Punctuation'), ('29.76%', 'Number'), ('),', 'Foreign'), ('코닉', 'Noun'), ('글로리', 'Noun'), ('...', 'Punctuation'), ('(', 'Punctuation'), ('단위', 'Noun'), ('주', 'Noun'), (')', 'Punctuation'), ('※', 'Foreign'), ('사모펀드', 'Noun'), ('등', 'Noun'), ('일부', 'Noun'), ('기관', 'Noun'), ('의', 'Josa'), ('순', 'Modifier'), ('매', 'Modifier'), ('매', 'Modifier'), ('량', 'Noun'), ('은', 'Josa'), ('표시', 'Noun'), ('되다', 'Verb'), ('않다', 'Verb'), ('이', 'Noun'), ('시각', 'Noun'), ('거래소', 'Noun'), ('에서', 'Josa'), ('한창', 'Noun'), ('제지', 'Noun'), ('이외', 'Noun'), ('에도', 'Josa'), ('푸드', 'Noun'), ('웰', 'Noun'), ('(', 'Punctuation'), ('5.31%', 'Number'), ('),', 'Foreign'), ('선광', 'Noun'), ('(', 'Punctuation'), ('5.26%', 'Number'), ('),', 'Foreign'), ('흥', 'Noun'), ('아', 'Josa'), ('해운', 'Noun'), ('(', 'Punctuation'), ('6.09%', 'Number'), ('),', 'Foreign'), ('IHQ', 'Alpha'), ('(', 'Punctuation'), ('6.42%', 'Number'), ('),', 'Foreign'), ('두산', 'Noun'), ('솔', 'Noun'), ('루스', 'Noun'), ('2', 'Number'), ('우', 'Adverb'), ('B', 'Alpha'), ('(', 'Punctuation'), ('5.04%', 'Number'), (')', 'Foreign'), ('등', 'Noun'), ('이', 'Josa'), ('상승세', 'Noun'), ('를', 'Josa'), ('보이', 'Noun'), ('고', 'Josa'), ('있다', 'Adjective'), ('.', 'Punctuation'), ('[', 'Punctuation'), ('그래프', 'Noun'), (']', 'Punctuation'), ('이월드', 'Noun'), ('일봉', 'Noun'), ('차트', 'Noun'), ('[', 'Punctuation'), ('표', 'Noun'), (']', 'Punctuation'), ('거래', 'Noun'), ('원', 'Suffix'), ('상위', 'Noun'), ('(', 'Punctuation'), ('09:13', 'Number'), ('기준', 'Noun'), (')', 'Punctuation'), ('이', 'Noun'), ('시각', 'Noun'), ('거래소', 'Noun'), ('에서', 'Josa'), ('이월드', 'Noun'), ('이외', 'Noun'), ('에도', 'Josa'), ('네오', 'Noun'), ('파다', 'Verb'), ('(', 'Punctuation'), ('5.14%', 'Number'), ('),', 'Foreign'), ('IHQ', 'Alpha'), ('(', 'Punctuation'), ('5.31%', 'Number'), ('),', 'Foreign'), ('시너지', 'Noun'), ('이노베이션', 'Noun'), ('(', 'Punctuation'), ('6.18%', 'Number'), ('),', 'Foreign'), ('유', 'Noun'), ('엔젤', 'Noun'), ('(', 'Punctuation'), ('20.35%', 'Number'), ('),', 'Foreign'), ('비씨', 'Noun'), ('월드', 'Noun'), ('제약', 'Noun'), ('(', 'Punctuation'), ('7.14%', 'Number'), (')', 'Foreign'), ('등', 'Noun'), ('이', 'Josa'), ('상승세', 'Noun'), ('를', 'Josa'), ('보이', 'Noun'), ('고', 'Josa'), ('있다', 'Adjective'), ('.', 'Punctuation'), ('[', 'Punctuation'), ('그래프', 'Noun'), (']', 'Punctuation'), ('삼성', 'Noun'), ('카드', 'Noun'), ('일봉', 'Noun'), ('차트', 'Noun'), ('[', 'Punctuation'), ('표', 'Noun'), (']', 'Punctuation'), ('거래', 'Noun'), ('원', 'Suffix'), ('상위', 'Noun'), ('(', 'Punctuation'), ('09:15', 'Number'), ('기준', 'Noun'), (')', 'Punctuation'), ('이', 'Noun'), ('시각', 'Noun'), ('거래소', 'Noun'), ('에서', 'Josa'), ('삼성', 'Noun'), ('카드', 'Noun'), ('이외', 'Noun'), ('에도', 'Josa'), ('남선', 'Noun'), ('알미늄', 'Noun'), ('(', 'Punctuation'), ('7.08%', 'Number'), ('),', 'Foreign'), ('양', 'Modifier'), ('지사', 'Noun'), ('(', 'Punctuation'), ('5.13%', 'Number'), ('),', 'Foreign'), ('대', 'Modifier'), ('호에이', 'Noun'), ('엘', 'Josa'), ('(', 'Punctuation'), ('5.87%', 'Number'), ('),', 'Foreign'), ('IHQ', 'Alpha'), ('(', 'Punctuation'), ('6.42%', 'Number'), ('),', 'Foreign'), ('이월드', 'Noun'), ('(', 'Punctuation'), ('5.02%', 'Number'), (')', 'Foreign'), ('등', 'Noun'), ('이', 'Josa'), ('상승세', 'Noun'), ('를', 'Josa'), ('보이', 'Noun'), ('고', 'Josa'), ('있다', 'Adjective'), ('.', 'Punctuation'), ('36%', 'Number'), ('),', 'Foreign'), ('IHQ', 'Alpha'), ('(', 'Punctuation'), ('12.01%', 'Number'), ('),', 'Foreign'), ('보라', 'Noun'), ('티알', 'Noun'), ('(', 'Punctuation'), ('11.73%', 'Number'), ('),', 'Foreign'), ('티비', 'Noun'), ('씨', 'Suffix'), ('(', 'Punctuation'), ('10.73%', 'Number'), ('),', 'Foreign'), ('이', 'Determiner'), ('원', 'Modifier'), ('컴포텍', 'Noun'), ('(', 'Punctuation'), ('10.72%', 'Number'), ('),', 'Foreign'), ('제이', 'Noun'), ('웨이', 'Noun'), ('(', 'Punctuation'), ('9.9%', 'Number'), ('),', 'Foreign'), ('코닉', 'Noun'), ('글로리', 'Noun'), ('(', 'Punctuation'), ('9.76%', 'Number'), ('),', 'Foreign'), ('라', 'Josa'), ('온', 'Modifier'), ('피플', 'Noun'), ('(', 'Punctuation'), ('9.45%', 'Number'), ('),', 'Foreign'), ('GV', 'Alpha'), ('(', 'Punctuation'), ('9.35%', 'Number'), ('),', 'Foreign'), ('두', 'Determiner'), ('올', 'Modifier'), ('산업', 'Noun'), ('(', 'Punctuation'), ('9.16%', 'Number'), ('),', 'Foreign'), ('맥스', 'Noun'), ('로', 'Josa'), ('텍', 'Noun'), ('(', 'Punctuation'), ('9.13%', 'Number'), ('),', 'Foreign'), ('비씨', 'Noun'), ('월드', 'Noun'), ('제약', 'Noun'), ('(', 'Punctuation'), ('8.77', 'Number'), ('...', 'Punctuation'), ('최대', 'Noun'), ('주주', 'Noun'), ('는', 'Josa'), ('딜', 'Noun'), ('라이브', 'Noun'), ('로', 'Josa'), ('자회사', 'Noun'), ('인', 'Josa'), ('iHQ', 'Alpha'), ('를', 'Noun'), ('통해', 'Noun'), ('큐브', 'Noun'), ('엔', 'Josa'), ('터', 'Noun'), ('의', 'Josa'), ('지', 'Modifier'), ('분', 'Noun'), ('30.61%', 'Number'), ('를', 'Noun'), ('보유', 'Noun'), ('하고', 'Josa'), ('있다', 'Adjective'), ('.', 'Punctuation'), ('큐브', 'Noun'), ('엔', 'Josa'), ('터', 'Noun'), ('는', 'Josa'), ('JYP', 'Alpha'), ('엔터테인먼트', 'Noun'), ('에서', 'Josa'), ('갈라지다', 'Verb'), ('나오다', 'Verb'), ('연', 'Modifier'), ('예', 'Modifier'), ('소속사', 'Noun'), ('로', 'Josa'), ('비', 'Noun'), ('(', 'Punctuation'), ('정지훈', 'Noun'), ('),', 'Punctuation'), ('포미닛', 'Noun'), (',', 'Punctuation'), ('비스트', 'Noun'), ('등', 'Noun'), ('의', 'Josa'), ('인기', 'Noun'), ('가수', 'Noun'), ('가', 'Josa'), ('거치다', 'Verb'), ('가다', 'Verb'), ('.', 'Punctuation'), ('현재', 'Noun'), ('는', 'Josa'), ('...', 'Punctuation'), ('최근', 'Noun'), ('인수합병', 'Noun'), ('시장', 'Noun'), ('에', 'Josa'), ('매물', 'Noun'), ('로', 'Josa'), ('나오다', 'Verb'), ('큐브', 'Noun'), ('엔', 'Josa'), ('터', 'Noun'), ('는', 'Josa'), ('딜', 'Noun'), ('라이브', 'Noun'), ('자회사', 'Noun'), ('인', 'Josa'), ('iHQ', 'Alpha'), ('가다', 'Verb'), ('지', 'Modifier'), ('분', 'Noun'), ('30.61%', 'Number'), ('를', 'Noun'), ('보유', 'Noun'), ('하고', 'Josa'), ('있다', 'Adjective'), ('.', 'Punctuation'), ('이', 'Noun'), ('밖에', 'Josa'), ('한류', 'Noun'), ('AI', 'Alpha'), ('센터', 'Noun'), ('도', 'Josa'), ('팍스넷', 'Noun'), ('에', 'Josa'), ('인수', 'Noun'), ('되다', 'Verb'), ('가능성', 'Noun'), ('으로', 'Josa'), ('연일', 'Noun'), ('거래', 'Noun'), ('제', 'Modifier'), ('한', 'Modifier'), ('폭', 'Noun'), ('까지', 'Josa'), ('상승', 'Noun'), ('하다', 'Verb'), ('.', 'Punctuation'), ('디즈니', 'Noun'), ('애니메이션', 'Noun'), ('...', 'Punctuation'), ('[', 'Punctuation'), ('주요', 'Noun'), ('상승', 'Noun'), ('테마', 'Noun'), ('](*', 'Punctuation'), ('표시', 'Noun'), ('는', 'Josa'), ('코스닥', 'Noun'), ('종목', 'Noun'), (')', 'Punctuation'), ('▶', 'Foreign'), ('엔터테인먼트', 'Noun'), ('(+', 'Punctuation'), ('1.53%', 'Number'), (')', 'Foreign'), ('팬', 'Noun'), ('엔터테인먼트', 'Noun'), ('*(+', 'Punctuation'), ('4.44%', 'Number'), ('),', 'Foreign'), ('에스엠', 'Noun'), ('*(+', 'Punctuation'), ('3.28%', 'Number'), ('),', 'Foreign'), ('에프', 'Noun'), ('엔씨', 'Noun'), ('엔', 'Josa'), ('터', 'Noun'), ('*(+', 'Punctuation'), ('2.56%', 'Number'), ('),', 'Foreign'), ('와이지엔터테인먼트', 'Noun'), ('*(+', 'Punctuation'), ('2.56%', 'Number'), ('),', 'Foreign'), ('IHQ', 'Alpha'), ('(+', 'Punctuation'), ('12.01%', 'Number'), (')', 'Foreign'), ('▶', 'Foreign'), ('보험', 'Noun'), ('(+', 'Punctuation'), ('1.29%', 'Number'), (')', 'Foreign'), ('동양', 'Noun'), ('생명', 'Noun'), ('(+', 'Punctuation'), ('5.96', 'Number'), ('...', 'Punctuation'), ('42%', 'Number'), ('상승', 'Noun'), ('한', 'Josa'), ('14,800원', 'Number'), (',', 'Punctuation'), ('▲', 'Foreign'), ('IHQ', 'Alpha'), ('(', 'Punctuation'), ('003560', 'Number'), (')', 'Punctuation'), ('전일', 'Noun'), ('대비', 'Noun'), ('+', 'Punctuation'), ('12.01%', 'Number'), ('상승', 'Noun'), ('한', 'Josa'), ('2,005원', 'Number'), (',', 'Punctuation'), ('▲', 'Foreign'), ('SBS', 'Alpha'), ('미디어', 'Noun'), ('홀딩스', 'Noun'), ('(', 'Punctuation'), ('101060', 'Number'), (')', 'Punctuation'), ('전일', 'Noun'), ('대비', 'Noun'), ('+', 'Punctuation'), ('0.25%', 'Number'), ('상승', 'Noun'), ('한', 'Josa'), ('2,005원', 'Number'), (',', 'Punctuation'), ('▲', 'Foreign'), ('무학', 'Noun'), ('(', 'Punctuation'), ('033920', 'Number'), (')', 'Punctuation'), ('전일', 'Noun'), ('대비', 'Noun'), ('-', 'Punctuation'), ('0.75%', 'Number'), ('하락', 'Noun'), ('한', 'Josa'), ('9,210원', 'Number'), (',', 'Punctuation'), ('▲', 'Foreign'), ('롯데', 'Noun'), ('손해', 'Noun'), ('보험', 'Noun'), ('(', 'Punctuation'), ('000400', 'Number'), (')...', 'Punctuation'), ('22%', 'Number'), ('상승', 'Noun'), ('한', 'Josa'), ('가격', 'Noun'), ('이다', 'Josa'), ('.', 'Punctuation'), ('같다', 'Adjective'), ('기간', 'Noun'), ('SM', 'Alpha'), ('Life', 'Alpha'), ('Design', 'Alpha'), ('종목', 'Noun'), ('은', 'Josa'), ('+', 'Punctuation'), ('14.07%', 'Number'), ('로', 'Noun'), ('상승세', 'Noun'), ('를', 'Josa'), ('보이', 'Noun'), ('고', 'Josa'), ('있다', 'Adjective'), ('.', 'Punctuation'), ('이다', 'Verb'), ('팬', 'Noun'), ('엔터테인먼트', 'Noun'), ('종목', 'Noun'), ('은', 'Josa'), ('+', 'Punctuation'), ('8.34%', 'Number'), ('로', 'Noun'), ('상승', 'Noun'), ('하고', 'Josa'), ('있다', 'Adjective'), ('티비', 'Noun'), ('씨', 'Suffix'), ('종목', 'Noun'), ('은', 'Josa'), ('+', 'Punctuation'), ('6.51%', 'Number'), ('로', 'Noun'), ('상승', 'Noun'), (',', 'Punctuation'), ('IHQ', 'Alpha'), ('종목', 'Noun'), ('은', 'Josa'), ('+', 'Punctuation'), ('6.42%', 'Number'), ('로', 'Noun'), ('상승세', 'Noun'), ('를', 'Josa'), ('보이', 'Noun'), ('고', 'Josa'), ('있다', 'Adjective'), ('.', 'Punctuation'), ('[', 'Punctuation'), ('표', 'Noun'), (']', 'Punctuation'), ('외국인', 'Noun'), ('ㆍ', 'Foreign'), ('기관', 'Noun'), ('순', 'Modifier'), ('매', 'Modifier'), ('매', 'Modifier'), ('량', 'Noun'), ('(', 'Punctuation'), ('단위', 'Noun'), ('주', 'Noun'), (')', 'Punctuation'), ('[', 'Punctuation'), ('표', 'Noun'), (']', 'Punctuation'), ('주요', 'Noun'), ('기관', 'Noun'), ('별', 'Noun'), ('순', 'Modifier'), ('매', 'Modifier'), ('매', 'Modifier'), ('량', 'Noun'), ('(', 'Punctuation'), ('단위', 'Noun'), ('주', 'Noun'), (')', 'Punctuation'), ('※', 'Foreign'), ('사모펀드', 'Noun'), ('등', 'Noun'), ('일부', 'Noun'), ('기관', 'Noun'), ('의', 'Josa'), ('순', 'Modifier'), ('매', 'Modifier'), ('매', 'Modifier'), ('량', 'Noun'), ('은', 'Josa'), ('표시', 'Noun'), ('되다', 'Verb'), ('않다', 'Verb'), ('이', 'Noun'), ('시각', 'Noun'), ('거래소', 'Noun'), ('에서', 'Josa'), ('KNN', 'Alpha'), ('이외', 'Noun'), ('에도', 'Josa'), ('IHQ', 'Alpha'), ('(', 'Punctuation'), ('18.16%', 'Number'), ('),', 'Foreign'), ('큐브', 'Noun'), ('엔', 'Josa'), ('터', 'Noun'), ('(', 'Punctuation'), ('29.76%', 'Number'), ('),', 'Foreign'), ('코닉', 'Noun'), ('글로리', 'Noun'), ('...', 'Punctuation'), ('(', 'Punctuation'), ('단위', 'Noun'), ('주', 'Noun'), (')', 'Punctuation'), ('※', 'Foreign'), ('사모펀드', 'Noun'), ('등', 'Noun'), ('일부', 'Noun'), ('기관', 'Noun'), ('의', 'Josa'), ('순', 'Modifier'), ('매', 'Modifier'), ('매', 'Modifier'), ('량', 'Noun'), ('은', 'Josa'), ('표시', 'Noun'), ('되다', 'Verb'), ('않다', 'Verb'), ('이', 'Noun'), ('시각', 'Noun'), ('거래소', 'Noun'), ('에서', 'Josa'), ('한창', 'Noun'), ('제지', 'Noun'), ('이외', 'Noun'), ('에도', 'Josa'), ('푸드', 'Noun'), ('웰', 'Noun'), ('(', 'Punctuation'), ('5.31%', 'Number'), ('),', 'Foreign'), ('선광', 'Noun'), ('(', 'Punctuation'), ('5.26%', 'Number'), ('),', 'Foreign'), ('흥', 'Noun'), ('아', 'Josa'), ('해운', 'Noun'), ('(', 'Punctuation'), ('6.09%', 'Number'), ('),', 'Foreign'), ('IHQ', 'Alpha'), ('(', 'Punctuation'), ('6.42%', 'Number'), ('),', 'Foreign'), ('두산', 'Noun'), ('솔', 'Noun'), ('루스', 'Noun'), ('2', 'Number'), ('우', 'Adverb'), ('B', 'Alpha'), ('(', 'Punctuation'), ('5.04%', 'Number'), (')', 'Foreign'), ('등', 'Noun'), ('이', 'Josa'), ('상승세', 'Noun'), ('를', 'Josa'), ('보이', 'Noun'), ('고', 'Josa'), ('있다', 'Adjective'), ('.', 'Punctuation'), ('[', 'Punctuation'), ('그래프', 'Noun'), (']', 'Punctuation'), ('이월드', 'Noun'), ('일봉', 'Noun'), ('차트', 'Noun'), ('[', 'Punctuation'), ('표', 'Noun'), (']', 'Punctuation'), ('거래', 'Noun'), ('원', 'Suffix'), ('상위', 'Noun'), ('(', 'Punctuation'), ('09:13', 'Number'), ('기준', 'Noun'), (')', 'Punctuation'), ('이', 'Noun'), ('시각', 'Noun'), ('거래소', 'Noun'), ('에서', 'Josa'), ('이월드', 'Noun'), ('이외', 'Noun'), ('에도', 'Josa'), ('네오', 'Noun'), ('파다', 'Verb'), ('(', 'Punctuation'), ('5.14%', 'Number'), ('),', 'Foreign'), ('IHQ', 'Alpha'), ('(', 'Punctuation'), ('5.31%', 'Number'), ('),', 'Foreign'), ('시너지', 'Noun'), ('이노베이션', 'Noun'), ('(', 'Punctuation'), ('6.18%', 'Number'), ('),', 'Foreign'), ('유', 'Noun'), ('엔젤', 'Noun'), ('(', 'Punctuation'), ('20.35%', 'Number'), ('),', 'Foreign'), ('비씨', 'Noun'), ('월드', 'Noun'), ('제약', 'Noun'), ('(', 'Punctuation'), ('7.14%', 'Number'), (')', 'Foreign'), ('등', 'Noun'), ('이', 'Josa'), ('상승세', 'Noun'), ('를', 'Josa'), ('보이', 'Noun'), ('고', 'Josa'), ('있다', 'Adjective'), ('.', 'Punctuation'), ('[', 'Punctuation'), ('그래프', 'Noun'), (']', 'Punctuation'), ('삼성', 'Noun'), ('카드', 'Noun'), ('일봉', 'Noun'), ('차트', 'Noun'), ('[', 'Punctuation'), ('표', 'Noun'), (']', 'Punctuation'), ('거래', 'Noun'), ('원', 'Suffix'), ('상위', 'Noun'), ('(', 'Punctuation'), ('09:15', 'Number'), ('기준', 'Noun'), (')', 'Punctuation'), ('이', 'Noun'), ('시각', 'Noun'), ('거래소', 'Noun'), ('에서', 'Josa'), ('삼성', 'Noun'), ('카드', 'Noun'), ('이외', 'Noun'), ('에도', 'Josa'), ('남선', 'Noun'), ('알미늄', 'Noun'), ('(', 'Punctuation'), ('7.08%', 'Number'), ('),', 'Foreign'), ('양', 'Modifier'), ('지사', 'Noun'), ('(', 'Punctuation'), ('5.13%', 'Number'), ('),', 'Foreign'), ('대', 'Modifier'), ('호에이', 'Noun'), ('엘', 'Josa'), ('(', 'Punctuation'), ('5.87%', 'Number'), ('),', 'Foreign'), ('IHQ', 'Alpha'), ('(', 'Punctuation'), ('6.42%', 'Number'), ('),', 'Foreign'), ('이월드', 'Noun'), ('(', 'Punctuation'), ('5.02%', 'Number'), (')', 'Foreign'), ('등', 'Noun'), ('이', 'Josa'), ('상승세', 'Noun'), ('를', 'Josa'), ('보이', 'Noun'), ('고', 'Josa'), ('있다', 'Adjective'), ('.', 'Punctuation'), ('최근', 'Noun'), ('인수합병', 'Noun'), ('시장', 'Noun'), ('에', 'Josa'), ('매물', 'Noun'), ('로', 'Josa'), ('나오다', 'Verb'), ('큐브', 'Noun'), ('엔', 'Josa'), ('터', 'Noun'), ('는', 'Josa'), ('딜', 'Noun'), ('라이브', 'Noun'), ('자회사', 'Noun'), ('인', 'Josa'), ('iHQ', 'Alpha'), ('가다', 'Verb'), ('지', 'Modifier'), ('분', 'Noun'), ('30.61%', 'Number'), ('를', 'Noun'), ('보유', 'Noun'), ('하고', 'Josa'), ('있다', 'Adjective'), ('.', 'Punctuation'), ('이', 'Noun'), ('밖에', 'Josa'), ('한류', 'Noun'), ('AI', 'Alpha'), ('센터', 'Noun'), ('도', 'Josa'), ('팍스넷', 'Noun'), ('에', 'Josa'), ('인수', 'Noun'), ('되다', 'Verb'), ('가능성', 'Noun'), ('으로', 'Josa'), ('연일', 'Noun'), ('거래', 'Noun'), ('제', 'Modifier'), ('한', 'Modifier'), ('폭', 'Noun'), ('까지', 'Josa'), ('상승', 'Noun'), ('하다', 'Verb'), ('.', 'Punctuation'), ('디즈니', 'Noun'), ('애니메이션', 'Noun'), ('...', 'Punctuation'), ('[', 'Punctuation'), ('주요', 'Noun'), ('상승', 'Noun'), ('테마', 'Noun'), ('](*', 'Punctuation'), ('표시', 'Noun'), ('는', 'Josa'), ('코스닥', 'Noun'), ('종목', 'Noun'), (')', 'Punctuation'), ('▶', 'Foreign'), ('엔터테인먼트', 'Noun'), ('(+', 'Punctuation'), ('1.53%', 'Number'), (')', 'Foreign'), ('팬', 'Noun'), ('엔터테인먼트', 'Noun'), ('*(+', 'Punctuation'), ('4.44%', 'Number'), ('),', 'Foreign'), ('에스엠', 'Noun'), ('*(+', 'Punctuation'), ('3.28%', 'Number'), ('),', 'Foreign'), ('에프', 'Noun'), ('엔씨', 'Noun'), ('엔', 'Josa'), ('터', 'Noun'), ('*(+', 'Punctuation'), ('2.56%', 'Number'), ('),', 'Foreign'), ('와이지엔터테인먼트', 'Noun'), ('*(+', 'Punctuation'), ('2.56%', 'Number'), ('),', 'Foreign'), ('IHQ', 'Alpha'), ('(+', 'Punctuation'), ('12.01%', 'Number'), (')', 'Foreign'), ('▶', 'Foreign'), ('보험', 'Noun'), ('(+', 'Punctuation'), ('1.29%', 'Number'), (')', 'Foreign'), ('동양', 'Noun'), ('생명', 'Noun'), ('(+', 'Punctuation'), ('5.96', 'Number'), ('...', 'Punctuation'), ('42%', 'Number'), ('상승', 'Noun'), ('한', 'Josa'), ('14,800원', 'Number'), (',', 'Punctuation'), ('▲', 'Foreign'), ('IHQ', 'Alpha'), ('(', 'Punctuation'), ('003560', 'Number'), (')', 'Punctuation'), ('전일', 'Noun'), ('대비', 'Noun'), ('+', 'Punctuation'), ('12.01%', 'Number'), ('상승', 'Noun'), ('한', 'Josa'), ('2,005원', 'Number'), (',', 'Punctuation'), ('▲', 'Foreign'), ('SBS', 'Alpha'), ('미디어', 'Noun'), ('홀딩스', 'Noun'), ('(', 'Punctuation'), ('101060', 'Number'), (')', 'Punctuation'), ('전일', 'Noun'), ('대비', 'Noun'), ('+', 'Punctuation'), ('0.25%', 'Number'), ('상승', 'Noun'), ('한', 'Josa'), ('2,005원', 'Number'), (',', 'Punctuation'), ('▲', 'Foreign'), ('무학', 'Noun'), ('(', 'Punctuation'), ('033920', 'Number'), (')', 'Punctuation'), ('전일', 'Noun'), ('대비', 'Noun'), ('-', 'Punctuation'), ('0.75%', 'Number'), ('하락', 'Noun'), ('한', 'Josa'), ('9,210원', 'Number'), (',', 'Punctuation'), ('▲', 'Foreign'), ('롯데', 'Noun'), ('손해', 'Noun'), ('보험', 'Noun'), ('(', 'Punctuation'), ('000400', 'Number'), (')...', 'Punctuation'), ('22%', 'Number'), ('상승', 'Noun'), ('한', 'Josa'), ('가격', 'Noun'), ('이다', 'Josa'), ('.', 'Punctuation'), ('같다', 'Adjective'), ('기간', 'Noun'), ('SM', 'Alpha'), ('Life', 'Alpha'), ('Design', 'Alpha'), ('종목', 'Noun'), ('은', 'Josa'), ('+', 'Punctuation'), ('14.07%', 'Number'), ('로', 'Noun'), ('상승세', 'Noun'), ('를', 'Josa'), ('보이', 'Noun'), ('고', 'Josa'), ('있다', 'Adjective'), ('.', 'Punctuation'), ('이다', 'Verb'), ('팬', 'Noun'), ('엔터테인먼트', 'Noun'), ('종목', 'Noun'), ('은', 'Josa'), ('+', 'Punctuation'), ('8.34%', 'Number'), ('로', 'Noun'), ('상승', 'Noun'), ('하고', 'Josa'), ('있다', 'Adjective'), ('티비', 'Noun'), ('씨', 'Suffix'), ('종목', 'Noun'), ('은', 'Josa'), ('+', 'Punctuation'), ('6.51%', 'Number'), ('로', 'Noun'), ('상승', 'Noun'), (',', 'Punctuation'), ('IHQ', 'Alpha'), ('종목', 'Noun'), ('은', 'Josa'), ('+', 'Punctuation'), ('6.42%', 'Number'), ('로', 'Noun'), ('상승세', 'Noun'), ('를', 'Josa'), ('보이', 'Noun'), ('고', 'Josa'), ('있다', 'Adjective'), ('.', 'Punctuation'), ('[', 'Punctuation'), ('표', 'Noun'), (']', 'Punctuation'), ('외국인', 'Noun'), ('ㆍ', 'Foreign'), ('기관', 'Noun'), ('순', 'Modifier'), ('매', 'Modifier'), ('매', 'Modifier'), ('량', 'Noun'), ('(', 'Punctuation'), ('단위', 'Noun'), ('주', 'Noun'), (')', 'Punctuation'), ('[', 'Punctuation'), ('표', 'Noun'), (']', 'Punctuation'), ('주요', 'Noun'), ('기관', 'Noun'), ('별', 'Noun'), ('순', 'Modifier'), ('매', 'Modifier'), ('매', 'Modifier'), ('량', 'Noun'), ('(', 'Punctuation'), ('단위', 'Noun'), ('주', 'Noun'), (')', 'Punctuation'), ('※', 'Foreign'), ('사모펀드', 'Noun'), ('등', 'Noun'), ('일부', 'Noun'), ('기관', 'Noun'), ('의', 'Josa'), ('순', 'Modifier'), ('매', 'Modifier'), ('매', 'Modifier'), ('량', 'Noun'), ('은', 'Josa'), ('표시', 'Noun'), ('되다', 'Verb'), ('않다', 'Verb'), ('이', 'Noun'), ('시각', 'Noun'), ('거래소', 'Noun'), ('에서', 'Josa'), ('KNN', 'Alpha'), ('이외', 'Noun'), ('에도', 'Josa'), ('IHQ', 'Alpha'), ('(', 'Punctuation'), ('18.16%', 'Number'), ('),', 'Foreign'), ('큐브', 'Noun'), ('엔', 'Josa'), ('터', 'Noun'), ('(', 'Punctuation'), ('29.76%', 'Number'), ('),', 'Foreign'), ('코닉', 'Noun'), ('글로리', 'Noun'), ('...', 'Punctuation'), ('(', 'Punctuation'), ('단위', 'Noun'), ('주', 'Noun'), (')', 'Punctuation'), ('※', 'Foreign'), ('사모펀드', 'Noun'), ('등', 'Noun'), ('일부', 'Noun'), ('기관', 'Noun'), ('의', 'Josa'), ('순', 'Modifier'), ('매', 'Modifier'), ('매', 'Modifier'), ('량', 'Noun'), ('은', 'Josa'), ('표시', 'Noun'), ('되다', 'Verb'), ('않다', 'Verb'), ('이', 'Noun'), ('시각', 'Noun'), ('거래소', 'Noun'), ('에서', 'Josa'), ('한창', 'Noun'), ('제지', 'Noun'), ('이외', 'Noun'), ('에도', 'Josa'), ('푸드', 'Noun'), ('웰', 'Noun'), ('(', 'Punctuation'), ('5.31%', 'Number'), ('),', 'Foreign'), ('선광', 'Noun'), ('(', 'Punctuation'), ('5.26%', 'Number'), ('),', 'Foreign'), ('흥', 'Noun'), ('아', 'Josa'), ('해운', 'Noun'), ('(', 'Punctuation'), ('6.09%', 'Number'), ('),', 'Foreign'), ('IHQ', 'Alpha'), ('(', 'Punctuation'), ('6.42%', 'Number'), ('),', 'Foreign'), ('두산', 'Noun'), ('솔', 'Noun'), ('루스', 'Noun'), ('2', 'Number'), ('우', 'Adverb'), ('B', 'Alpha'), ('(', 'Punctuation'), ('5.04%', 'Number'), (')', 'Foreign'), ('등', 'Noun'), ('이', 'Josa'), ('상승세', 'Noun'), ('를', 'Josa'), ('보이', 'Noun'), ('고', 'Josa'), ('있다', 'Adjective'), ('.', 'Punctuation'), ('[', 'Punctuation'), ('그래프', 'Noun'), (']', 'Punctuation'), ('이월드', 'Noun'), ('일봉', 'Noun'), ('차트', 'Noun'), ('[', 'Punctuation'), ('표', 'Noun'), (']', 'Punctuation'), ('거래', 'Noun'), ('원', 'Suffix'), ('상위', 'Noun'), ('(', 'Punctuation'), ('09:13', 'Number'), ('기준', 'Noun'), (')', 'Punctuation'), ('이', 'Noun'), ('시각', 'Noun'), ('거래소', 'Noun'), ('에서', 'Josa'), ('이월드', 'Noun'), ('이외', 'Noun'), ('에도', 'Josa'), ('네오', 'Noun'), ('파다', 'Verb'), ('(', 'Punctuation'), ('5.14%', 'Number'), ('),', 'Foreign'), ('IHQ', 'Alpha'), ('(', 'Punctuation'), ('5.31%', 'Number'), ('),', 'Foreign'), ('시너지', 'Noun'), ('이노베이션', 'Noun'), ('(', 'Punctuation'), ('6.18%', 'Number'), ('),', 'Foreign'), ('유', 'Noun'), ('엔젤', 'Noun'), ('(', 'Punctuation'), ('20.35%', 'Number'), ('),', 'Foreign'), ('비씨', 'Noun'), ('월드', 'Noun'), ('제약', 'Noun'), ('(', 'Punctuation'), ('7.14%', 'Number'), (')', 'Foreign'), ('등', 'Noun'), ('이', 'Josa'), ('상승세', 'Noun'), ('를', 'Josa'), ('보이', 'Noun'), ('고', 'Josa'), ('있다', 'Adjective'), ('.', 'Punctuation'), ('[', 'Punctuation'), ('그래프', 'Noun'), (']', 'Punctuation'), ('삼성', 'Noun'), ('카드', 'Noun'), ('일봉', 'Noun'), ('차트', 'Noun'), ('[', 'Punctuation'), ('표', 'Noun'), (']', 'Punctuation'), ('거래', 'Noun'), ('원', 'Suffix'), ('상위', 'Noun'), ('(', 'Punctuation'), ('09:15', 'Number'), ('기준', 'Noun'), (')', 'Punctuation'), ('이', 'Noun'), ('시각', 'Noun'), ('거래소', 'Noun'), ('에서', 'Josa'), ('삼성', 'Noun'), ('카드', 'Noun'), ('이외', 'Noun'), ('에도', 'Josa'), ('남선', 'Noun'), ('알미늄', 'Noun'), ('(', 'Punctuation'), ('7.08%', 'Number'), ('),', 'Foreign'), ('양', 'Modifier'), ('지사', 'Noun'), ('(', 'Punctuation'), ('5.13%', 'Number'), ('),', 'Foreign'), ('대', 'Modifier'), ('호에이', 'Noun'), ('엘', 'Josa'), ('(', 'Punctuation'), ('5.87%', 'Number'), ('),', 'Foreign'), ('IHQ', 'Alpha'), ('(', 'Punctuation'), ('6.42%', 'Number'), ('),', 'Foreign'), ('이월드', 'Noun'), ('(', 'Punctuation'), ('5.02%', 'Number'), (')', 'Foreign'), ('등', 'Noun'), ('이', 'Josa'), ('상승세', 'Noun'), ('를', 'Josa'), ('보이', 'Noun'), ('고', 'Josa'), ('있다', 'Adjective'), ('.', 'Punctuation'), ('[', 'Punctuation'), ('그래프', 'Noun'), (']', 'Punctuation'), ('삼성', 'Noun'), ('카드', 'Noun'), ('일봉', 'Noun'), ('차트', 'Noun'), ('[', 'Punctuation'), ('표', 'Noun'), (']', 'Punctuation'), ('거래', 'Noun'), ('원', 'Suffix'), ('상위', 'Noun'), ('(', 'Punctuation'), ('09:15', 'Number'), ('기준', 'Noun'), (')', 'Punctuation'), ('이', 'Noun'), ('시각', 'Noun'), ('거래소', 'Noun'), ('에서', 'Josa'), ('삼성', 'Noun'), ('카드', 'Noun'), ('이외', 'Noun'), ('에도', 'Josa'), ('남선', 'Noun'), ('알미늄', 'Noun'), ('(', 'Punctuation'), ('7.08%', 'Number'), ('),', 'Foreign'), ('양', 'Modifier'), ('지사', 'Noun'), ('(', 'Punctuation'), ('5.13%', 'Number'), ('),', 'Foreign'), ('대', 'Modifier'), ('호에이', 'Noun'), ('엘', 'Josa'), ('(', 'Punctuation'), ('5.87%', 'Number'), ('),', 'Foreign'), ('IHQ', 'Alpha'), ('(', 'Punctuation'), ('6.42%', 'Number'), ('),', 'Foreign'), ('이월드', 'Noun'), ('(', 'Punctuation'), ('5.02%', 'Number'), (')', 'Foreign'), ('등', 'Noun'), ('이', 'Josa'), ('상승세', 'Noun'), ('를', 'Josa'), ('보이', 'Noun'), ('고', 'Josa'), ('있다', 'Adjective'), ('.', 'Punctuation'), ('[', 'Punctuation'), ('그래프', 'Noun'), (']', 'Punctuation'), ('삼성', 'Noun'), ('카드', 'Noun'), ('일봉', 'Noun'), ('차트', 'Noun'), ('[', 'Punctuation'), ('표', 'Noun'), (']', 'Punctuation'), ('거래', 'Noun'), ('원', 'Suffix'), ('상위', 'Noun'), ('(', 'Punctuation'), ('09:15', 'Number'), ('기준', 'Noun'), (')', 'Punctuation'), ('이', 'Noun'), ('시각', 'Noun'), ('거래소', 'Noun'), ('에서', 'Josa'), ('삼성', 'Noun'), ('카드', 'Noun'), ('이외', 'Noun'), ('에도', 'Josa'), ('남선', 'Noun'), ('알미늄', 'Noun'), ('(', 'Punctuation'), ('7.08%', 'Number'), ('),', 'Foreign'), ('양', 'Modifier'), ('지사', 'Noun'), ('(', 'Punctuation'), ('5.13%', 'Number'), ('),', 'Foreign'), ('대', 'Modifier'), ('호에이', 'Noun'), ('엘', 'Josa'), ('(', 'Punctuation'), ('5.87%', 'Number'), ('),', 'Foreign'), ('IHQ', 'Alpha'), ('(', 'Punctuation'), ('6.42%', 'Number'), ('),', 'Foreign'), ('이월드', 'Noun'), ('(', 'Punctuation'), ('5.02%', 'Number'), (')', 'Foreign'), ('등', 'Noun'), ('이', 'Josa'), ('상승세', 'Noun'), ('를', 'Josa'), ('보이', 'Noun'), ('고', 'Josa'), ('있다', 'Adjective'), ('.', 'Punctuation'), ('[', 'Punctuation'), ('그래프', 'Noun'), (']', 'Punctuation'), ('삼성', 'Noun'), ('카드', 'Noun'), ('일봉', 'Noun'), ('차트', 'Noun'), ('[', 'Punctuation'), ('표', 'Noun'), (']', 'Punctuation'), ('거래', 'Noun'), ('원', 'Suffix'), ('상위', 'Noun'), ('(', 'Punctuation'), ('09:15', 'Number'), ('기준', 'Noun'), (')', 'Punctuation'), ('이', 'Noun'), ('시각', 'Noun'), ('거래소', 'Noun'), ('에서', 'Josa'), ('삼성', 'Noun'), ('카드', 'Noun'), ('이외', 'Noun'), ('에도', 'Josa'), ('남선', 'Noun'), ('알미늄', 'Noun'), ('(', 'Punctuation'), ('7.08%', 'Number'), ('),', 'Foreign'), ('양', 'Modifier'), ('지사', 'Noun'), ('(', 'Punctuation'), ('5.13%', 'Number'), ('),', 'Foreign'), ('대', 'Modifier'), ('호에이', 'Noun'), ('엘', 'Josa'), ('(', 'Punctuation'), ('5.87%', 'Number'), ('),', 'Foreign'), ('IHQ', 'Alpha'), ('(', 'Punctuation'), ('6.42%', 'Number'), ('),', 'Foreign'), ('이월드', 'Noun'), ('(', 'Punctuation'), ('5.02%', 'Number'), (')', 'Foreign'), ('등', 'Noun'), ('이', 'Josa'), ('상승세', 'Noun'), ('를', 'Josa'), ('보이', 'Noun'), ('고', 'Josa'), ('있다', 'Adjective'), ('.', 'Punctuation'), ('[', 'Punctuation'), ('그래프', 'Noun'), (']', 'Punctuation'), ('삼성', 'Noun'), ('카드', 'Noun'), ('일봉', 'Noun'), ('차트', 'Noun'), ('[', 'Punctuation'), ('표', 'Noun'), (']', 'Punctuation'), ('거래', 'Noun'), ('원', 'Suffix'), ('상위', 'Noun'), ('(', 'Punctuation'), ('09:15', 'Number'), ('기준', 'Noun'), (')', 'Punctuation'), ('이', 'Noun'), ('시각', 'Noun'), ('거래소', 'Noun'), ('에서', 'Josa'), ('삼성', 'Noun'), ('카드', 'Noun'), ('이외', 'Noun'), ('에도', 'Josa'), ('남선', 'Noun'), ('알미늄', 'Noun'), ('(', 'Punctuation'), ('7.08%', 'Number'), ('),', 'Foreign'), ('양', 'Modifier'), ('지사', 'Noun'), ('(', 'Punctuation'), ('5.13%', 'Number'), ('),', 'Foreign'), ('대', 'Modifier'), ('호에이', 'Noun'), ('엘', 'Josa'), ('(', 'Punctuation'), ('5.87%', 'Number'), ('),', 'Foreign'), ('IHQ', 'Alpha'), ('(', 'Punctuation'), ('6.42%', 'Number'), ('),', 'Foreign'), ('이월드', 'Noun'), ('(', 'Punctuation'), ('5.02%', 'Number'), (')', 'Foreign'), ('등', 'Noun'), ('이', 'Josa'), ('상승세', 'Noun'), ('를', 'Josa'), ('보이', 'Noun'), ('고', 'Josa'), ('있다', 'Adjective'), ('.', 'Punctuation'), ('▲', 'Foreign'), ('(', 'Punctuation'), ('42', 'Number'), ('위', 'Noun'), (')', 'Punctuation'), ('IHQ', 'Alpha'), (',', 'Punctuation'), ('주간', 'Noun'), ('거래', 'Noun'), ('량', 'Noun'), (':', 'Punctuation'), ('약', 'Noun'), ('5', 'Number'), ('백', 'Modifier'), ('만주', 'Noun'), (',', 'Punctuation'), ('주간', 'Noun'), ('변동', 'Noun'), ('폭', 'Noun'), (':', 'Punctuation'), ('3.72%', 'Number'), ('상승', 'Noun'), (',', 'Punctuation'), ('65원', 'Number'), ('상승', 'Noun'), ('(', 'Punctuation'), ('30일', 'Number'), ('IHQ', 'Alpha'), ('종가', 'Noun'), (':', 'Punctuation'), ('1745원', 'Number'), (',', 'Punctuation'), ('3일', 'Number'), ('주가', 'Noun'), (':', 'Punctuation'), ('1810원', 'Number'), ('),', 'Punctuation'), ('IHQ', 'Alpha'), ('주간', 'Noun'), ('거래', 'Noun'), ('대', 'Modifier'), ('금은', 'Noun'), ('약', 'Noun'), ('103억원', 'Number'), ('을', 'Foreign'), ('기록', 'Noun'), ('하다', 'Verb'), ('.', 'Punctuation'), ('▲', 'Foreign'), ('(', 'Punctuation'), ('43', 'Number'), ('위', 'Noun'), (')', 'Punctuation'), ('콤텍', 'Noun'), ('시스템', 'Noun'), (',', 'Punctuation'), ('주간', 'Noun'), ('거래', 'Noun'), ('량', 'Noun'), (':', 'Punctuation'), ('약', 'Noun'), ('...', 'Punctuation'), ('그', 'Noun'), ('는', 'Josa'), ('△', 'Foreign'), ('주류', 'Noun'), ('과세', 'Noun'), ('체계', 'Noun'), ('개편', 'Noun'), ('(', 'Punctuation'), ('하이트진로', 'Noun'), (',', 'Punctuation'), ('롯데', 'Noun'), ('칠성', 'Noun'), (')', 'Punctuation'), ('△', 'Foreign'), ('온라인', 'Noun'), ('투', 'Noun'), ('자연계', 'Noun'), ('금융업', 'Noun'), ('법', 'Noun'), ('시행', 'Noun'), ('(', 'Punctuation'), ('카카오', 'Noun'), (')', 'Punctuation'), ('△', 'Foreign'), ('영상', 'Noun'), ('콘텐츠', 'Noun'), ('제작', 'Noun'), ('비용', 'Noun'), ('세액', 'Noun'), ('공제', 'Noun'), ('(', 'Punctuation'), ('제이', 'Noun'), ('콘텐트', 'Noun'), ('리', 'Noun'), (',', 'Punctuation'), ('초록', 'Noun'), ('뱀', 'Noun'), (',', 'Punctuation'), ('IHQ', 'Alpha'), (',', 'Punctuation'), ('오로라', 'Noun'), (')', 'Punctuation'), ('를', 'Noun'), ('주목', 'Noun'), ('하', 'Suffix'), ('라고', 'Josa'), ('조언', 'Noun'), ('하다', 'Verb'), ('.', 'Punctuation'), ('기획재정부', 'Noun'), ('는', 'Josa'), ('2020년', 'Number'), ('...', 'Punctuation'), ('이다', 'Verb'), ('웹툰', 'Noun'), ('창작가', 'Noun'), (',', 'Punctuation'), ('드라마', 'Noun'), ('작가', 'Noun'), (',', 'Punctuation'), ('프로듀서', 'Noun'), ('등', 'Noun'), ('콘텐츠', 'Noun'), ('관련', 'Noun'), ('핵심', 'Noun'), ('인력', 'Noun'), ('의', 'Josa'), ('몸값', 'Noun'), ('상승', 'Noun'), ('으로', 'Josa'), ('이어지다', 'Verb'), ('있다', 'Adjective'), ('\"', 'Punctuation'), ('며', 'Noun'), ('\"', 'Punctuation'), ('스튜디오', 'Noun'), ('드래곤', 'Noun'), ('외', 'Noun'), ('에도', 'Josa'), ('콘텐츠', 'Noun'), ('제작', 'Noun'), ('경험', 'Noun'), ('·', 'Punctuation'), ('능력', 'Noun'), ('을', 'Josa'), ('보유', 'Noun'), ('한', 'Josa'), ('업체', 'Noun'), ('들', 'Suffix'), ('(', 'Punctuation'), ('제이', 'Noun'), ('콘텐트', 'Noun'), ('리', 'Noun'), (',', 'Punctuation'), ('초록', 'Noun'), ('뱀', 'Noun'), (',', 'Punctuation'), ('IHQ', 'Alpha'), (',', 'Punctuation'), ('오로라', 'Noun'), ('등', 'Noun'), (')', 'Punctuation'), ('에', 'Josa'), ('...', 'Punctuation'), ('이다', 'Verb'), ('웹툰', 'Noun'), ('창작가', 'Noun'), (',', 'Punctuation'), ('드라마', 'Noun'), ('작가', 'Noun'), (',', 'Punctuation'), ('프로듀서', 'Noun'), ('등', 'Noun'), ('콘텐츠', 'Noun'), ('관련', 'Noun'), ('핵심', 'Noun'), ('인력', 'Noun'), ('의', 'Josa'), ('몸값', 'Noun'), ('상승', 'Noun'), ('으로', 'Josa'), ('이어지다', 'Verb'), ('있다', 'Adjective'), ('\"', 'Punctuation'), ('며', 'Noun'), ('\"', 'Punctuation'), ('스튜디오', 'Noun'), ('드래곤', 'Noun'), ('외', 'Noun'), ('에도', 'Josa'), ('콘텐츠', 'Noun'), ('제작', 'Noun'), ('경험', 'Noun'), ('·', 'Punctuation'), ('능력', 'Noun'), ('을', 'Josa'), ('보유', 'Noun'), ('한', 'Josa'), ('업체', 'Noun'), ('들', 'Suffix'), ('(', 'Punctuation'), ('제이', 'Noun'), ('콘텐트', 'Noun'), ('리', 'Noun'), (',', 'Punctuation'), ('초록', 'Noun'), ('뱀', 'Noun'), (',', 'Punctuation'), ('IHQ', 'Alpha'), (',', 'Punctuation'), ('오로라', 'Noun'), ('등', 'Noun'), (')', 'Punctuation'), ('에', 'Josa'), ('...', 'Punctuation'), ('이다', 'Verb'), ('웹툰', 'Noun'), ('창작가', 'Noun'), (',', 'Punctuation'), ('드라마', 'Noun'), ('작가', 'Noun'), (',', 'Punctuation'), ('프로듀서', 'Noun'), ('등', 'Noun'), ('콘텐츠', 'Noun'), ('관련', 'Noun'), ('핵심', 'Noun'), ('인력', 'Noun'), ('의', 'Josa'), ('몸값', 'Noun'), ('상승', 'Noun'), ('으로', 'Josa'), ('이어지다', 'Verb'), ('있다', 'Adjective'), ('\"', 'Punctuation'), ('며', 'Noun'), ('\"', 'Punctuation'), ('스튜디오', 'Noun'), ('드래곤', 'Noun'), ('외', 'Noun'), ('에도', 'Josa'), ('콘텐츠', 'Noun'), ('제작', 'Noun'), ('경험', 'Noun'), ('·', 'Punctuation'), ('능력', 'Noun'), ('을', 'Josa'), ('보유', 'Noun'), ('한', 'Josa'), ('업체', 'Noun'), ('들', 'Suffix'), ('(', 'Punctuation'), ('제이', 'Noun'), ('콘텐트', 'Noun'), ('리', 'Noun'), (',', 'Punctuation'), ('초록', 'Noun'), ('뱀', 'Noun'), (',', 'Punctuation'), ('IHQ', 'Alpha'), (',', 'Punctuation'), ('오로라', 'Noun'), ('등', 'Noun'), (')', 'Punctuation'), ('에', 'Josa'), ('...', 'Punctuation'), ('이다', 'Verb'), ('웹툰', 'Noun'), ('창작가', 'Noun'), (',', 'Punctuation'), ('드라마', 'Noun'), ('작가', 'Noun'), (',', 'Punctuation'), ('프로듀서', 'Noun'), ('등', 'Noun'), ('콘텐츠', 'Noun'), ('관련', 'Noun'), ('핵심', 'Noun'), ('인력', 'Noun'), ('의', 'Josa'), ('몸값', 'Noun'), ('상승', 'Noun'), ('으로', 'Josa'), ('이어지다', 'Verb'), ('있다', 'Adjective'), ('\"', 'Punctuation'), ('며', 'Noun'), ('\"', 'Punctuation'), ('스튜디오', 'Noun'), ('드래곤', 'Noun'), ('외', 'Noun'), ('에도', 'Josa'), ('콘텐츠', 'Noun'), ('제작', 'Noun'), ('경험', 'Noun'), ('·', 'Punctuation'), ('능력', 'Noun'), ('을', 'Josa'), ('보유', 'Noun'), ('한', 'Josa'), ('업체', 'Noun'), ('들', 'Suffix'), ('(', 'Punctuation'), ('제이', 'Noun'), ('콘텐트', 'Noun'), ('리', 'Noun'), (',', 'Punctuation'), ('초록', 'Noun'), ('뱀', 'Noun'), (',', 'Punctuation'), ('IHQ', 'Alpha'), (',', 'Punctuation'), ('오로라', 'Noun'), ('등', 'Noun'), (')', 'Punctuation'), ('에', 'Josa'), ('...', 'Punctuation'), ('이다', 'Verb'), ('웹툰', 'Noun'), ('창작가', 'Noun'), (',', 'Punctuation'), ('드라마', 'Noun'), ('작가', 'Noun'), (',', 'Punctuation'), ('프로듀서', 'Noun'), ('등', 'Noun'), ('콘텐츠', 'Noun'), ('관련', 'Noun'), ('핵심', 'Noun'), ('인력', 'Noun'), ('의', 'Josa'), ('몸값', 'Noun'), ('상승', 'Noun'), ('으로', 'Josa'), ('이어지다', 'Verb'), ('있다', 'Adjective'), ('\"', 'Punctuation'), ('며', 'Noun'), ('\"', 'Punctuation'), ('스튜디오', 'Noun'), ('드래곤', 'Noun'), ('외', 'Noun'), ('에도', 'Josa'), ('콘텐츠', 'Noun'), ('제작', 'Noun'), ('경험', 'Noun'), ('·', 'Punctuation'), ('능력', 'Noun'), ('을', 'Josa'), ('보유', 'Noun'), ('한', 'Josa'), ('업체', 'Noun'), ('들', 'Suffix'), ('(', 'Punctuation'), ('제이', 'Noun'), ('콘텐트', 'Noun'), ('리', 'Noun'), (',', 'Punctuation'), ('초록', 'Noun'), ('뱀', 'Noun'), (',', 'Punctuation'), ('IHQ', 'Alpha'), (',', 'Punctuation'), ('오로라', 'Noun'), ('등', 'Noun'), (')', 'Punctuation'), ('에', 'Josa'), ('...', 'Punctuation'), ('이다', 'Verb'), ('웹툰', 'Noun'), ('창작가', 'Noun'), (',', 'Punctuation'), ('드라마', 'Noun'), ('작가', 'Noun'), (',', 'Punctuation'), ('프로듀서', 'Noun'), ('등', 'Noun'), ('콘텐츠', 'Noun'), ('관련', 'Noun'), ('핵심', 'Noun'), ('인력', 'Noun'), ('의', 'Josa'), ('몸값', 'Noun'), ('상승', 'Noun'), ('으로', 'Josa'), ('이어지다', 'Verb'), ('있다', 'Adjective'), ('\"', 'Punctuation'), ('며', 'Noun'), ('\"', 'Punctuation'), ('스튜디오', 'Noun'), ('드래곤', 'Noun'), ('외', 'Noun'), ('에도', 'Josa'), ('콘텐츠', 'Noun'), ('제작', 'Noun'), ('경험', 'Noun'), ('·', 'Punctuation'), ('능력', 'Noun'), ('을', 'Josa'), ('보유', 'Noun'), ('한', 'Josa'), ('업체', 'Noun'), ('들', 'Suffix'), ('(', 'Punctuation'), ('제이', 'Noun'), ('콘텐트', 'Noun'), ('리', 'Noun'), (',', 'Punctuation'), ('초록', 'Noun'), ('뱀', 'Noun'), (',', 'Punctuation'), ('IHQ', 'Alpha'), (',', 'Punctuation'), ('오로라', 'Noun'), ('등', 'Noun'), (')', 'Punctuation'), ('에', 'Josa'), ('...', 'Punctuation'), ('이다', 'Verb'), ('웹툰', 'Noun'), ('창작가', 'Noun'), (',', 'Punctuation'), ('드라마', 'Noun'), ('작가', 'Noun'), (',', 'Punctuation'), ('프로듀서', 'Noun'), ('등', 'Noun'), ('콘텐츠', 'Noun'), ('관련', 'Noun'), ('핵심', 'Noun'), ('인력', 'Noun'), ('의', 'Josa'), ('몸값', 'Noun'), ('상승', 'Noun'), ('으로', 'Josa'), ('이어지다', 'Verb'), ('있다', 'Adjective'), ('\"', 'Punctuation'), ('며', 'Noun'), ('\"', 'Punctuation'), ('스튜디오', 'Noun'), ('드래곤', 'Noun'), ('외', 'Noun'), ('에도', 'Josa'), ('콘텐츠', 'Noun'), ('제작', 'Noun'), ('경험', 'Noun'), ('·', 'Punctuation'), ('능력', 'Noun'), ('을', 'Josa'), ('보유', 'Noun'), ('한', 'Josa'), ('업체', 'Noun'), ('들', 'Suffix'), ('(', 'Punctuation'), ('제이', 'Noun'), ('콘텐트', 'Noun'), ('리', 'Noun'), (',', 'Punctuation'), ('초록', 'Noun'), ('뱀', 'Noun'), (',', 'Punctuation'), ('IHQ', 'Alpha'), (',', 'Punctuation'), ('오로라', 'Noun'), ('등', 'Noun'), (')', 'Punctuation'), ('에', 'Josa'), ('...', 'Punctuation'), ('이다', 'Verb'), ('웹툰', 'Noun'), ('창작가', 'Noun'), (',', 'Punctuation'), ('드라마', 'Noun'), ('작가', 'Noun'), (',', 'Punctuation'), ('프로듀서', 'Noun'), ('등', 'Noun'), ('콘텐츠', 'Noun'), ('관련', 'Noun'), ('핵심', 'Noun'), ('인력', 'Noun'), ('의', 'Josa'), ('몸값', 'Noun'), ('상승', 'Noun'), ('으로', 'Josa'), ('이어지다', 'Verb'), ('있다', 'Adjective'), ('\"', 'Punctuation'), ('며', 'Noun'), ('\"', 'Punctuation'), ('스튜디오', 'Noun'), ('드래곤', 'Noun'), ('외', 'Noun'), ('에도', 'Josa'), ('콘텐츠', 'Noun')]\n"
     ]
    }
   ],
   "source": [
    "from konlpy.tag import Okt\n",
    "\n",
    "tokenizer = Okt()\n",
    "raw_pos_tagged = tokenizer.pos(articles, norm=True, stem=True) # POS Tagging\n",
    "print(raw_pos_tagged)"
   ]
  },
  {
   "cell_type": "code",
   "execution_count": null,
   "metadata": {
    "colab": {
     "base_uri": "https://localhost:8080/"
    },
    "id": "uCa9ci_IY0Qx",
    "outputId": "9c600f93-78a1-4866-b621-7cf250004d68"
   },
   "outputs": [
    {
     "data": {
      "text/plain": [
       "1456"
      ]
     },
     "execution_count": 80,
     "metadata": {},
     "output_type": "execute_result"
    }
   ],
   "source": [
    "del_list = ['를', '이', '은', '는', '있다', '하다', '에']\n",
    "\n",
    "word_cleaned = []\n",
    "for word in raw_pos_tagged:\n",
    "    if not word[1] in [\"Josa\", \"Eomi\", \"Punctuation\", \"Foreign\",\"Number\",\"Determiner\",\"Verb\"]: # Foreign == ”, “ 와 같이 제외되어야할 항목들\n",
    "        if (len(word[0]) != 1) & (word[0] not in del_list): # 한 글자로 이뤄진 단어들을 제외 & 원치 않는 단어들을 제외, 대신 \"안, 못\"같은 것까지 같이 지워져서 긍정,부정을 파악해야 되는경우는 제외하지 않는다.\n",
    "            word_cleaned.append(word[0])\n",
    "\n",
    "#print(word_cleaned)\n",
    "len(word_cleaned)"
   ]
  },
  {
   "cell_type": "code",
   "execution_count": null,
   "metadata": {
    "colab": {
     "base_uri": "https://localhost:8080/"
    },
    "id": "0iUe0YoRY5iG",
    "outputId": "fe2f8ea3-0cff-470d-9670-9f257fd313f2"
   },
   "outputs": [
    {
     "name": "stdout",
     "output_type": "stream",
     "text": [
      "{'현재': 13, 'IHQ': 87, '전일': 22, '대비': 22, '등락': 1, '기록': 4, '투자자': 2, '화제': 1, '최고': 1, '종가': 2, '높다': 4, '기준': 19, '거래': 35, '상위': 17, '종목': 22, '차지': 1, '주가': 4, '상승': 45, '지정': 2, '상한': 1, '큐브': 18, '엔터테인먼트': 25, '승률': 4, '보이': 28, '가장': 1, '많이': 1, '일과': 1, '비교': 2, '가격': 4, '같다': 5, '기간': 4, '상승세': 26, 'Design': 6, '방송': 6, '티비': 8, '웨이': 4, '각각': 2, 'VI': 1, '발동': 1, '연관': 3, '테마': 7, '초록': 12, 'CJ': 3, 'ENM': 3, 'SM': 9, 'amp': 5, 'NEW': 5, '삼화': 4, '네트웍': 4, '그래프': 19, '차트': 18, '분석': 1, '주체': 1, '매매': 2, '동향': 2, '외국인': 8, '대량': 1, '매도': 1, '지난': 1, '기관': 14, '경로': 1, '뉴스': 3, '기사': 3, '한국': 4, '신문': 1, '금융': 2, 'AI': 6, '전문': 2, '기업': 3, '풀이': 2, '모두': 1, '상장': 5, '식수': 3, '거래량': 4, '적정': 1, '수준': 1, '최근': 5, '이투데이': 1, '고종': 1, '기자': 1, '매각': 4, '추진': 1, '가능성': 6, '강세': 1, '오전': 1, '오른': 5, '중이': 2, '최대': 5, '주인': 1, '라이브': 8, '회사': 1, '투자': 2, '은행': 1, 'IB': 1, '업계': 1, '국민': 1, '유선': 1, '채권': 1, '자회사': 7, '연예기획사': 2, '케이블': 1, '운영': 1, '보유': 15, '그동안': 1, '차례': 1, '시가총액': 1, '회전': 1, '하루': 1, '로보': 1, '종합': 3, '미디어': 5, '사업': 1, '위업': 1, '체인': 1, '초반': 1, '일봉': 17, '공동': 1, '개발': 3, '동생': 1, '알고리즘': 1, '테마주': 1, '견인': 1, '모양': 1, '코스피': 2, '기업인': 1, '비율': 1, '주주': 4, '인수': 5, '후보': 1, '국내': 1, '코스': 1, '중국': 1, '재무': 2, '화이': 3, '브라더스': 3, '코리아': 2, '스튜디오': 10, '드래곤': 10, '덱스터': 2, 'ideograph': 6, 'numeric': 3, 'other': 3, 'word': 3, 'break': 3, 'keep': 3, 'all': 3, 'gt': 2, 'GS': 2, '리테일': 2, 'DB': 2, '하이': 2, '드라마': 9, '제작사': 1, 'SK': 1, 'LG': 2, '이노': 1, '전자': 3, '현대': 2, '제철': 1, '현대차': 1, '삼성': 18, 'SDI': 1, '엔지니어링': 1, '강원랜드': 1, '화재': 1, '로템': 1, '카드': 15, '두산': 5, '루스': 5, '시각': 23, '거래소': 22, '이외': 22, '이월드': 15, '제넥신': 1, '비씨': 6, '월드': 6, '제약': 6, '이상': 1, '가운데': 1, '건전성': 1, '다섯': 1, '남선': 9, '알미늄': 11, '지수': 2, '코스닥': 5, '하락': 5, '전체': 1, '정기': 2, '신원': 2, '이엠': 1, '아이': 1, '티라유텍': 2, '제강': 1, '글로벌': 2, '티케': 2, '케미칼': 2, '부국': 1, '철강': 1, '노바': 1, '해운': 4, '와이': 2, '나우': 1, '아이비': 1, '캐피탈': 1, '덕양': 1, '산업': 3, '엔젤': 4, '테크놀로지': 3, '아시아나': 1, 'IDT': 1, '로봇': 2, 'SDN': 1, '잭스': 1, '에프': 5, '퓨전': 2, '데이타': 2, 'Life': 4, '마시스': 1, '오리엔트': 1, '정공': 1, '인수합병': 4, '시장': 4, '매물': 4, 'iHQ': 6, '한류': 4, '센터': 4, '팍스넷': 4, '연일': 4, '디즈니': 4, '애니메이션': 4, '주요': 7, '표시': 10, '에스엠': 4, '엔씨': 4, '와이지엔터테인먼트': 4, '보험': 8, '동양': 4, '생명': 4, 'SBS': 4, '홀딩스': 4, '무학': 4, '롯데': 5, '손해': 4, '보라': 2, '티알': 2, '컴포텍': 2, '제이': 10, '코닉': 5, '글로리': 5, '피플': 2, 'GV': 2, '맥스': 2, '통해': 2, 'JYP': 2, '소속사': 2, '정지훈': 2, '포미닛': 2, '비스트': 2, '인기': 2, '가수': 2, '단위': 9, '사모펀드': 6, '일부': 6, 'KNN': 3, '한창': 3, '제지': 3, '푸드': 3, '선광': 3, '네오': 3, '시너지': 3, '이노베이션': 3, '지사': 7, '호에이': 7, '주간': 4, '만주': 1, '변동': 1, '금은': 1, '콤텍': 1, '시스템': 1, '주류': 1, '과세': 1, '체계': 1, '개편': 1, '하이트진로': 1, '칠성': 1, '온라인': 1, '자연계': 1, '금융업': 1, '시행': 1, '카카오': 1, '영상': 1, '콘텐츠': 17, '제작': 8, '비용': 1, '세액': 1, '공제': 1, '콘텐트': 8, '오로라': 8, '주목': 1, '조언': 1, '기획재정부': 1, '웹툰': 8, '창작가': 8, '작가': 8, '프로듀서': 8, '관련': 8, '핵심': 8, '인력': 8, '몸값': 8, '경험': 7, '능력': 7, '업체': 7}\n"
     ]
    }
   ],
   "source": [
    "from collections import Counter\n",
    "\n",
    "result = Counter(word_cleaned)\n",
    "word_dic = dict(result)\n",
    "print(word_dic)\n"
   ]
  },
  {
   "cell_type": "code",
   "execution_count": null,
   "metadata": {
    "colab": {
     "base_uri": "https://localhost:8080/"
    },
    "id": "itDwJECBY7ar",
    "outputId": "d4fa1f4f-bdf9-4d02-cd3c-8f75fb338ace"
   },
   "outputs": [
    {
     "name": "stdout",
     "output_type": "stream",
     "text": [
      "[('IHQ', 87), ('상승', 45), ('거래', 35), ('보이', 28), ('상승세', 26), ('엔터테인먼트', 25), ('시각', 23), ('전일', 22), ('대비', 22), ('종목', 22), ('거래소', 22), ('이외', 22), ('기준', 19), ('그래프', 19), ('큐브', 18), ('차트', 18), ('삼성', 18), ('상위', 17), ('일봉', 17), ('콘텐츠', 17), ('보유', 15), ('카드', 15), ('이월드', 15), ('기관', 14), ('현재', 13), ('초록', 12), ('알미늄', 11), ('스튜디오', 10), ('드래곤', 10), ('표시', 10), ('제이', 10), ('SM', 9), ('드라마', 9), ('남선', 9), ('단위', 9), ('티비', 8), ('외국인', 8), ('라이브', 8), ('보험', 8), ('제작', 8), ('콘텐트', 8), ('오로라', 8), ('웹툰', 8), ('창작가', 8), ('작가', 8), ('프로듀서', 8), ('관련', 8), ('핵심', 8), ('인력', 8), ('몸값', 8), ('테마', 7), ('자회사', 7), ('주요', 7), ('지사', 7), ('호에이', 7), ('경험', 7), ('능력', 7), ('업체', 7), ('Design', 6), ('방송', 6), ('AI', 6), ('가능성', 6), ('ideograph', 6), ('비씨', 6), ('월드', 6), ('제약', 6), ('iHQ', 6), ('사모펀드', 6), ('일부', 6), ('같다', 5), ('amp', 5), ('NEW', 5), ('상장', 5), ('최근', 5), ('오른', 5), ('최대', 5), ('미디어', 5), ('인수', 5), ('두산', 5), ('루스', 5), ('코스닥', 5), ('하락', 5), ('에프', 5), ('롯데', 5), ('코닉', 5), ('글로리', 5), ('기록', 4), ('높다', 4), ('주가', 4), ('승률', 4), ('가격', 4), ('기간', 4), ('웨이', 4), ('삼화', 4), ('네트웍', 4), ('한국', 4), ('거래량', 4), ('매각', 4), ('주주', 4), ('해운', 4), ('엔젤', 4), ('Life', 4), ('인수합병', 4), ('시장', 4), ('매물', 4), ('한류', 4), ('센터', 4), ('팍스넷', 4), ('연일', 4), ('디즈니', 4), ('애니메이션', 4), ('에스엠', 4), ('엔씨', 4), ('와이지엔터테인먼트', 4), ('동양', 4), ('생명', 4), ('SBS', 4), ('홀딩스', 4), ('무학', 4), ('손해', 4), ('주간', 4), ('연관', 3), ('CJ', 3), ('ENM', 3), ('뉴스', 3), ('기사', 3), ('기업', 3), ('식수', 3), ('종합', 3), ('개발', 3), ('화이', 3), ('브라더스', 3), ('numeric', 3), ('other', 3), ('word', 3), ('break', 3), ('keep', 3), ('all', 3), ('전자', 3), ('산업', 3), ('테크놀로지', 3), ('KNN', 3), ('한창', 3), ('제지', 3), ('푸드', 3), ('선광', 3), ('네오', 3), ('시너지', 3), ('이노베이션', 3), ('투자자', 2), ('종가', 2), ('지정', 2), ('비교', 2), ('각각', 2), ('매매', 2), ('동향', 2), ('금융', 2), ('전문', 2), ('풀이', 2), ('중이', 2), ('투자', 2), ('연예기획사', 2), ('코스피', 2), ('재무', 2), ('코리아', 2), ('덱스터', 2), ('gt', 2), ('GS', 2), ('리테일', 2), ('DB', 2), ('하이', 2), ('LG', 2), ('현대', 2), ('지수', 2), ('정기', 2), ('신원', 2), ('티라유텍', 2), ('글로벌', 2), ('티케', 2), ('케미칼', 2), ('와이', 2), ('로봇', 2), ('퓨전', 2), ('데이타', 2), ('보라', 2), ('티알', 2), ('컴포텍', 2), ('피플', 2), ('GV', 2), ('맥스', 2), ('통해', 2), ('JYP', 2), ('소속사', 2), ('정지훈', 2), ('포미닛', 2), ('비스트', 2), ('인기', 2), ('가수', 2), ('등락', 1), ('화제', 1), ('최고', 1), ('차지', 1), ('상한', 1), ('가장', 1), ('많이', 1), ('일과', 1), ('VI', 1), ('발동', 1), ('분석', 1), ('주체', 1), ('대량', 1), ('매도', 1), ('지난', 1), ('경로', 1), ('신문', 1), ('모두', 1), ('적정', 1), ('수준', 1), ('이투데이', 1), ('고종', 1), ('기자', 1), ('추진', 1), ('강세', 1), ('오전', 1), ('주인', 1), ('회사', 1), ('은행', 1), ('IB', 1), ('업계', 1), ('국민', 1), ('유선', 1), ('채권', 1), ('케이블', 1), ('운영', 1), ('그동안', 1), ('차례', 1), ('시가총액', 1), ('회전', 1), ('하루', 1), ('로보', 1), ('사업', 1), ('위업', 1), ('체인', 1), ('초반', 1), ('공동', 1), ('동생', 1), ('알고리즘', 1), ('테마주', 1), ('견인', 1), ('모양', 1), ('기업인', 1), ('비율', 1), ('후보', 1), ('국내', 1), ('코스', 1), ('중국', 1), ('제작사', 1), ('SK', 1), ('이노', 1), ('제철', 1), ('현대차', 1), ('SDI', 1), ('엔지니어링', 1), ('강원랜드', 1), ('화재', 1), ('로템', 1), ('제넥신', 1), ('이상', 1), ('가운데', 1), ('건전성', 1), ('다섯', 1), ('전체', 1), ('이엠', 1), ('아이', 1), ('제강', 1), ('부국', 1), ('철강', 1), ('노바', 1), ('나우', 1), ('아이비', 1), ('캐피탈', 1), ('덕양', 1), ('아시아나', 1), ('IDT', 1), ('SDN', 1), ('잭스', 1), ('마시스', 1), ('오리엔트', 1), ('정공', 1), ('만주', 1), ('변동', 1), ('금은', 1), ('콤텍', 1), ('시스템', 1), ('주류', 1), ('과세', 1), ('체계', 1), ('개편', 1), ('하이트진로', 1), ('칠성', 1), ('온라인', 1), ('자연계', 1), ('금융업', 1), ('시행', 1), ('카카오', 1), ('영상', 1), ('비용', 1), ('세액', 1), ('공제', 1), ('주목', 1), ('조언', 1), ('기획재정부', 1)]\n"
     ]
    }
   ],
   "source": [
    "sorted_word_dic = sorted(word_dic.items(), key=lambda x:x[1], reverse=True)\n",
    "print(sorted_word_dic)"
   ]
  },
  {
   "cell_type": "code",
   "execution_count": null,
   "metadata": {
    "colab": {
     "base_uri": "https://localhost:8080/",
     "height": 504
    },
    "id": "tjxhftN0Y9jb",
    "outputId": "69183fa9-663a-4b5d-fd60-f5314756b138"
   },
   "outputs": [
    {
     "data": {
      "image/png": "[encoded data removed]",
      "text/plain": [
       "<Figure size 1080x504 with 1 Axes>"
      ]
     },
     "metadata": {
      "needs_background": "light"
     },
     "output_type": "display_data"
    },
    {
     "data": {
      "text/plain": [
       "<matplotlib.axes._subplots.AxesSubplot at 0x7f5b91dfc9d0>"
      ]
     },
     "execution_count": 83,
     "metadata": {},
     "output_type": "execute_result"
    }
   ],
   "source": [
    "import nltk\n",
    "import matplotlib\n",
    "import matplotlib.pyplot as plt\n",
    "from matplotlib import font_manager, rc\n",
    "\n",
    "\n",
    "\n",
    "word_counted = nltk.Text(word_cleaned)\n",
    "plt.rc('font', family='NanumBarunGothic')\n",
    "plt.figure(figsize=(15,7))\n",
    "word_counted.plot(50)"
   ]
  },
  {
   "cell_type": "code",
   "execution_count": null,
   "metadata": {
    "id": "D1dEyXd6_-RU"
   },
   "outputs": [],
   "source": []
  }
 ],
 "metadata": {
  "colab": {
   "provenance": []
  },
  "kernelspec": {
   "display_name": "Python 3 (ipykernel)",
   "language": "python",
   "name": "python3"
  },
  "language_info": {
   "codemirror_mode": {
    "name": "ipython",
    "version": 3
   },
   "file_extension": ".py",
   "mimetype": "text/x-python",
   "name": "python",
   "nbconvert_exporter": "python",
   "pygments_lexer": "ipython3",
   "version": "3.10.9"
  }
 },
 "nbformat": 4,
 "nbformat_minor": 1
}
